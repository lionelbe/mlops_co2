{
 "cells": [
  {
   "cell_type": "code",
   "execution_count": 17,
   "id": "920fcf26",
   "metadata": {},
   "outputs": [],
   "source": [
    "import pytz\n",
    "import numpy as np\n",
    "import pandas as pd\n",
    "from datetime import datetime\n",
    "from joblib import dump\n",
    "\n",
    "from sklearn.metrics import mean_absolute_error\n",
    "from sklearn import preprocessing\n",
    "from sklearn.model_selection import GridSearchCV\n",
    "from sklearn.model_selection import train_test_split\n",
    "from sklearn.linear_model import SGDRegressor\n",
    "from sklearn.compose import TransformedTargetRegressor\n",
    "\n"
   ]
  },
  {
   "cell_type": "code",
   "execution_count": 18,
   "id": "6cbdceb5",
   "metadata": {},
   "outputs": [],
   "source": [
    "path_to_data = 'my_dataset.csv'\n",
    "\n",
    "def get_dataset_from_file(path_to_data):\n",
    "    \"\"\" Get data from original file \"\"\"\n",
    "\n",
    "    df = pd.read_csv(path_to_data)\n",
    "\n",
    "    return df"
   ]
  },
  {
   "cell_type": "code",
   "execution_count": 19,
   "id": "38f8d5aa",
   "metadata": {},
   "outputs": [],
   "source": [
    "path_to_data = 'my_dataset.csv'\n",
    "\n",
    "\n",
    "def get_dataset_from_file(path_to_data):\n",
    "    \"\"\" Get data from original file \"\"\"\n",
    "\n",
    "    df = pd.read_csv(path_to_data)\n",
    "\n",
    "    return df\n",
    "\n",
    "\n",
    "def clean_dataset(df):\n",
    "    \"\"\" Get only good columns for model and clean/replace data from NaN values \"\"\"\n",
    "\n",
    "    default_column = ['marque', 'modele', 'carburant', 'hybride', 'puiss_admin', 'puiss_max', 'boite_v', 'co2']\n",
    "\n",
    "    # get column\n",
    "    df = df[default_column]\n",
    "\n",
    "    # replace NaN value and fill null\n",
    "    df['hybride'] = df['hybride'].astype(str).replace(['nan'], ['non']).fillna('non')\n",
    "    df = df.dropna(subset=['co2'])\n",
    "\n",
    "    # reset index\n",
    "    df = df.reset_index().drop('index', axis=1)\n",
    "\n",
    "    return df\n",
    "\n",
    "\n",
    "def encode_variables(df):\n",
    "    \"\"\" Encode categorial variables variables \"\"\"\n",
    "\n",
    "    # select numeric variables\n",
    "    var_num = df[['puiss_admin', 'puiss_max', 'co2']]\n",
    "\n",
    "    # select  categorial variables\n",
    "    var_cat = df[['marque', 'modele', 'carburant', 'hybride', 'boite_v']]\n",
    "\n",
    "    le = preprocessing.LabelEncoder()\n",
    "\n",
    "    df_cat_encoded = pd.DataFrame()\n",
    "\n",
    "    for column in var_cat.columns:\n",
    "        column_encoded = le.fit_transform(var_cat[column])\n",
    "        column_encoded = pd.DataFrame({column: column_encoded})\n",
    "        df_cat_encoded = pd.concat([df_cat_encoded, column_encoded], axis=1)\n",
    "\n",
    "    df = pd.DataFrame(pd.concat([df_cat_encoded, var_num], axis=1))\n",
    "\n",
    "    return df\n",
    "\n",
    "\n",
    "def get_clean_dataset():\n",
    "    \"\"\" Pipeline to get clean data \"\"\"\n",
    "\n",
    "    df = get_dataset_from_file(path_to_data)\n",
    "    df = clean_dataset(df)\n",
    "    df = encode_variables(df)\n",
    "\n",
    "    return df\n",
    "\n",
    "\n",
    "def split_dataset():\n",
    "    \"\"\" Split data set with data and target values \"\"\"\n",
    "\n",
    "    df = get_clean_dataset()\n",
    "    data = df.drop(['co2'], axis=1)\n",
    "    target = df['co2']\n",
    "\n",
    "    return data, target\n",
    "\n",
    "\n",
    "def preprocess_train_test_set():\n",
    "    \"\"\" Split trainin and testing test, normalize and apply Smotting\"\"\"\n",
    "\n",
    "    data, target = split_dataset()\n",
    "\n",
    "    X_train, X_test, y_train, y_test = train_test_split(data, target, test_size=0.2)\n",
    "\n",
    "    scaler = preprocessing.RobustScaler().fit(X_train)\n",
    "\n",
    "    X_train_scaled = scaler.transform(X_train)\n",
    "    X_test_scaled = scaler.transform(X_test)\n",
    "\n",
    "    X_train = pd.DataFrame(X_train_scaled, columns=X_train.columns)\n",
    "    X_test = pd.DataFrame(X_test_scaled, columns=X_test.columns)\n",
    "\n",
    "    return X_train, X_test, y_train, y_test\n",
    "\n",
    "\n",
    "def pull_last_model_xcom_value(key='mean_absolute_error', index=-1):\n",
    "\n",
    "    execution_date = datetime.now(pytz.utc)\n",
    "    xcom_entries = XCom.get_many(\n",
    "        execution_date=execution_date, task_ids=None, include_prior_dates=True\n",
    "    )\n",
    "    xcom_values = [xcom.value for xcom in xcom_entries if xcom.key == key]\n",
    "\n",
    "    if xcom_values:\n",
    "        return xcom_values[index]\n",
    "    else:\n",
    "        return None\n",
    "\n",
    "\n",
    "def perform_grid_search(data, target):\n",
    "    \"\"\" Fir model with grid search \"\"\"\n",
    "\n",
    "    params_sgdr = {\n",
    "        'regressor__penalty': ['l1', 'l2'],\n",
    "        'regressor__alpha': np.linspace(0, 0.0002, 3),\n",
    "        'regressor__epsilon': np.linspace(0, 0.2, 3)\n",
    "    }\n",
    "    \n",
    "    grid_sgdr = GridSearchCV(\n",
    "        TransformedTargetRegressor(regressor=SGDRegressor()),\n",
    "        param_grid=params_sgdr,\n",
    "        cv=2,\n",
    "        scoring=(\"r2\", \"neg_mean_absolute_error\"),\n",
    "        refit='neg_mean_absolute_error',\n",
    "        return_train_score=True,\n",
    "        verbose=0,\n",
    "        n_jobs=-1\n",
    "    )\n",
    "\n",
    "    grid_sgdr.fit(data, target)\n",
    "\n",
    "    return grid_sgdr\n",
    "\n",
    "\n",
    "def predict_score():\n",
    "    ''' Calculates score for prediction'''\n",
    "\n",
    "    X_train, X_test, y_train, y_test = preprocess_train_test_set()\n",
    "\n",
    "    grid_sgdr = perform_grid_search(X_train, y_train)\n",
    "\n",
    "    y_pred = grid_sgdr.predict(X_test)\n",
    "\n",
    "    mae = np.round(np.round(mean_absolute_error(y_test, y_pred)), 2)\n",
    "\n",
    "\n",
    "\n"
   ]
  },
  {
   "cell_type": "code",
   "execution_count": 20,
   "id": "26971c5b",
   "metadata": {},
   "outputs": [
    {
     "data": {
      "text/html": [
       "<pre style=\"white-space:pre;overflow-x:auto;line-height:normal;font-family:Menlo,'DejaVu Sans Mono',consolas,'Courier New',monospace\"><span style=\"color: #808000; text-decoration-color: #808000; font-weight: bold\">/var/folders/lk/j9zjfrq14kdc8c_kvzx2p9q80000gn/T/ipykernel_62257/4231051493.py:</span><span style=\"color: #808000; text-decoration-color: #808000; font-weight: bold\">21</span><span style=\"color: #808000; text-decoration-color: #808000; font-weight: bold\"> SettingWithCopyWarning</span><span style=\"color: #808000; text-decoration-color: #808000\">:</span>\n",
       "<span style=\"color: #808000; text-decoration-color: #808000\">A value is trying to be set on a copy of a slice from a DataFrame.</span>\n",
       "<span style=\"color: #808000; text-decoration-color: #808000\">Try using .loc</span><span style=\"color: #808000; text-decoration-color: #808000; font-weight: bold\">[</span><span style=\"color: #808000; text-decoration-color: #808000\">row_indexer,col_indexer</span><span style=\"color: #808000; text-decoration-color: #808000; font-weight: bold\">]</span><span style=\"color: #808000; text-decoration-color: #808000\"> = value instead</span>\n",
       "\n",
       "<span style=\"color: #808000; text-decoration-color: #808000\">See the caveats in the documentation: </span><span style=\"color: #808000; text-decoration-color: #808000; text-decoration: underline\">https://pandas.pydata.org/pandas-docs/stable/user_guide/indexing.html#returning-a-view-versus-a-copy</span>\n",
       "</pre>\n"
      ],
      "text/plain": [
       "\u001b[1;33m/var/folders/lk/j9zjfrq14kdc8c_kvzx2p9q80000gn/T/ipykernel_62257/\u001b[0m\u001b[1;33m4231051493.py\u001b[0m\u001b[1;33m:\u001b[0m\u001b[1;33m21\u001b[0m\u001b[1;33m SettingWithCopyWarning\u001b[0m\u001b[33m:\u001b[0m\n",
       "\u001b[33mA value is trying to be set on a copy of a slice from a DataFrame.\u001b[0m\n",
       "\u001b[33mTry using .loc\u001b[0m\u001b[1;33m[\u001b[0m\u001b[33mrow_indexer,col_indexer\u001b[0m\u001b[1;33m]\u001b[0m\u001b[33m = value instead\u001b[0m\n",
       "\n",
       "\u001b[33mSee the caveats in the documentation: \u001b[0m\u001b[4;33mhttps://pandas.pydata.org/pandas-docs/stable/user_guide/indexing.html#returning-a-view-versus-a-copy\u001b[0m\n"
      ]
     },
     "metadata": {},
     "output_type": "display_data"
    },
    {
     "name": "stdout",
     "output_type": "stream",
     "text": [
      "[199.09691141 228.37942953 195.4245785  ... 217.20172135 200.87863616\n",
      " 216.50799555]\n"
     ]
    }
   ],
   "source": [
    "X_train, X_test, y_train, y_test = preprocess_train_test_set()\n",
    "\n",
    "grid_sgdr = perform_grid_search(X_train, y_train)\n",
    "\n",
    "y_pred = grid_sgdr.predict(X_test)\n",
    "print(y_pred)\n",
    "\n",
    "mae = np.round(np.round(mean_absolute_error(y_test, y_pred)), 2)"
   ]
  },
  {
   "cell_type": "code",
   "execution_count": 22,
   "id": "0df68871",
   "metadata": {},
   "outputs": [],
   "source": [
    "\n",
    "from sklearn.preprocessing import StandardScaler\n",
    "\n",
    "scaler = StandardScaler()\n"
   ]
  },
  {
   "cell_type": "code",
   "execution_count": 24,
   "id": "aee87e36",
   "metadata": {},
   "outputs": [
    {
     "data": {
      "text/html": [
       "<pre style=\"white-space:pre;overflow-x:auto;line-height:normal;font-family:Menlo,'DejaVu Sans Mono',consolas,'Courier New',monospace\"><span style=\"color: #808000; text-decoration-color: #808000; font-weight: bold\">/var/folders/lk/j9zjfrq14kdc8c_kvzx2p9q80000gn/T/ipykernel_62257/4231051493.py:</span><span style=\"color: #808000; text-decoration-color: #808000; font-weight: bold\">21</span><span style=\"color: #808000; text-decoration-color: #808000; font-weight: bold\"> SettingWithCopyWarning</span><span style=\"color: #808000; text-decoration-color: #808000\">:</span>\n",
       "<span style=\"color: #808000; text-decoration-color: #808000\">A value is trying to be set on a copy of a slice from a DataFrame.</span>\n",
       "<span style=\"color: #808000; text-decoration-color: #808000\">Try using .loc</span><span style=\"color: #808000; text-decoration-color: #808000; font-weight: bold\">[</span><span style=\"color: #808000; text-decoration-color: #808000\">row_indexer,col_indexer</span><span style=\"color: #808000; text-decoration-color: #808000; font-weight: bold\">]</span><span style=\"color: #808000; text-decoration-color: #808000\"> = value instead</span>\n",
       "\n",
       "<span style=\"color: #808000; text-decoration-color: #808000\">See the caveats in the documentation: </span><span style=\"color: #808000; text-decoration-color: #808000; text-decoration: underline\">https://pandas.pydata.org/pandas-docs/stable/user_guide/indexing.html#returning-a-view-versus-a-copy</span>\n",
       "</pre>\n"
      ],
      "text/plain": [
       "\u001b[1;33m/var/folders/lk/j9zjfrq14kdc8c_kvzx2p9q80000gn/T/ipykernel_62257/\u001b[0m\u001b[1;33m4231051493.py\u001b[0m\u001b[1;33m:\u001b[0m\u001b[1;33m21\u001b[0m\u001b[1;33m SettingWithCopyWarning\u001b[0m\u001b[33m:\u001b[0m\n",
       "\u001b[33mA value is trying to be set on a copy of a slice from a DataFrame.\u001b[0m\n",
       "\u001b[33mTry using .loc\u001b[0m\u001b[1;33m[\u001b[0m\u001b[33mrow_indexer,col_indexer\u001b[0m\u001b[1;33m]\u001b[0m\u001b[33m = value instead\u001b[0m\n",
       "\n",
       "\u001b[33mSee the caveats in the documentation: \u001b[0m\u001b[4;33mhttps://pandas.pydata.org/pandas-docs/stable/user_guide/indexing.html#returning-a-view-versus-a-copy\u001b[0m\n"
      ]
     },
     "metadata": {},
     "output_type": "display_data"
    },
    {
     "name": "stdout",
     "output_type": "stream",
     "text": [
      "       marque  modele  carburant  hybride  boite_v  puiss_admin  puiss_max\n",
      "0           0      77          1        0        7          7.0       77.0\n",
      "1           0      77          1        0        7          8.0       88.0\n",
      "2           0      77          1        0        7          7.0       77.0\n",
      "3           0      77          1        0        7          8.0       88.0\n",
      "4           0      77          1        0        7         10.0      110.0\n",
      "...       ...     ...        ...      ...      ...          ...        ...\n",
      "70006      14     105          7        0        8          6.0       88.0\n",
      "70007      14     105          7        0        8          9.0      121.0\n",
      "70008      14     105          7        0        8          9.0      121.0\n",
      "70009      24     192          7        0        8          6.0       88.0\n",
      "70010      24     192          7        0        8         11.0      139.0\n",
      "\n",
      "[70011 rows x 7 columns]\n",
      "              0         1         2         3         4         5         6\n",
      "0     -4.651273 -2.483723 -2.059812 -0.043791  0.703345 -0.787043 -0.934021\n",
      "1     -4.651273 -2.483723 -2.059812 -0.043791  0.703345 -0.604282 -0.713713\n",
      "2     -4.651273 -2.483723 -2.059812 -0.043791  0.703345 -0.787043 -0.934021\n",
      "3     -4.651273 -2.483723 -2.059812 -0.043791  0.703345 -0.604282 -0.713713\n",
      "4     -4.651273 -2.483723 -2.059812 -0.043791  0.703345 -0.238760 -0.273097\n",
      "...         ...       ...       ...       ...       ...       ...       ...\n",
      "70006 -2.489257 -2.272035  0.487669 -0.043791  1.012742 -0.969804 -0.713713\n",
      "70007 -2.489257 -2.272035  0.487669 -0.043791  1.012742 -0.421521 -0.052788\n",
      "70008 -2.489257 -2.272035  0.487669 -0.043791  1.012742 -0.421521 -0.052788\n",
      "70009 -0.944959 -1.614292  0.487669 -0.043791  1.012742 -0.969804 -0.713713\n",
      "70010 -0.944959 -1.614292  0.487669 -0.043791  1.012742 -0.056000  0.307716\n",
      "\n",
      "[70011 rows x 7 columns]\n"
     ]
    }
   ],
   "source": [
    "data, target = split_dataset()\n",
    "print(data)\n",
    "scaler = StandardScaler()\n",
    "\n",
    "datav2 = scaler.fit_transform(data)\n",
    "print(pd.DataFrame(datav2))"
   ]
  },
  {
   "cell_type": "code",
   "execution_count": 15,
   "id": "69318fda",
   "metadata": {},
   "outputs": [
    {
     "data": {
      "text/html": [
       "<pre style=\"white-space:pre;overflow-x:auto;line-height:normal;font-family:Menlo,'DejaVu Sans Mono',consolas,'Courier New',monospace\"><span style=\"color: #808000; text-decoration-color: #808000; font-weight: bold\">/var/folders/lk/j9zjfrq14kdc8c_kvzx2p9q80000gn/T/ipykernel_62257/4231051493.py:</span><span style=\"color: #808000; text-decoration-color: #808000; font-weight: bold\">21</span><span style=\"color: #808000; text-decoration-color: #808000; font-weight: bold\"> SettingWithCopyWarning</span><span style=\"color: #808000; text-decoration-color: #808000\">:</span>\n",
       "<span style=\"color: #808000; text-decoration-color: #808000\">A value is trying to be set on a copy of a slice from a DataFrame.</span>\n",
       "<span style=\"color: #808000; text-decoration-color: #808000\">Try using .loc</span><span style=\"color: #808000; text-decoration-color: #808000; font-weight: bold\">[</span><span style=\"color: #808000; text-decoration-color: #808000\">row_indexer,col_indexer</span><span style=\"color: #808000; text-decoration-color: #808000; font-weight: bold\">]</span><span style=\"color: #808000; text-decoration-color: #808000\"> = value instead</span>\n",
       "\n",
       "<span style=\"color: #808000; text-decoration-color: #808000\">See the caveats in the documentation: </span><span style=\"color: #808000; text-decoration-color: #808000; text-decoration: underline\">https://pandas.pydata.org/pandas-docs/stable/user_guide/indexing.html#returning-a-view-versus-a-copy</span>\n",
       "</pre>\n"
      ],
      "text/plain": [
       "\u001b[1;33m/var/folders/lk/j9zjfrq14kdc8c_kvzx2p9q80000gn/T/ipykernel_62257/\u001b[0m\u001b[1;33m4231051493.py\u001b[0m\u001b[1;33m:\u001b[0m\u001b[1;33m21\u001b[0m\u001b[1;33m SettingWithCopyWarning\u001b[0m\u001b[33m:\u001b[0m\n",
       "\u001b[33mA value is trying to be set on a copy of a slice from a DataFrame.\u001b[0m\n",
       "\u001b[33mTry using .loc\u001b[0m\u001b[1;33m[\u001b[0m\u001b[33mrow_indexer,col_indexer\u001b[0m\u001b[1;33m]\u001b[0m\u001b[33m = value instead\u001b[0m\n",
       "\n",
       "\u001b[33mSee the caveats in the documentation: \u001b[0m\u001b[4;33mhttps://pandas.pydata.org/pandas-docs/stable/user_guide/indexing.html#returning-a-view-versus-a-copy\u001b[0m\n"
      ]
     },
     "metadata": {},
     "output_type": "display_data"
    },
    {
     "data": {
      "text/plain": [
       "['new_trained_model_regressorv2.joblib']"
      ]
     },
     "execution_count": 15,
     "metadata": {},
     "output_type": "execute_result"
    }
   ],
   "source": [
    "\n",
    "datav2 = preprocessing.RobustScaler().fit_transform(data)\n",
    "\n",
    "trained_model = perform_grid_search(data, target)\n",
    "\n",
    "dump(trained_model, 'new_trained_model_regressor.joblib')\n"
   ]
  },
  {
   "cell_type": "code",
   "execution_count": null,
   "id": "69689d01",
   "metadata": {},
   "outputs": [],
   "source": []
  }
 ],
 "metadata": {
  "kernelspec": {
   "display_name": "Python 3 (ipykernel)",
   "language": "python",
   "name": "python3"
  },
  "language_info": {
   "codemirror_mode": {
    "name": "ipython",
    "version": 3
   },
   "file_extension": ".py",
   "mimetype": "text/x-python",
   "name": "python",
   "nbconvert_exporter": "python",
   "pygments_lexer": "ipython3",
   "version": "3.8.12"
  }
 },
 "nbformat": 4,
 "nbformat_minor": 5
}
