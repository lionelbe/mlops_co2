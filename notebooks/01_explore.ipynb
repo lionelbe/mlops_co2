{
 "cells": [
  {
   "cell_type": "markdown",
   "id": "5852b106",
   "metadata": {},
   "source": [
    "## Exploration"
   ]
  },
  {
   "cell_type": "markdown",
   "id": "581e4611",
   "metadata": {},
   "source": [
    "Simple exploration des données et datasets."
   ]
  },
  {
   "cell_type": "code",
   "execution_count": 1,
   "id": "f9869b5c",
   "metadata": {},
   "outputs": [],
   "source": [
    "import pandas as pd\n",
    "\n",
    "pd.options.display.max_columns = 50"
   ]
  },
  {
   "cell_type": "code",
   "execution_count": 3,
   "id": "1bcb738a",
   "metadata": {},
   "outputs": [],
   "source": [
    "# necessite la librairie xlrd\n",
    "# pip install xlrd\n",
    "\n",
    "df_2001 = pd.read_excel(\"datasets/2001_1-fic_etiq_edition_janvier2001.xls\")\n",
    "df_2002 = pd.read_excel(\"datasets/2002_3-fic_etiq_edition_01_maj_dec2002.xls\")\n",
    "df_2003 = pd.read_excel(\"datasets/2003_4-fic_etiq_edition_01_maj_MARS2003.xls\")\n",
    "df_2004 = pd.read_excel(\"datasets/2004_6-fic_etiq_edition_jan_2004.xls\")\n",
    "df_2005 = pd.read_excel(\"datasets/2005_7-fic_etiq_edition_janvier2005.xls\")\n",
    "df_2006 = pd.read_excel(\"datasets/2006_8-fic_etiq_edition_janvier2006.xls\")\n",
    "df_2007 = pd.read_excel(\"datasets/2007_9-fic_etiq_edition_janvier_2007.xls\")\n",
    "df_2008 = pd.read_excel(\"datasets/2008_11-fic_etiq_edition_juillet_2008.xls\")\n",
    "df_2009 = pd.read_excel(\"datasets/2009_12-fic_etiq_edition_avril_2009.xls\")\n",
    "df_2010 = pd.read_excel(\"datasets/2010_16-fic_etiq_edition_mai_2010.xls\")\n",
    "df_2011 = pd.read_excel(\"datasets/2011_BASE CL MAJ JUIN 2011.xls\")\n"
   ]
  },
  {
   "cell_type": "code",
   "execution_count": null,
   "id": "32313adf",
   "metadata": {},
   "outputs": [],
   "source": [
    "df_2012 = pd.read_csv(\"datasets/2012_BASE CL MAJ JUIN 2012.csv\", sep=';',encoding = 'latin-1')\n",
    "df_2013 = pd.read_csv(\"datasets/2013_cl_JUIN_2013-complet3.csv\", sep=';',encoding = 'latin-1')\n",
    "df_2014 = pd.read_csv(\"datasets/2014_mars-2014-complete.csv\", sep=';',encoding = 'latin-1')\n",
    "df_2015 = pd.read_csv(\"datasets/2015_fic_etiq_edition_40-mars-2015.csv\", sep=';',encoding = 'latin-1')\n"
   ]
  },
  {
   "cell_type": "code",
   "execution_count": null,
   "id": "3df9fe95",
   "metadata": {},
   "outputs": [],
   "source": [
    "df_list = [df_2001, df_2002, df_2003, df_2004, df_2005, df_2006, \n",
    "         df_2007, df_2008, df_2009, df_2010, df_2011, df_2012,\n",
    "         df_2013, df_2014, df_2015]\n",
    "i = 2000\n",
    "\n",
    "for d in df_list :\n",
    "    i+=1\n",
    "    print(i,\":\")\n",
    "    print(d.columns)\n",
    "    print(d.shape)\n",
    "    print()"
   ]
  },
  {
   "cell_type": "code",
   "execution_count": null,
   "id": "7dd19024",
   "metadata": {},
   "outputs": [],
   "source": [
    "# ajout des entetes au dataset 2006\n",
    "df_2006.columns = ['marque', 'modele', 'cnit', 'tvv', 'carburant', \n",
    "                   'puiss_admin', 'puiss_max', 'boite_v', \n",
    "                   'conso_urb', 'conso_exurb', 'conso_mixte', \n",
    "                   'co2', 'date_maj']"
   ]
  },
  {
   "cell_type": "code",
   "execution_count": null,
   "id": "95bb6ebf",
   "metadata": {},
   "outputs": [],
   "source": [
    "df_2006.head()"
   ]
  },
  {
   "cell_type": "markdown",
   "id": "fb6aff48",
   "metadata": {},
   "source": [
    "### Variables"
   ]
  },
  {
   "cell_type": "markdown",
   "id": "7140f453",
   "metadata": {},
   "source": [
    "cnit, mine,<br>\n",
    "marque, modele, dscom,<br>\n",
    "carburant, hybride,<br>\n",
    "puiss_admin, puiss_max, boite_v, conso_urb, conso_exurb, conso_mixte,<br>\n",
    "masse_v_min, masse_v_max,<br>\n",
    "co2, co_typ_1, hc, nox, hcnox, particules<br>\n",
    "\n",
    "(voir si on conserve tout)"
   ]
  },
  {
   "cell_type": "markdown",
   "id": "50d67a1f",
   "metadata": {},
   "source": [
    "| variable | dénominations<br/>(datasets originaux) | descriptions |  | \n",
    "| --- | --- | --- | --: | \n",
    "| **cnit** | cnit, CNIT | Code National d'Identification du Type | <td rowspan=\"2\">**Identification du véhicule**</td>\n",
    "| **mine** | tvv, Type Variante Version (TVV) | Type mine |\n",
    "| **marque** | lib_mrq_doss, Marque | Marque | <td rowspan=\"3\">**Marque / modèle**</td>\n",
    "| **modele** | lib_mod_doss, Modèle dossier | Modèle |\n",
    "| **dscom** | dscom | Désignation commerciale |\n",
    "| **carburant** | energ | Type de carburant | <td rowspan=\"2\">**Energie**</td>\n",
    "| **hybride** | hybride | Véhicule hybride ou non |\n",
    "| **puiss_admin** | puiss_admin, Puissance administrative | Puissance administrative | <td rowspan=\"6\">**Puissance / conso**</td>\n",
    "| **puiss_max** | puiss_max, Puissance maximale (kW) | Puissance max |\n",
    "| **boite_v** | typ_boite_nb_rapp, Boîte de vitesse | Type de boîte de vitesse |\n",
    "| **conso_urb** | conso_urb_93, Consommation urbaine (l/100km) | Consommation urbaine |\n",
    "| **conso_exurb** | conso_exurb, Consommation extra-urbaine (l/100km) | Consommation extra-urbaine |\n",
    "| **conso_mixte** | conso_mixte, Consommation mixte (l/100km) | Consommation mixte |\n",
    "| **masse_v_min** | masse_ordma_min, masse vide euro min (kg) | Masse vide min | <td rowspan=\"2\">**Poids**</td>\n",
    "| **masse_v_max** | masse_ordma_max, masse vide euro max (kg) | Masse vide max |\n",
    "| **co2** | co2_mixte, CO2 (g/km) | CO2 | <td rowspan=\"6\">**Pollution**</td>\n",
    "| **co_typ_1** | co_typ_1, CO type I (g/km) | CO monoxyde de carbone |\n",
    "| **hc** | hc, HC (g/km) | Hydrocarbures (HC) |\n",
    "| **nox** | nox, NOX (g/km) | NOx |\n",
    "| **hcnox** | hcnox, HC+NOX (g/km) | HC+NOx |\n",
    "| **particules** | ptcl, Particules (g/km) | Particules |"
   ]
  },
  {
   "cell_type": "markdown",
   "id": "937c688a",
   "metadata": {},
   "source": [
    "**On pourrait considérer les derniers dataset (2014, 2015) comme étant \"les cibles à atteindre\".<br/>\n",
    "Commencer du dataset 2001 puis alimenter notre dataset des années suivantes, en évitant les doublons.<br/>\n",
    "Ainsi on pourrait simuler l'évolution de notre modèle au fur et à mesure qu'arrivent de nouvelles données.**"
   ]
  },
  {
   "cell_type": "markdown",
   "id": "38991269",
   "metadata": {},
   "source": [
    "### Normalisation des noms de variables"
   ]
  },
  {
   "cell_type": "markdown",
   "id": "81c7ac3a",
   "metadata": {},
   "source": [
    "NB : j'ai juste traité 2011 &rarr; 2015, on complétera ensuite si on est d'accord sur le processus."
   ]
  },
  {
   "cell_type": "raw",
   "id": "1105fca1",
   "metadata": {},
   "source": [
    "template :\n",
    "\n",
    "\"\" : \"cnit\",\n",
    "\"\" : \"mine\",\n",
    "\"\" : \"marque\",\n",
    "\"\" : \"modele\",\n",
    "\"\" : \"dscom\",\n",
    "\"\" : \"carburant\",\n",
    "\"\" : \"hybride\",\n",
    "\"\" : \"puiss_admin\",\n",
    "\"\" : \"puiss_max\",\n",
    "\"\" : \"boite_v\",\n",
    "\"\" : \"conso_urb\",\n",
    "\"\" : \"conso_exurb\",\n",
    "\"\" : \"conso_mixte\",\n",
    "\"\" : \"masse_v_min\",\n",
    "\"\" : \"masse_v_max\",\n",
    "\"\" : \"co2\",\n",
    "\"\" : \"co_typ_1\",\n",
    "\"\" : \"hc\",\n",
    "\"\" : \"nox\",\n",
    "\"\" : \"hcnox\",\n",
    "\"\" : \"particules\""
   ]
  },
  {
   "cell_type": "code",
   "execution_count": null,
   "id": "179bd77c",
   "metadata": {},
   "outputs": [],
   "source": [
    "df_2011_cols = {\"cnit\" : \"cnit\",\n",
    "                \"tvv\" : \"mine\",\n",
    "                \"lib_mrq\" : \"marque\",\n",
    "                \"lib_mod\" : \"modele\",\n",
    "                \"dscom\" : \"dscom\",\n",
    "                \"typ_cbr\" : \"carburant\",\n",
    "                \"puiss_admin_98\" : \"puiss_admin\",\n",
    "                \"puiss_max\" : \"puiss_max\",\n",
    "                \"typ_boite_nb_rapp\" : \"boite_v\",\n",
    "                \"conso_urb\" : \"conso_urb\",\n",
    "                \"conso_exurb\" : \"conso_exurb\",\n",
    "                \"conso_mixte\" : \"conso_mixte\",\n",
    "                \"co2\" : \"co2\"\n",
    "               }\n",
    "\n",
    "to_drop = []\n",
    "for c in df_2011.columns:\n",
    "    if c not in df_2011_cols.keys():\n",
    "        to_drop.append(c)\n",
    "\n",
    "df_2011 = df_2011.drop(columns=to_drop).rename(columns=df_2011_cols)"
   ]
  },
  {
   "cell_type": "code",
   "execution_count": null,
   "id": "de6b1937",
   "metadata": {},
   "outputs": [],
   "source": [
    "df_2012_cols = {\"cnit\" : \"cnit\",\n",
    "                \"tvv\" : \"mine\",\n",
    "                \"lib_mrq\" : \"marque\",\n",
    "                \"lib_mod\" : \"modele\",\n",
    "                \"dscom\" : \"dscom\",\n",
    "                \"typ_cbr\" : \"carburant\",\n",
    "                \"hybride\" : \"hybride\",\n",
    "                \"puiss_admin_98\" : \"puiss_admin\",\n",
    "                \"puiss_max\" : \"puiss_max\",\n",
    "                \"typ_boite_nb_rapp\" : \"boite_v\",\n",
    "                \"conso_urb\" : \"conso_urb\",\n",
    "                \"conso_exurb\" : \"conso_exurb\",\n",
    "                \"conso_mixte\" : \"conso_mixte\",\n",
    "                \"co2\" : \"co2\",\n",
    "                \"co_typ_1\" : \"co_typ_1\",\n",
    "                \"hc\" : \"hc\",\n",
    "                \"nox\" : \"nox\",\n",
    "                \"hcnox\" : \"hcnox\",\n",
    "                \"ptcl\" : \"particules\"\n",
    "               }\n",
    "\n",
    "to_drop = []\n",
    "for c in df_2012.columns:\n",
    "    if c not in df_2012_cols.keys():\n",
    "        to_drop.append(c)\n",
    "        \n",
    "df_2012 = df_2012.drop(columns=to_drop).rename(columns=df_2012_cols)"
   ]
  },
  {
   "cell_type": "code",
   "execution_count": null,
   "id": "7c47d461",
   "metadata": {},
   "outputs": [],
   "source": [
    "df_2013_cols = {\"CNIT\" : \"cnit\",\n",
    "                \"Type Variante Version (TVV)\" : \"mine\",\n",
    "                \"Marque\" : \"marque\",\n",
    "                \"Modèle dossier\" : \"modele\",\n",
    "                \"Désignation commerciale\" : \"dscom\",\n",
    "                \"Carburant\" : \"carburant\",\n",
    "                \"Hybride\" : \"hybride\",\n",
    "                \"Puissance administrative\" : \"puiss_admin\",\n",
    "                \"Puissance maximale (kW)\" : \"puiss_max\",\n",
    "                \"Boîte de vitesse\" : \"boite_v\",\n",
    "                \"Consommation urbaine (l/100km)\" : \"conso_urb\",\n",
    "                \"Consommation extra-urbaine (l/100km)\" : \"conso_exurb\",\n",
    "                \"Consommation mixte (l/100km)\" : \"conso_mixte\",\n",
    "                \"masse vide euro min (kg)\" : \"masse_v_min\",\n",
    "                \"masse vide euro max (kg)\" : \"masse_v_max\",\n",
    "                \"CO2 (g/km)\" : \"co2\",\n",
    "                \"CO type I (g/km)\" : \"co_typ_1\",\n",
    "                \"HC (g/km)\" : \"hc\",\n",
    "                \"NOX (g/km)\" : \"nox\",\n",
    "                \"HC+NOX (g/km)\" : \"hcnox\",\n",
    "                \"Particules (g/km)\" : \"particules\"\n",
    "               }\n",
    "    \n",
    "to_drop = []\n",
    "for c in df_2013.columns:\n",
    "    if c not in df_2013_cols.keys():\n",
    "        to_drop.append(c)\n",
    "        \n",
    "df_2013 = df_2013.drop(columns=to_drop).rename(columns=df_2013_cols)\n"
   ]
  },
  {
   "cell_type": "code",
   "execution_count": null,
   "id": "2bf18346",
   "metadata": {},
   "outputs": [],
   "source": [
    "df_2014_cols = {\"cnit\" : \"cnit\",\n",
    "                \"tvv\" : \"mine\",\n",
    "                \"lib_mrq\" : \"marque\",\n",
    "                \"lib_mod\" : \"modele\",\n",
    "                \"dscom\" : \"dscom\",\n",
    "                \"cod_cbr\" : \"carburant\",\n",
    "                \"hybride\" : \"hybride\",\n",
    "                \"puiss_admin_98\" : \"puiss_admin\",\n",
    "                \"puiss_max\" : \"puiss_max\",\n",
    "                \"typ_boite_nb_rapp\" : \"boite_v\",\n",
    "                \"conso_urb\" : \"conso_urb\",\n",
    "                \"conso_exurb\" : \"conso_exurb\",\n",
    "                \"conso_mixte\" : \"conso_mixte\",\n",
    "                \"masse_ordma_min\" : \"masse_v_min\",\n",
    "                \"masse_ordma_max\" : \"masse_v_max\",\n",
    "                \"co2\" : \"co2\",\n",
    "                \"co_typ_1\" : \"co_typ_1\",\n",
    "                \"hc\" : \"hc\",\n",
    "                \"nox\" : \"nox\",\n",
    "                \"hcnox\" : \"hcnox\",\n",
    "                \"ptcl\" : \"particules\"\n",
    "               }\n",
    "\n",
    "to_drop = []\n",
    "for c in df_2014.columns:\n",
    "    if c not in df_2014_cols.keys():\n",
    "        to_drop.append(c)\n",
    "        \n",
    "df_2014 = df_2014.drop(columns=to_drop).rename(columns=df_2014_cols)\n"
   ]
  },
  {
   "cell_type": "code",
   "execution_count": null,
   "id": "fe51558b",
   "metadata": {},
   "outputs": [],
   "source": [
    "df_2015_cols = {\"cnit\" : \"cnit\",\n",
    "                \"tvv\" : \"mine\",\n",
    "                \"lib_mrq_doss\" : \"marque\",\n",
    "                \"lib_mod_doss\" : \"modele\",\n",
    "                \"dscom\" : \"dscom\",\n",
    "                \"energ\" : \"carburant\",\n",
    "                \"hybride\" : \"hybride\",\n",
    "                \"puiss_admin\" : \"puiss_admin\",\n",
    "                \"puiss_max\" : \"puiss_max\",\n",
    "                \"typ_boite_nb_rapp\" : \"boite_v\",\n",
    "                \"conso_urb_93\" : \"conso_urb\",\n",
    "                \"conso_exurb\" : \"conso_exurb\",\n",
    "                \"conso_mixte\" : \"conso_mixte\",\n",
    "                \"masse_ordma_min\" : \"masse_v_min\",\n",
    "                \"masse_ordma_max\" : \"masse_v_max\",\n",
    "                \"co2_mixte\" : \"co2\",\n",
    "                \"co_typ_1\" : \"co_typ_1\",\n",
    "                \"hc\" : \"hc\",\n",
    "                \"nox\" : \"nox\",\n",
    "                \"hcnox\" : \"hcnox\",\n",
    "                \"ptcl\" : \"particules\"\n",
    "               }\n",
    "\n",
    "to_drop = []\n",
    "for c in df_2015.columns:\n",
    "    if c not in df_2015_cols.keys():\n",
    "        to_drop.append(c)\n",
    "        \n",
    "df_2015 = df_2015.drop(columns=to_drop).rename(columns=df_2015_cols)\n"
   ]
  },
  {
   "cell_type": "markdown",
   "id": "ed4855aa",
   "metadata": {},
   "source": [
    "### Doublons"
   ]
  },
  {
   "cell_type": "markdown",
   "id": "2cee66e1",
   "metadata": {},
   "source": [
    "**Doublons au sein d'un même dataset > drop duplicate !**"
   ]
  },
  {
   "cell_type": "raw",
   "id": "be75642f",
   "metadata": {},
   "source": [
    "# doublons au sein d'un même dataset\n",
    "doublon = df_2015['cnit'].value_counts()\n",
    "len(doublon[doublon > 1].index)"
   ]
  },
  {
   "cell_type": "code",
   "execution_count": null,
   "id": "5f96905b",
   "metadata": {},
   "outputs": [],
   "source": [
    "print(\"Doublons Cnit au sein d'un même dataset :\")\n",
    "df_list = [df_2001, df_2002, df_2003, df_2004, df_2005, df_2006, \n",
    "         df_2007, df_2008, df_2009, df_2010, df_2011, df_2012,\n",
    "         df_2013, df_2014, df_2015]\n",
    "i=2001\n",
    "for d in df_list:\n",
    "    if 'CNIT' in d.columns:\n",
    "        cnit_col = 'CNIT'\n",
    "    else :\n",
    "        cnit_col = 'cnit'\n",
    "    \n",
    "    d_cnit = d[cnit_col].value_counts()\n",
    "    print(i, \":\", len(d_cnit[d_cnit > 1].index), \"(\",cnit_col,\")\")\n",
    "    i+=1\n"
   ]
  },
  {
   "cell_type": "code",
   "execution_count": null,
   "id": "3881f332",
   "metadata": {},
   "outputs": [],
   "source": [
    "# datasets dont les noms de variables ont été normalisés\n",
    "df_2011.drop_duplicates(subset=['cnit'], inplace=True)\n",
    "df_2012.drop_duplicates(subset=['cnit'], inplace=True)\n",
    "df_2013.drop_duplicates(subset=['cnit'], inplace=True)\n",
    "df_2014.drop_duplicates(subset=['cnit'], inplace=True)\n",
    "df_2015.drop_duplicates(subset=['cnit'], inplace=True)"
   ]
  },
  {
   "cell_type": "markdown",
   "id": "46b1c362",
   "metadata": {},
   "source": [
    "**Doublons d'un dataset à l'autre > \"update\" d'un dataset sur l'autre (remplacement par les données les plus récentes) !**"
   ]
  },
  {
   "cell_type": "code",
   "execution_count": null,
   "id": "565f4905",
   "metadata": {},
   "outputs": [],
   "source": [
    "# combien d'éléments de dfa sont dans dfb \n",
    "def howmany_dfa_isin_dfb(dfa, dfb):\n",
    "    tmp = dfa.str.strip().isin(dfb.str.strip()).value_counts()\n",
    "    return tmp[tmp.index == True][0]"
   ]
  },
  {
   "cell_type": "code",
   "execution_count": null,
   "id": "426814bb",
   "metadata": {},
   "outputs": [],
   "source": [
    "print('{0:<8} | {1:^8} | {2:^8} | {3:^8} | {4:^8} | {5:^8}'.format('dataset', '2011', '2012','2013', '2014', '2015'))\n",
    "print('{0:-^8} | {1:-^8} | {2:-^8} | {3:-^8} | {4:-^8} | {5:-^8}'.format('', '', '','', '', ''))\n",
    "print('{0:<8} | {1:^8} | {2:^8} | {3:^8} | {4:^8} | {5:^8}'.format('2011',\n",
    "                                                '-',\n",
    "                                                howmany_dfa_isin_dfb(df_2011['cnit'],df_2012['cnit']),\n",
    "                                                howmany_dfa_isin_dfb(df_2011['cnit'],df_2013['cnit']),\n",
    "                                                howmany_dfa_isin_dfb(df_2011['cnit'],df_2014['cnit']),\n",
    "                                                howmany_dfa_isin_dfb(df_2011['cnit'],df_2015['cnit'])\n",
    "                                                ))\n",
    "print('{0:<8} | {1:^8} | {2:^8} | {3:^8} | {4:^8} | {5:^8}'.format('2012',\n",
    "                                                howmany_dfa_isin_dfb(df_2012['cnit'],df_2011['cnit']),\n",
    "                                                '-',\n",
    "                                                howmany_dfa_isin_dfb(df_2012['cnit'],df_2013['cnit']),\n",
    "                                                howmany_dfa_isin_dfb(df_2012['cnit'],df_2014['cnit']),\n",
    "                                                howmany_dfa_isin_dfb(df_2012['cnit'],df_2015['cnit'])\n",
    "                                                ))\n",
    "print('{0:<8} | {1:^8} | {2:^8} | {3:^8} | {4:^8} | {5:^8}'.format('2013',\n",
    "                                                howmany_dfa_isin_dfb(df_2013['cnit'],df_2011['cnit']),\n",
    "                                                howmany_dfa_isin_dfb(df_2013['cnit'],df_2012['cnit']),\n",
    "                                                '-',\n",
    "                                                howmany_dfa_isin_dfb(df_2013['cnit'],df_2014['cnit']),\n",
    "                                                howmany_dfa_isin_dfb(df_2013['cnit'],df_2015['cnit'])\n",
    "                                                ))\n",
    "print('{0:<8} | {1:^8} | {2:^8} | {3:^8} | {4:^8} | {5:^8}'.format('2014',\n",
    "                                                howmany_dfa_isin_dfb(df_2014['cnit'],df_2011['cnit']),\n",
    "                                                howmany_dfa_isin_dfb(df_2014['cnit'],df_2012['cnit']),\n",
    "                                                howmany_dfa_isin_dfb(df_2014['cnit'],df_2013['cnit']),\n",
    "                                                '-',\n",
    "                                                howmany_dfa_isin_dfb(df_2014['cnit'],df_2015['cnit'])\n",
    "                                                ))\n",
    "print('{0:<8} | {1:^8} | {2:^8} | {3:^8} | {4:^8} | {5:^8}'.format('2015',\n",
    "                                                howmany_dfa_isin_dfb(df_2015['cnit'],df_2011['cnit']),\n",
    "                                                howmany_dfa_isin_dfb(df_2015['cnit'],df_2012['cnit']),\n",
    "                                                howmany_dfa_isin_dfb(df_2015['cnit'],df_2013['cnit']),\n",
    "                                                howmany_dfa_isin_dfb(df_2015['cnit'],df_2014['cnit']),\n",
    "                                                '-'\n",
    "                                                ))"
   ]
  },
  {
   "cell_type": "code",
   "execution_count": null,
   "id": "7f068a5a",
   "metadata": {},
   "outputs": [],
   "source": [
    "# dataframe initial\n",
    "my_dataset =  pd.DataFrame({\n",
    "                'cnit': pd.Series(dtype='object'),\n",
    "                'mine': pd.Series(dtype='object'),\n",
    "                'marque': pd.Series(dtype='object'),\n",
    "                'modele': pd.Series(dtype='object'),\n",
    "                'dscom': pd.Series(dtype='object'),\n",
    "                'carburant': pd.Series(dtype='object'),\n",
    "                'hybride': pd.Series(dtype='object'),\n",
    "                'puiss_admin': pd.Series(dtype='float'),\n",
    "                'puiss_max': pd.Series(dtype='float'),\n",
    "                'boite_v': pd.Series(dtype='object'),\n",
    "                'conso_urb': pd.Series(dtype='float'),\n",
    "                'conso_exurb': pd.Series(dtype='float'),\n",
    "                'conso_mixte': pd.Series(dtype='float'),\n",
    "                'masse_v_min': pd.Series(dtype='int'),\n",
    "                'masse_v_max': pd.Series(dtype='int'),    \n",
    "                'co2': pd.Series(dtype='float'),\n",
    "                'co_typ_1': pd.Series(dtype='float'),\n",
    "                'hc': pd.Series(dtype='float'),\n",
    "                'nox': pd.Series(dtype='float'),\n",
    "                'hcnox': pd.Series(dtype='float'),\n",
    "                'particules': pd.Series(dtype='float')                  \n",
    "                })"
   ]
  },
  {
   "cell_type": "code",
   "execution_count": null,
   "id": "854d8408",
   "metadata": {},
   "outputs": [],
   "source": [
    "# chargement donnees 2011\n",
    "my_dataset = pd.concat([my_dataset, df_2011])"
   ]
  },
  {
   "cell_type": "code",
   "execution_count": null,
   "id": "0b869246",
   "metadata": {},
   "outputs": [],
   "source": [
    "# chargement des données 2012\n",
    "\n",
    "# doublons -> update (on conserve 2012)\n",
    "to_update = my_dataset[my_dataset['cnit'].isin(df_2012['cnit'])]"
   ]
  },
  {
   "cell_type": "code",
   "execution_count": null,
   "id": "85cdb372",
   "metadata": {},
   "outputs": [],
   "source": [
    "len(to_update)"
   ]
  },
  {
   "cell_type": "code",
   "execution_count": null,
   "id": "ac4f7168",
   "metadata": {},
   "outputs": [],
   "source": [
    "my_dataset.shape"
   ]
  },
  {
   "cell_type": "code",
   "execution_count": null,
   "id": "84169542",
   "metadata": {},
   "outputs": [],
   "source": [
    "# efface les entrées en doublon\n",
    "my_dataset = my_dataset.drop(index=to_update.index)"
   ]
  },
  {
   "cell_type": "code",
   "execution_count": null,
   "id": "fca268be",
   "metadata": {},
   "outputs": [],
   "source": [
    "my_dataset.shape"
   ]
  },
  {
   "cell_type": "code",
   "execution_count": null,
   "id": "d39853da",
   "metadata": {},
   "outputs": [],
   "source": [
    "# ajoute les données 2012\n",
    "my_dataset = pd.concat([my_dataset, df_2012])"
   ]
  },
  {
   "cell_type": "code",
   "execution_count": null,
   "id": "efa59e29",
   "metadata": {},
   "outputs": [],
   "source": [
    "my_dataset.info()"
   ]
  },
  {
   "cell_type": "markdown",
   "id": "3a996433",
   "metadata": {},
   "source": [
    "<u>A voir :</u><br>\n",
    "On rajoute des NaN dans les colonnes qui ne contenaient pas les nlles variables à chaque maj.<br>\n",
    "Toutes les variables sont-elles utiles ?"
   ]
  }
 ],
 "metadata": {
  "kernelspec": {
   "display_name": "Python 3 (ipykernel)",
   "language": "python",
   "name": "python3"
  },
  "language_info": {
   "codemirror_mode": {
    "name": "ipython",
    "version": 3
   },
   "file_extension": ".py",
   "mimetype": "text/x-python",
   "name": "python",
   "nbconvert_exporter": "python",
   "pygments_lexer": "ipython3",
   "version": "3.10.6"
  }
 },
 "nbformat": 4,
 "nbformat_minor": 5
}
