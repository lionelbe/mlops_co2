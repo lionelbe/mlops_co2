{
 "cells": [
  {
   "cell_type": "markdown",
   "id": "ca1a970a",
   "metadata": {},
   "source": [
    "## Exploration"
   ]
  },
  {
   "cell_type": "code",
   "execution_count": 1,
   "id": "04bac1d2",
   "metadata": {},
   "outputs": [],
   "source": [
    "import pandas as pd\n",
    "\n",
    "pd.options.display.max_columns = 50"
   ]
  },
  {
   "cell_type": "code",
   "execution_count": 2,
   "id": "a3e38e90",
   "metadata": {},
   "outputs": [],
   "source": [
    "df_2001 = pd.read_excel(\"datasets/2001_1-fic_etiq_edition_janvier2001.xls\")\n",
    "df_2002 = pd.read_excel(\"datasets/2002_3-fic_etiq_edition_01_maj_dec2002.xls\")\n",
    "df_2003 = pd.read_excel(\"datasets/2003_4-fic_etiq_edition_01_maj_MARS2003.xls\")\n",
    "df_2004 = pd.read_excel(\"datasets/2004_6-fic_etiq_edition_jan_2004.xls\")\n",
    "df_2005 = pd.read_excel(\"datasets/2005_7-fic_etiq_edition_janvier2005.xls\")\n",
    "df_2006 = pd.read_excel(\"datasets/2006_8-fic_etiq_edition_janvier2006.xls\")\n",
    "df_2007 = pd.read_excel(\"datasets/2007_9-fic_etiq_edition_janvier_2007.xls\")\n",
    "df_2008 = pd.read_excel(\"datasets/2008_11-fic_etiq_edition_juillet_2008.xls\")\n",
    "df_2009 = pd.read_excel(\"datasets/2009_12-fic_etiq_edition_avril_2009.xls\")\n",
    "df_2010 = pd.read_excel(\"datasets/2010_16-fic_etiq_edition_mai_2010.xls\")\n",
    "df_2011 = pd.read_excel(\"datasets/2011_BASE CL MAJ JUIN 2011.xls\")\n"
   ]
  },
  {
   "cell_type": "code",
   "execution_count": 3,
   "id": "bd93651c",
   "metadata": {},
   "outputs": [],
   "source": [
    "df_2012 = pd.read_csv(\"datasets/2012_BASE CL MAJ JUIN 2012.csv\", sep=';',encoding = 'latin-1')\n",
    "df_2013 = pd.read_csv(\"datasets/2013_cl_JUIN_2013-complet3.csv\", sep=';',encoding = 'latin-1')\n",
    "df_2014 = pd.read_csv(\"datasets/2014_mars-2014-complete.csv\", sep=';',encoding = 'latin-1')\n",
    "df_2015 = pd.read_csv(\"datasets/2015_fic_etiq_edition_40-mars-2015.csv\", sep=';',encoding = 'latin-1')\n"
   ]
  },
  {
   "cell_type": "code",
   "execution_count": 4,
   "id": "d5505daa",
   "metadata": {},
   "outputs": [
    {
     "name": "stdout",
     "output_type": "stream",
     "text": [
      "2001 :\n",
      "Index(['MARQUES', 'MODELE', 'TYP. MINES', 'CNIT', 'CARB', 'CV', 'PUISS.', 'BV',\n",
      "       'Urbain', 'Ex.Urb', 'Mixte', 'CO2'],\n",
      "      dtype='object')\n",
      "(1370, 12)\n",
      "\n",
      "2002 :\n",
      "Index(['GROUPE', 'MARQUE', 'MODELE VERSION', 'CNIT', 'Unnamed: 4',\n",
      "       'Unnamed: 5', 'MINE', 'ENERGIE', 'puissance fiscale',\n",
      "       'puissance reelle', 'bv', 'urb', 'ex-urb', 'mixte', 'CO2', 'IMMAT',\n",
      "       'SEGMENT'],\n",
      "      dtype='object')\n",
      "(5183, 17)\n",
      "\n",
      "2003 :\n",
      "Index(['MARQUE', 'MODELE VERSION', 'CNIT', 'MINE', 'ENERGIE',\n",
      "       'puissance fiscale', 'puissance reelle', 'bv', 'urb', 'ex-urb', 'mixte',\n",
      "       'CO2', 'IMMAT'],\n",
      "      dtype='object')\n",
      "(5398, 13)\n",
      "\n",
      "2004 :\n",
      "Index(['Marques', 'Modèles, Versions', 'CNIT', 'CARBURANT',\n",
      "       'Puiss Administrative', 'Puissance max', 'BV', 'Conso urb',\n",
      "       'Conso ex-urb', 'Conso mixte', 'CO2', 'Unnamed: 11'],\n",
      "      dtype='object')\n",
      "(29, 12)\n",
      "\n",
      "2005 :\n",
      "Index([           'MARQUE',    'MODELE VERSION',              'CNIT',\n",
      "       'puissance fiscale',  'puissance reelle',                'bv',\n",
      "                     'urb',            'ex-urb',             'mixte',\n",
      "                     'CO2',           'ENERGIE',       'Unnamed: 11',\n",
      "             'Unnamed: 12',       'Unnamed: 13',       'Unnamed: 14',\n",
      "                       nan,             'nan.1',             'nan.2'],\n",
      "      dtype='object')\n",
      "(3865, 18)\n",
      "\n",
      "2006 :\n",
      "Index([            'ALFA-ROMEO', '147 3P 1.6L TS (105ch)',\n",
      "                 'MAL1301JZ595',            '937AXA1A00H',\n",
      "                           'ES',                        7,\n",
      "                         '77.0',                    'M 5',\n",
      "                         '11.3',                    '6.4',\n",
      "                          '8.2',                      196,\n",
      "                 'Janvier 2006'],\n",
      "      dtype='object')\n",
      "(8258, 13)\n",
      "\n",
      "2007 :\n",
      "Index(['MARQUE', 'MODELE VERSION', 'CNIT', 'puissance fiscale',\n",
      "       'puissance reelle', 'bv', 'urb', 'ex-urb', 'mixte', 'CO2', 'carburant',\n",
      "       'ETIQUETTE ENERGIE'],\n",
      "      dtype='object')\n",
      "(15114, 12)\n",
      "\n",
      "2008 :\n",
      "Index(['MARQUE', 'MODELE VERSION', 'CNIT', 'puissance fiscale',\n",
      "       'puissance reelle', 'bv', 'urb', 'ex-urb', 'mixte', 'CO2', 'carburant',\n",
      "       'ETIQUETTE ENERGIE', 'BONUS(-)/MALUS( )', 'TYPE 2'],\n",
      "      dtype='object')\n",
      "(15375, 14)\n",
      "\n",
      "2009 :\n",
      "Index(['MARQUE', 'MODELE VERSION', 'CNIT', 'puissance fiscale',\n",
      "       'puissance reelle', 'bv', 'urb', 'ex-urb', 'mixte', 'CO2', 'carburant',\n",
      "       'ETIQUETTE ENERGIE', 'BONUS(-)/MALUS(+)', 'Unnamed: 13', 'Unnamed: 14'],\n",
      "      dtype='object')\n",
      "(19477, 15)\n",
      "\n",
      "2010 :\n",
      "Index(['MARQUE', 'MODELE VERSION', 'CNIT', 'puissance fiscale',\n",
      "       'puissance reelle', 'bv', 'urb', 'ex-urb', 'mixte', 'CO2', 'carburant',\n",
      "       'ETIQUETTE ENERGIE', 'BONUS(-)/MALUS(+)', 'Unnamed: 13', 'Unnamed: 14'],\n",
      "      dtype='object')\n",
      "(25319, 15)\n",
      "\n",
      "2011 :\n",
      "Index(['lib_mrq', 'lib_mod_doss', 'lib_mod', 'dscom', 'cnit', 'tvv', 'typ_cbr',\n",
      "       'puiss_admin_98', 'puiss_max', 'typ_boite_nb_rapp', 'conso_urb',\n",
      "       'conso_exurb', 'conso_mixte', 'co2', 'champ_v9', 'date_maj'],\n",
      "      dtype='object')\n",
      "(37816, 16)\n",
      "\n",
      "2012 :\n",
      "Index(['lib_mrq', 'lib_mod_doss', 'lib_mod', 'dscom', 'cnit', 'tvv', 'typ_cbr',\n",
      "       'hybride', 'puiss_admin_98', 'puiss_max', 'typ_boite_nb_rapp',\n",
      "       'conso_urb', 'conso_exurb', 'conso_mixte', 'co2', 'co_typ_1', 'hc',\n",
      "       'nox', 'hcnox', 'ptcl', 'masse_ordma_min', 'masse_ordma_max',\n",
      "       'champ_v9', 'date_maj', 'Carrosserie', 'gamme'],\n",
      "      dtype='object')\n",
      "(40052, 26)\n",
      "\n",
      "2013 :\n",
      "Index(['Marque', 'Modèle dossier', 'Modèle UTAC', 'Désignation commerciale',\n",
      "       'CNIT', 'Type Variante Version (TVV)', 'Carburant', 'Hybride',\n",
      "       'Puissance administrative', 'Puissance maximale (kW)',\n",
      "       'Boîte de vitesse', 'Consommation urbaine (l/100km)',\n",
      "       'Consommation extra-urbaine (l/100km)', 'Consommation mixte (l/100km)',\n",
      "       'CO2 (g/km)', 'CO type I (g/km)', 'HC (g/km)', 'NOX (g/km)',\n",
      "       'HC+NOX (g/km)', 'Particules (g/km)', 'masse vide euro min (kg)',\n",
      "       'masse vide euro max (kg)', 'Champ V9', 'Date de mise à jour',\n",
      "       'Carrosserie', 'gamme'],\n",
      "      dtype='object')\n",
      "(44850, 26)\n",
      "\n",
      "2014 :\n",
      "Index(['lib_mrq', 'lib_mod_doss', 'lib_mod', 'dscom', 'cnit', 'tvv', 'cod_cbr',\n",
      "       'hybride', 'puiss_admin_98', 'puiss_max', 'typ_boite_nb_rapp',\n",
      "       'conso_urb', 'conso_exurb', 'conso_mixte', 'co2', 'co_typ_1', 'hc',\n",
      "       'nox', 'hcnox', 'ptcl', 'masse_ordma_min', 'masse_ordma_max',\n",
      "       'champ_v9', 'date_maj', 'Carrosserie', 'gamme', 'Unnamed: 26',\n",
      "       'Unnamed: 27', 'Unnamed: 28', 'Unnamed: 29'],\n",
      "      dtype='object')\n",
      "(55044, 30)\n",
      "\n",
      "2015 :\n",
      "Index(['lib_mrq_doss', 'lib_mod_doss', 'mrq_utac', 'mod_utac', 'dscom', 'cnit',\n",
      "       'tvv', 'energ', 'hybride', 'puiss_admin', 'puiss_max', 'puiss_heure',\n",
      "       'typ_boite_nb_rapp', 'conso_urb_93', 'conso_exurb', 'conso_mixte',\n",
      "       'co2_mixte', 'co_typ_1', 'hc', 'nox', 'hcnox', 'ptcl',\n",
      "       'masse_ordma_min', 'masse_ordma_max', 'champ_v9', 'date_maj'],\n",
      "      dtype='object')\n",
      "(20880, 26)\n",
      "\n"
     ]
    }
   ],
   "source": [
    "df_list = [df_2001, df_2002, df_2003, df_2004, df_2005, df_2006, \n",
    "         df_2007, df_2008, df_2009, df_2010, df_2011, df_2012,\n",
    "         df_2013, df_2014, df_2015]\n",
    "i = 2000\n",
    "\n",
    "for d in df_list :\n",
    "    i+=1\n",
    "    print(i,\":\")\n",
    "    print(d.columns)\n",
    "    print(d.shape)\n",
    "    print()"
   ]
  },
  {
   "cell_type": "code",
   "execution_count": 5,
   "id": "7135f93a",
   "metadata": {},
   "outputs": [],
   "source": [
    "# ajout des entetes au dataset 2006\n",
    "df_2006.columns = ['marque', 'modele', 'cnit', 'tvv', 'carburant', \n",
    "                   'puiss_admin', 'puiss_max', 'boite_v', \n",
    "                   'conso_urb', 'conso_exurb', 'conso_mixte', \n",
    "                   'co2', 'date_maj']"
   ]
  },
  {
   "cell_type": "code",
   "execution_count": 6,
   "id": "8d387274",
   "metadata": {},
   "outputs": [
    {
     "data": {
      "text/html": [
       "<div>\n",
       "<style scoped>\n",
       "    .dataframe tbody tr th:only-of-type {\n",
       "        vertical-align: middle;\n",
       "    }\n",
       "\n",
       "    .dataframe tbody tr th {\n",
       "        vertical-align: top;\n",
       "    }\n",
       "\n",
       "    .dataframe thead th {\n",
       "        text-align: right;\n",
       "    }\n",
       "</style>\n",
       "<table border=\"1\" class=\"dataframe\">\n",
       "  <thead>\n",
       "    <tr style=\"text-align: right;\">\n",
       "      <th></th>\n",
       "      <th>marque</th>\n",
       "      <th>modele</th>\n",
       "      <th>cnit</th>\n",
       "      <th>tvv</th>\n",
       "      <th>carburant</th>\n",
       "      <th>puiss_admin</th>\n",
       "      <th>puiss_max</th>\n",
       "      <th>boite_v</th>\n",
       "      <th>conso_urb</th>\n",
       "      <th>conso_exurb</th>\n",
       "      <th>conso_mixte</th>\n",
       "      <th>co2</th>\n",
       "      <th>date_maj</th>\n",
       "    </tr>\n",
       "  </thead>\n",
       "  <tbody>\n",
       "    <tr>\n",
       "      <th>0</th>\n",
       "      <td>ALFA-ROMEO</td>\n",
       "      <td>147 3P 1.6L TS (120ch)</td>\n",
       "      <td>MAL1401JB597</td>\n",
       "      <td>937AXB1A01H</td>\n",
       "      <td>ES</td>\n",
       "      <td>8</td>\n",
       "      <td>88.0</td>\n",
       "      <td>M 5</td>\n",
       "      <td>11.2</td>\n",
       "      <td>6.4</td>\n",
       "      <td>8.2</td>\n",
       "      <td>194.0</td>\n",
       "      <td>Janvier 2006</td>\n",
       "    </tr>\n",
       "    <tr>\n",
       "      <th>1</th>\n",
       "      <td>ALFA-ROMEO</td>\n",
       "      <td>147 3P 2.0L SELESPEED</td>\n",
       "      <td>MAL1601JX599</td>\n",
       "      <td>937AXC1102H</td>\n",
       "      <td>ES</td>\n",
       "      <td>10</td>\n",
       "      <td>110.0</td>\n",
       "      <td>M 5</td>\n",
       "      <td>12.1</td>\n",
       "      <td>7.0</td>\n",
       "      <td>8.9</td>\n",
       "      <td>211.0</td>\n",
       "      <td>Janvier 2006</td>\n",
       "    </tr>\n",
       "    <tr>\n",
       "      <th>2</th>\n",
       "      <td>ALFA-ROMEO</td>\n",
       "      <td>147 3P 2.0L TS</td>\n",
       "      <td>MAL1601JZ601</td>\n",
       "      <td>937AXC1A03H</td>\n",
       "      <td>ES</td>\n",
       "      <td>10</td>\n",
       "      <td>110.0</td>\n",
       "      <td>M 5</td>\n",
       "      <td>12.1</td>\n",
       "      <td>7.0</td>\n",
       "      <td>8.9</td>\n",
       "      <td>211.0</td>\n",
       "      <td>Janvier 2006</td>\n",
       "    </tr>\n",
       "    <tr>\n",
       "      <th>3</th>\n",
       "      <td>ALFA-ROMEO</td>\n",
       "      <td>147 3P JTD (120ch) M-JET</td>\n",
       "      <td>MAL5401JH627</td>\n",
       "      <td>937AXU1A32</td>\n",
       "      <td>GO</td>\n",
       "      <td>7</td>\n",
       "      <td>88.0</td>\n",
       "      <td>M 5</td>\n",
       "      <td>7.8</td>\n",
       "      <td>4.7</td>\n",
       "      <td>5.8</td>\n",
       "      <td>153.0</td>\n",
       "      <td>Janvier 2006</td>\n",
       "    </tr>\n",
       "    <tr>\n",
       "      <th>4</th>\n",
       "      <td>ALFA-ROMEO</td>\n",
       "      <td>147 3P JTD (150ch) M-JET</td>\n",
       "      <td>MAL5601J0626</td>\n",
       "      <td>937AXN1B30B</td>\n",
       "      <td>GO</td>\n",
       "      <td>9</td>\n",
       "      <td>110.0</td>\n",
       "      <td>M 6</td>\n",
       "      <td>8.0</td>\n",
       "      <td>4.7</td>\n",
       "      <td>5.9</td>\n",
       "      <td>157.0</td>\n",
       "      <td>Janvier 2006</td>\n",
       "    </tr>\n",
       "  </tbody>\n",
       "</table>\n",
       "</div>"
      ],
      "text/plain": [
       "       marque                    modele          cnit          tvv carburant  \\\n",
       "0  ALFA-ROMEO    147 3P 1.6L TS (120ch)  MAL1401JB597  937AXB1A01H        ES   \n",
       "1  ALFA-ROMEO     147 3P 2.0L SELESPEED  MAL1601JX599  937AXC1102H        ES   \n",
       "2  ALFA-ROMEO            147 3P 2.0L TS  MAL1601JZ601  937AXC1A03H        ES   \n",
       "3  ALFA-ROMEO  147 3P JTD (120ch) M-JET  MAL5401JH627   937AXU1A32        GO   \n",
       "4  ALFA-ROMEO  147 3P JTD (150ch) M-JET  MAL5601J0626  937AXN1B30B        GO   \n",
       "\n",
       "   puiss_admin  puiss_max boite_v  conso_urb  conso_exurb  conso_mixte    co2  \\\n",
       "0            8       88.0     M 5       11.2          6.4          8.2  194.0   \n",
       "1           10      110.0     M 5       12.1          7.0          8.9  211.0   \n",
       "2           10      110.0     M 5       12.1          7.0          8.9  211.0   \n",
       "3            7       88.0     M 5        7.8          4.7          5.8  153.0   \n",
       "4            9      110.0     M 6        8.0          4.7          5.9  157.0   \n",
       "\n",
       "       date_maj  \n",
       "0  Janvier 2006  \n",
       "1  Janvier 2006  \n",
       "2  Janvier 2006  \n",
       "3  Janvier 2006  \n",
       "4  Janvier 2006  "
      ]
     },
     "execution_count": 6,
     "metadata": {},
     "output_type": "execute_result"
    }
   ],
   "source": [
    "df_2006.head()"
   ]
  },
  {
   "cell_type": "markdown",
   "id": "49bb05e7",
   "metadata": {},
   "source": [
    "### Variables"
   ]
  },
  {
   "cell_type": "markdown",
   "id": "0b4b1878",
   "metadata": {},
   "source": [
    "cnit, mine,<br>\n",
    "marque, modele, dscom,<br>\n",
    "carburant, hybride,<br>\n",
    "puiss_admin, puiss_max, boite_v, conso_urb, conso_exurb, conso_mixte,<br>\n",
    "masse_v_min, masse_v_max,<br>\n",
    "co2, co_typ_1, hc, nox, hcnox, particules<br>\n",
    "\n",
    "(voir si on conserve tout)"
   ]
  },
  {
   "cell_type": "markdown",
   "id": "2ca322a8",
   "metadata": {},
   "source": [
    "| variable | dénominations<br/>(datasets originaux) | descriptions |  | \n",
    "| --- | --- | --- | --: | \n",
    "| **cnit** | cnit, CNIT | Code National d'Identification du Type | <td rowspan=\"2\">**Identification du véhicule**</td>\n",
    "| **mine** | tvv, Type Variante Version (TVV) | Type mine |\n",
    "| **marque** | lib_mrq_doss, Marque | Marque | <td rowspan=\"3\">**Marque / modèle**</td>\n",
    "| **modele** | lib_mod_doss, Modèle dossier | Modèle |\n",
    "| **dscom** | dscom | Désignation commerciale |\n",
    "| **carburant** | energ | Type de carburant | <td rowspan=\"2\">**Energie**</td>\n",
    "| **hybride** | hybride | Véhicule hybride ou non |\n",
    "| **puiss_admin** | puiss_admin, Puissance administrative | Puissance administrative | <td rowspan=\"6\">**Puissance / conso**</td>\n",
    "| **puiss_max** | puiss_max, Puissance maximale (kW) | Puissance max |\n",
    "| **boite_v** | typ_boite_nb_rapp, Boîte de vitesse | Type de boîte de vitesse |\n",
    "| **conso_urb** | conso_urb_93, Consommation urbaine (l/100km) | Consommation urbaine |\n",
    "| **conso_exurb** | conso_exurb, Consommation extra-urbaine (l/100km) | Consommation extra-urbaine |\n",
    "| **conso_mixte** | conso_mixte, Consommation mixte (l/100km) | Consommation mixte |\n",
    "| **masse_v_min** | masse_ordma_min, masse vide euro min (kg) | Masse vide min | <td rowspan=\"2\">**Poids**</td>\n",
    "| **masse_v_max** | masse_ordma_max, masse vide euro max (kg) | Masse vide max |\n",
    "| **co2** | co2_mixte, CO2 (g/km) | CO2 | <td rowspan=\"6\">**Pollution**</td>\n",
    "| **co_typ_1** | co_typ_1, CO type I (g/km) | CO monoxyde de carbone |\n",
    "| **hc** | hc, HC (g/km) | Hydrocarbures (HC) |\n",
    "| **nox** | nox, NOX (g/km) | NOx |\n",
    "| **hcnox** | hcnox, HC+NOX (g/km) | HC+NOx |\n",
    "| **particules** | ptcl, Particules (g/km) | Particules |"
   ]
  },
  {
   "cell_type": "markdown",
   "id": "cf365739",
   "metadata": {},
   "source": [
    "**On pourrait considérer les derniers dataset (2014, 2015) comme étant \"les cibles à atteindre\".<br/>\n",
    "Commencer du dataset 2001 puis alimenter notre dataset des années suivantes, en évitant les doublons.<br/>\n",
    "Ainsi on pourrait simuler l'évolution de notre modèle au fur et à mesure qu'arrivent de nouvelles données.**"
   ]
  },
  {
   "cell_type": "markdown",
   "id": "aa6d41b8",
   "metadata": {},
   "source": [
    "### Normalisation des noms de variables"
   ]
  },
  {
   "cell_type": "markdown",
   "id": "9ddf2f5c",
   "metadata": {},
   "source": [
    "NB : j'ai juste traité 2011 &rarr; 2015, on complétera ensuite si on est d'accord sur le processus."
   ]
  },
  {
   "cell_type": "raw",
   "id": "c76b8af4",
   "metadata": {},
   "source": [
    "template :\n",
    "\n",
    "\"\" : \"cnit\",\n",
    "\"\" : \"mine\",\n",
    "\"\" : \"marque\",\n",
    "\"\" : \"modele\",\n",
    "\"\" : \"dscom\",\n",
    "\"\" : \"carburant\",\n",
    "\"\" : \"hybride\",\n",
    "\"\" : \"puiss_admin\",\n",
    "\"\" : \"puiss_max\",\n",
    "\"\" : \"boite_v\",\n",
    "\"\" : \"conso_urb\",\n",
    "\"\" : \"conso_exurb\",\n",
    "\"\" : \"conso_mixte\",\n",
    "\"\" : \"masse_v_min\",\n",
    "\"\" : \"masse_v_max\",\n",
    "\"\" : \"co2\",\n",
    "\"\" : \"co_typ_1\",\n",
    "\"\" : \"hc\",\n",
    "\"\" : \"nox\",\n",
    "\"\" : \"hcnox\",\n",
    "\"\" : \"particules\""
   ]
  },
  {
   "cell_type": "code",
   "execution_count": 7,
   "id": "3fee2265",
   "metadata": {},
   "outputs": [],
   "source": [
    "df_2011_cols = {\"cnit\" : \"cnit\",\n",
    "                \"tvv\" : \"mine\",\n",
    "                \"lib_mrq\" : \"marque\",\n",
    "                \"lib_mod\" : \"modele\",\n",
    "                \"dscom\" : \"dscom\",\n",
    "                \"typ_cbr\" : \"carburant\",\n",
    "                \"puiss_admin_98\" : \"puiss_admin\",\n",
    "                \"puiss_max\" : \"puiss_max\",\n",
    "                \"typ_boite_nb_rapp\" : \"boite_v\",\n",
    "                \"conso_urb\" : \"conso_urb\",\n",
    "                \"conso_exurb\" : \"conso_exurb\",\n",
    "                \"conso_mixte\" : \"conso_mixte\",\n",
    "                \"co2\" : \"co2\"\n",
    "               }\n",
    "\n",
    "to_drop = []\n",
    "for c in df_2011.columns:\n",
    "    if c not in df_2011_cols.keys():\n",
    "        to_drop.append(c)\n",
    "\n",
    "df_2011 = df_2011.drop(columns=to_drop).rename(columns=df_2011_cols)"
   ]
  },
  {
   "cell_type": "code",
   "execution_count": 8,
   "id": "76d5bab1",
   "metadata": {},
   "outputs": [],
   "source": [
    "df_2012_cols = {\"cnit\" : \"cnit\",\n",
    "                \"tvv\" : \"mine\",\n",
    "                \"lib_mrq\" : \"marque\",\n",
    "                \"lib_mod\" : \"modele\",\n",
    "                \"dscom\" : \"dscom\",\n",
    "                \"typ_cbr\" : \"carburant\",\n",
    "                \"hybride\" : \"hybride\",\n",
    "                \"puiss_admin_98\" : \"puiss_admin\",\n",
    "                \"puiss_max\" : \"puiss_max\",\n",
    "                \"typ_boite_nb_rapp\" : \"boite_v\",\n",
    "                \"conso_urb\" : \"conso_urb\",\n",
    "                \"conso_exurb\" : \"conso_exurb\",\n",
    "                \"conso_mixte\" : \"conso_mixte\",\n",
    "                \"co2\" : \"co2\",\n",
    "                \"co_typ_1\" : \"co_typ_1\",\n",
    "                \"hc\" : \"hc\",\n",
    "                \"nox\" : \"nox\",\n",
    "                \"hcnox\" : \"hcnox\",\n",
    "                \"ptcl\" : \"particules\"\n",
    "               }\n",
    "\n",
    "to_drop = []\n",
    "for c in df_2012.columns:\n",
    "    if c not in df_2012_cols.keys():\n",
    "        to_drop.append(c)\n",
    "        \n",
    "df_2012 = df_2012.drop(columns=to_drop).rename(columns=df_2012_cols)"
   ]
  },
  {
   "cell_type": "code",
   "execution_count": 9,
   "id": "7dca35d8",
   "metadata": {},
   "outputs": [],
   "source": [
    "df_2013_cols = {\"CNIT\" : \"cnit\",\n",
    "                \"Type Variante Version (TVV)\" : \"mine\",\n",
    "                \"Marque\" : \"marque\",\n",
    "                \"Modèle dossier\" : \"modele\",\n",
    "                \"Désignation commerciale\" : \"dscom\",\n",
    "                \"Carburant\" : \"carburant\",\n",
    "                \"Hybride\" : \"hybride\",\n",
    "                \"Puissance administrative\" : \"puiss_admin\",\n",
    "                \"Puissance maximale (kW)\" : \"puiss_max\",\n",
    "                \"Boîte de vitesse\" : \"boite_v\",\n",
    "                \"Consommation urbaine (l/100km)\" : \"conso_urb\",\n",
    "                \"Consommation extra-urbaine (l/100km)\" : \"conso_exurb\",\n",
    "                \"Consommation mixte (l/100km)\" : \"conso_mixte\",\n",
    "                \"masse vide euro min (kg)\" : \"masse_v_min\",\n",
    "                \"masse vide euro max (kg)\" : \"masse_v_max\",\n",
    "                \"CO2 (g/km)\" : \"co2\",\n",
    "                \"CO type I (g/km)\" : \"co_typ_1\",\n",
    "                \"HC (g/km)\" : \"hc\",\n",
    "                \"NOX (g/km)\" : \"nox\",\n",
    "                \"HC+NOX (g/km)\" : \"hcnox\",\n",
    "                \"Particules (g/km)\" : \"particules\"\n",
    "               }\n",
    "    \n",
    "to_drop = []\n",
    "for c in df_2013.columns:\n",
    "    if c not in df_2013_cols.keys():\n",
    "        to_drop.append(c)\n",
    "        \n",
    "df_2013 = df_2013.drop(columns=to_drop).rename(columns=df_2013_cols)\n"
   ]
  },
  {
   "cell_type": "code",
   "execution_count": 10,
   "id": "0f59dd0a",
   "metadata": {},
   "outputs": [],
   "source": [
    "df_2014_cols = {\"cnit\" : \"cnit\",\n",
    "                \"tvv\" : \"mine\",\n",
    "                \"lib_mrq\" : \"marque\",\n",
    "                \"lib_mod\" : \"modele\",\n",
    "                \"dscom\" : \"dscom\",\n",
    "                \"cod_cbr\" : \"carburant\",\n",
    "                \"hybride\" : \"hybride\",\n",
    "                \"puiss_admin_98\" : \"puiss_admin\",\n",
    "                \"puiss_max\" : \"puiss_max\",\n",
    "                \"typ_boite_nb_rapp\" : \"boite_v\",\n",
    "                \"conso_urb\" : \"conso_urb\",\n",
    "                \"conso_exurb\" : \"conso_exurb\",\n",
    "                \"conso_mixte\" : \"conso_mixte\",\n",
    "                \"masse_ordma_min\" : \"masse_v_min\",\n",
    "                \"masse_ordma_max\" : \"masse_v_max\",\n",
    "                \"co2\" : \"co2\",\n",
    "                \"co_typ_1\" : \"co_typ_1\",\n",
    "                \"hc\" : \"hc\",\n",
    "                \"nox\" : \"nox\",\n",
    "                \"hcnox\" : \"hcnox\",\n",
    "                \"ptcl\" : \"particules\"\n",
    "               }\n",
    "\n",
    "to_drop = []\n",
    "for c in df_2014.columns:\n",
    "    if c not in df_2014_cols.keys():\n",
    "        to_drop.append(c)\n",
    "        \n",
    "df_2014 = df_2014.drop(columns=to_drop).rename(columns=df_2014_cols)\n"
   ]
  },
  {
   "cell_type": "code",
   "execution_count": 11,
   "id": "2d931ab4",
   "metadata": {},
   "outputs": [],
   "source": [
    "df_2015_cols = {\"cnit\" : \"cnit\",\n",
    "                \"tvv\" : \"mine\",\n",
    "                \"lib_mrq_doss\" : \"marque\",\n",
    "                \"lib_mod_doss\" : \"modele\",\n",
    "                \"dscom\" : \"dscom\",\n",
    "                \"energ\" : \"carburant\",\n",
    "                \"hybride\" : \"hybride\",\n",
    "                \"puiss_admin\" : \"puiss_admin\",\n",
    "                \"puiss_max\" : \"puiss_max\",\n",
    "                \"typ_boite_nb_rapp\" : \"boite_v\",\n",
    "                \"conso_urb_93\" : \"conso_urb\",\n",
    "                \"conso_exurb\" : \"conso_exurb\",\n",
    "                \"conso_mixte\" : \"conso_mixte\",\n",
    "                \"masse_ordma_min\" : \"masse_v_min\",\n",
    "                \"masse_ordma_max\" : \"masse_v_max\",\n",
    "                \"co2_mixte\" : \"co2\",\n",
    "                \"co_typ_1\" : \"co_typ_1\",\n",
    "                \"hc\" : \"hc\",\n",
    "                \"nox\" : \"nox\",\n",
    "                \"hcnox\" : \"hcnox\",\n",
    "                \"ptcl\" : \"particules\"\n",
    "               }\n",
    "\n",
    "to_drop = []\n",
    "for c in df_2015.columns:\n",
    "    if c not in df_2015_cols.keys():\n",
    "        to_drop.append(c)\n",
    "        \n",
    "df_2015 = df_2015.drop(columns=to_drop).rename(columns=df_2015_cols)\n"
   ]
  },
  {
   "cell_type": "markdown",
   "id": "a2663b04",
   "metadata": {},
   "source": [
    "### Doublons"
   ]
  },
  {
   "cell_type": "markdown",
   "id": "5f0f30d4",
   "metadata": {},
   "source": [
    "**Doublons au sein d'un même dataset > drop duplicate !**"
   ]
  },
  {
   "cell_type": "raw",
   "id": "5f3f2134",
   "metadata": {},
   "source": [
    "# doublons au sein d'un même dataset\n",
    "doublon = df_2015['cnit'].value_counts()\n",
    "len(doublon[doublon > 1].index)"
   ]
  },
  {
   "cell_type": "code",
   "execution_count": 12,
   "id": "e8e820c9",
   "metadata": {},
   "outputs": [
    {
     "name": "stdout",
     "output_type": "stream",
     "text": [
      "Doublons Cnit au sein d'un même dataset :\n",
      "2001 : 39 ( CNIT )\n",
      "2002 : 57 ( CNIT )\n",
      "2003 : 55 ( CNIT )\n",
      "2004 : 0 ( CNIT )\n",
      "2005 : 0 ( CNIT )\n",
      "2006 : 39 ( cnit )\n",
      "2007 : 38 ( CNIT )\n",
      "2008 : 53 ( CNIT )\n",
      "2009 : 46 ( CNIT )\n",
      "2010 : 58 ( CNIT )\n",
      "2011 : 100 ( cnit )\n",
      "2012 : 363 ( cnit )\n",
      "2013 : 61 ( cnit )\n",
      "2014 : 62 ( cnit )\n",
      "2015 : 61 ( cnit )\n"
     ]
    }
   ],
   "source": [
    "print(\"Doublons Cnit au sein d'un même dataset :\")\n",
    "df_list = [df_2001, df_2002, df_2003, df_2004, df_2005, df_2006, \n",
    "         df_2007, df_2008, df_2009, df_2010, df_2011, df_2012,\n",
    "         df_2013, df_2014, df_2015]\n",
    "i=2001\n",
    "for d in df_list:\n",
    "    if 'CNIT' in d.columns:\n",
    "        cnit_col = 'CNIT'\n",
    "    else :\n",
    "        cnit_col = 'cnit'\n",
    "    \n",
    "    d_cnit = d[cnit_col].value_counts()\n",
    "    print(i, \":\", len(d_cnit[d_cnit > 1].index), \"(\",cnit_col,\")\")\n",
    "    i+=1\n"
   ]
  },
  {
   "cell_type": "code",
   "execution_count": 13,
   "id": "47eca93e",
   "metadata": {},
   "outputs": [],
   "source": [
    "# datasets dont les noms de variables ont été normalisés\n",
    "df_2011.drop_duplicates(subset=['cnit'], inplace=True)\n",
    "df_2012.drop_duplicates(subset=['cnit'], inplace=True)\n",
    "df_2013.drop_duplicates(subset=['cnit'], inplace=True)\n",
    "df_2014.drop_duplicates(subset=['cnit'], inplace=True)\n",
    "df_2015.drop_duplicates(subset=['cnit'], inplace=True)"
   ]
  },
  {
   "cell_type": "markdown",
   "id": "edac9c04",
   "metadata": {},
   "source": [
    "**Doublons d'un dataset à l'autre > \"update\" d'un dataset sur l'autre (remplacement par les données les plus récentes) !**"
   ]
  },
  {
   "cell_type": "code",
   "execution_count": 14,
   "id": "d42f74cd",
   "metadata": {},
   "outputs": [],
   "source": [
    "# combien d'éléments de dfa sont dans dfb \n",
    "def howmany_dfa_isin_dfb(dfa, dfb):\n",
    "    tmp = dfa.str.strip().isin(dfb.str.strip()).value_counts()\n",
    "    return tmp[tmp.index == True][0]"
   ]
  },
  {
   "cell_type": "code",
   "execution_count": 21,
   "id": "67743154",
   "metadata": {},
   "outputs": [
    {
     "name": "stdout",
     "output_type": "stream",
     "text": [
      "dataset  |   2011   |   2012   |   2013   |   2014   |   2015  \n",
      "-------- | -------- | -------- | -------- | -------- | --------\n",
      "2011     |    -     |   7231   |   6161   |   5518   |   213   \n",
      "2012     |   7231   |    -     |  36419   |  32714   |   495   \n",
      "2013     |   6161   |  36419   |    -     |  34836   |   1203  \n",
      "2014     |   5518   |  32714   |  34836   |    -     |   3914  \n",
      "2015     |   213    |   495    |   1203   |   3914   |    -    \n"
     ]
    }
   ],
   "source": [
    "print('{0:<8} | {1:^8} | {2:^8} | {3:^8} | {4:^8} | {5:^8}'.format('dataset', '2011', '2012','2013', '2014', '2015'))\n",
    "print('{0:-^8} | {1:-^8} | {2:-^8} | {3:-^8} | {4:-^8} | {5:-^8}'.format('', '', '','', '', ''))\n",
    "print('{0:<8} | {1:^8} | {2:^8} | {3:^8} | {4:^8} | {5:^8}'.format('2011',\n",
    "                                                '-',\n",
    "                                                howmany_dfa_isin_dfb(df_2011['cnit'],df_2012['cnit']),\n",
    "                                                howmany_dfa_isin_dfb(df_2011['cnit'],df_2013['cnit']),\n",
    "                                                howmany_dfa_isin_dfb(df_2011['cnit'],df_2014['cnit']),\n",
    "                                                howmany_dfa_isin_dfb(df_2011['cnit'],df_2015['cnit'])\n",
    "                                                ))\n",
    "print('{0:<8} | {1:^8} | {2:^8} | {3:^8} | {4:^8} | {5:^8}'.format('2012',\n",
    "                                                howmany_dfa_isin_dfb(df_2012['cnit'],df_2011['cnit']),\n",
    "                                                '-',\n",
    "                                                howmany_dfa_isin_dfb(df_2012['cnit'],df_2013['cnit']),\n",
    "                                                howmany_dfa_isin_dfb(df_2012['cnit'],df_2014['cnit']),\n",
    "                                                howmany_dfa_isin_dfb(df_2012['cnit'],df_2015['cnit'])\n",
    "                                                ))\n",
    "print('{0:<8} | {1:^8} | {2:^8} | {3:^8} | {4:^8} | {5:^8}'.format('2013',\n",
    "                                                howmany_dfa_isin_dfb(df_2013['cnit'],df_2011['cnit']),\n",
    "                                                howmany_dfa_isin_dfb(df_2013['cnit'],df_2012['cnit']),\n",
    "                                                '-',\n",
    "                                                howmany_dfa_isin_dfb(df_2013['cnit'],df_2014['cnit']),\n",
    "                                                howmany_dfa_isin_dfb(df_2013['cnit'],df_2015['cnit'])\n",
    "                                                ))\n",
    "print('{0:<8} | {1:^8} | {2:^8} | {3:^8} | {4:^8} | {5:^8}'.format('2014',\n",
    "                                                howmany_dfa_isin_dfb(df_2014['cnit'],df_2011['cnit']),\n",
    "                                                howmany_dfa_isin_dfb(df_2014['cnit'],df_2012['cnit']),\n",
    "                                                howmany_dfa_isin_dfb(df_2014['cnit'],df_2013['cnit']),\n",
    "                                                '-',\n",
    "                                                howmany_dfa_isin_dfb(df_2014['cnit'],df_2015['cnit'])\n",
    "                                                ))\n",
    "print('{0:<8} | {1:^8} | {2:^8} | {3:^8} | {4:^8} | {5:^8}'.format('2015',\n",
    "                                                howmany_dfa_isin_dfb(df_2015['cnit'],df_2011['cnit']),\n",
    "                                                howmany_dfa_isin_dfb(df_2015['cnit'],df_2012['cnit']),\n",
    "                                                howmany_dfa_isin_dfb(df_2015['cnit'],df_2013['cnit']),\n",
    "                                                howmany_dfa_isin_dfb(df_2015['cnit'],df_2014['cnit']),\n",
    "                                                '-'\n",
    "                                                ))"
   ]
  },
  {
   "cell_type": "code",
   "execution_count": 49,
   "id": "4c08860f",
   "metadata": {},
   "outputs": [],
   "source": [
    "# dataframe initial\n",
    "my_dataset =  pd.DataFrame({\n",
    "                'cnit': pd.Series(dtype='object'),\n",
    "                'mine': pd.Series(dtype='object'),\n",
    "                'marque': pd.Series(dtype='object'),\n",
    "                'modele': pd.Series(dtype='object'),\n",
    "                'dscom': pd.Series(dtype='object'),\n",
    "                'carburant': pd.Series(dtype='object'),\n",
    "                'hybride': pd.Series(dtype='object'),\n",
    "                'puiss_admin': pd.Series(dtype='float'),\n",
    "                'puiss_max': pd.Series(dtype='float'),\n",
    "                'boite_v': pd.Series(dtype='object'),\n",
    "                'conso_urb': pd.Series(dtype='float'),\n",
    "                'conso_exurb': pd.Series(dtype='float'),\n",
    "                'conso_mixte': pd.Series(dtype='float'),\n",
    "                'masse_v_min': pd.Series(dtype='int'),\n",
    "                'masse_v_max': pd.Series(dtype='int'),    \n",
    "                'co2': pd.Series(dtype='float'),\n",
    "                'co_typ_1': pd.Series(dtype='float'),\n",
    "                'hc': pd.Series(dtype='float'),\n",
    "                'nox': pd.Series(dtype='float'),\n",
    "                'hcnox': pd.Series(dtype='float'),\n",
    "                'particules': pd.Series(dtype='float')                  \n",
    "                })"
   ]
  },
  {
   "cell_type": "code",
   "execution_count": 50,
   "id": "279a501d",
   "metadata": {},
   "outputs": [],
   "source": [
    "# chargement donnees 2011\n",
    "my_dataset = pd.concat([my_dataset, df_2011])"
   ]
  },
  {
   "cell_type": "code",
   "execution_count": 51,
   "id": "8b86e2c8",
   "metadata": {},
   "outputs": [],
   "source": [
    "# chargement des données 2012\n",
    "\n",
    "# doublons -> update (on conserve 2012)\n",
    "to_update = my_dataset[my_dataset['cnit'].isin(df_2012['cnit'])]"
   ]
  },
  {
   "cell_type": "code",
   "execution_count": 52,
   "id": "a7fb0b4c",
   "metadata": {},
   "outputs": [
    {
     "data": {
      "text/plain": [
       "7231"
      ]
     },
     "execution_count": 52,
     "metadata": {},
     "output_type": "execute_result"
    }
   ],
   "source": [
    "len(to_update)"
   ]
  },
  {
   "cell_type": "code",
   "execution_count": 53,
   "id": "a111ca3a",
   "metadata": {},
   "outputs": [
    {
     "data": {
      "text/plain": [
       "(37716, 21)"
      ]
     },
     "execution_count": 53,
     "metadata": {},
     "output_type": "execute_result"
    }
   ],
   "source": [
    "my_dataset.shape"
   ]
  },
  {
   "cell_type": "code",
   "execution_count": 54,
   "id": "96d40e6c",
   "metadata": {},
   "outputs": [],
   "source": [
    "# efface les entrées en doublon\n",
    "my_dataset = my_dataset.drop(index=to_update.index)"
   ]
  },
  {
   "cell_type": "code",
   "execution_count": 55,
   "id": "1be5ea55",
   "metadata": {},
   "outputs": [
    {
     "data": {
      "text/plain": [
       "(30485, 21)"
      ]
     },
     "execution_count": 55,
     "metadata": {},
     "output_type": "execute_result"
    }
   ],
   "source": [
    "my_dataset.shape"
   ]
  },
  {
   "cell_type": "code",
   "execution_count": 56,
   "id": "3a4090d1",
   "metadata": {},
   "outputs": [],
   "source": [
    "# ajoute les données 2012\n",
    "my_dataset = pd.concat([my_dataset, df_2012])"
   ]
  },
  {
   "cell_type": "code",
   "execution_count": 58,
   "id": "1cad795b",
   "metadata": {},
   "outputs": [
    {
     "name": "stdout",
     "output_type": "stream",
     "text": [
      "<class 'pandas.core.frame.DataFrame'>\n",
      "Int64Index: 70078 entries, 0 to 40051\n",
      "Data columns (total 21 columns):\n",
      " #   Column       Non-Null Count  Dtype  \n",
      "---  ------       --------------  -----  \n",
      " 0   cnit         70078 non-null  object \n",
      " 1   mine         70078 non-null  object \n",
      " 2   marque       70078 non-null  object \n",
      " 3   modele       70078 non-null  object \n",
      " 4   dscom        70078 non-null  object \n",
      " 5   carburant    70078 non-null  object \n",
      " 6   hybride      39593 non-null  object \n",
      " 7   puiss_admin  70078 non-null  float64\n",
      " 8   puiss_max    70078 non-null  float64\n",
      " 9   boite_v      70078 non-null  object \n",
      " 10  conso_urb    70008 non-null  object \n",
      " 11  conso_exurb  70008 non-null  object \n",
      " 12  conso_mixte  70011 non-null  object \n",
      " 13  masse_v_min  0 non-null      float64\n",
      " 14  masse_v_max  0 non-null      float64\n",
      " 15  co2          70011 non-null  float64\n",
      " 16  co_typ_1     39483 non-null  object \n",
      " 17  hc           8077 non-null   object \n",
      " 18  nox          39483 non-null  object \n",
      " 19  hcnox        31463 non-null  object \n",
      " 20  particules   37079 non-null  object \n",
      "dtypes: float64(5), object(16)\n",
      "memory usage: 11.8+ MB\n"
     ]
    }
   ],
   "source": [
    "my_dataset.info()"
   ]
  },
  {
   "cell_type": "markdown",
   "id": "dce19325",
   "metadata": {},
   "source": [
    "<u>A voir :</u><br>\n",
    "On rajoute des NaN dans les colonnes qui ne contenaient pas les nlles variables à chaque maj.<br>\n",
    "Toutes les variables sont-elles utiles ?"
   ]
  }
 ],
 "metadata": {
  "kernelspec": {
   "display_name": "Python 3 (ipykernel)",
   "language": "python",
   "name": "python3"
  },
  "language_info": {
   "codemirror_mode": {
    "name": "ipython",
    "version": 3
   },
   "file_extension": ".py",
   "mimetype": "text/x-python",
   "name": "python",
   "nbconvert_exporter": "python",
   "pygments_lexer": "ipython3",
   "version": "3.10.6"
  }
 },
 "nbformat": 4,
 "nbformat_minor": 5
}
