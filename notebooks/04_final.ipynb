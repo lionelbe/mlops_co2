{
 "cells": [
  {
   "cell_type": "markdown",
   "id": "e35ddda9",
   "metadata": {},
   "source": [
    "### Table of contents <a id=\"toc\"></a>\n",
    "\n",
    "- [working dataset](#working_dataset)\n",
    "- [first import](#first_import)\n",
    "- [second import](#second_import)\n",
    "- [third import](#third_import)\n",
    "- ...\n",
    "- [basic dataframe for models training](#dataframe_model)\n",
    "- [model train & save](#model)\n",
    "- [predictions](#predictions)\n",
    "\n"
   ]
  },
  {
   "cell_type": "code",
   "execution_count": 1,
   "id": "98352d92",
   "metadata": {},
   "outputs": [],
   "source": [
    "\n",
    "import pandas as pd\n",
    "import numpy as np\n",
    "\n",
    "from joblib import dump, load\n",
    "\n",
    "from sklearn.metrics import *\n",
    "\n",
    "from sklearn.model_selection import train_test_split\n",
    "\n",
    "from sklearn.pipeline import Pipeline\n",
    "from sklearn.pipeline import make_pipeline\n",
    "\n",
    "from sklearn.preprocessing import OneHotEncoder, StandardScaler, PolynomialFeatures\n",
    "from sklearn.compose import TransformedTargetRegressor, make_column_transformer\n",
    "\n",
    "from sklearn.linear_model import SGDRegressor, LinearRegression\n"
   ]
  },
  {
   "cell_type": "markdown",
   "id": "b89bd1d4",
   "metadata": {},
   "source": [
    "## Working Dataset <a id=\"working_dataset\"></a>"
   ]
  },
  {
   "cell_type": "code",
   "execution_count": 2,
   "id": "58e8d206",
   "metadata": {},
   "outputs": [],
   "source": [
    "# dataframe for our model\n",
    "\n",
    "my_dataset =  pd.DataFrame({\n",
    "                'cnit': pd.Series(dtype='object'),\n",
    "                'mine': pd.Series(dtype='object'),\n",
    "                'marque': pd.Series(dtype='object'),\n",
    "                'modele': pd.Series(dtype='object'),\n",
    "                'dscom': pd.Series(dtype='object'),\n",
    "                'carburant': pd.Series(dtype='object'),\n",
    "                'hybride': pd.Series(dtype='bool'), # hybride (True or False) bool or boolean\n",
    "                'puiss_admin': pd.Series(dtype='float'),\n",
    "                'puiss_max': pd.Series(dtype='float'),\n",
    "                'boite_v_auto': pd.Series(dtype='bool'), # boite de vitesse : automatique (True) ou manuelle (False)\n",
    "                'boite_v_rapp': pd.Series(dtype='int'), # boite de vitesse : nb de rapports\n",
    "                'conso_urb': pd.Series(dtype='float'),\n",
    "                'conso_exurb': pd.Series(dtype='float'),\n",
    "                'conso_mixte': pd.Series(dtype='float'),\n",
    "                'co2': pd.Series(dtype='float'),\n",
    "                'dataset': pd.Series(dtype='int')\n",
    "                })"
   ]
  },
  {
   "cell_type": "markdown",
   "id": "f2bc1cb9",
   "metadata": {},
   "source": [
    "[Back to top](#toc)"
   ]
  },
  {
   "cell_type": "markdown",
   "id": "f56af154",
   "metadata": {},
   "source": [
    "## First import <a id=\"first_import\"></a>"
   ]
  },
  {
   "cell_type": "code",
   "execution_count": 3,
   "id": "03333403",
   "metadata": {},
   "outputs": [
    {
     "name": "stdout",
     "output_type": "stream",
     "text": [
      "<class 'pandas.core.frame.DataFrame'>\n",
      "RangeIndex: 37816 entries, 0 to 37815\n",
      "Data columns (total 16 columns):\n",
      " #   Column             Non-Null Count  Dtype  \n",
      "---  ------             --------------  -----  \n",
      " 0   lib_mrq            37816 non-null  object \n",
      " 1   lib_mod_doss       37816 non-null  object \n",
      " 2   lib_mod            37816 non-null  object \n",
      " 3   dscom              37816 non-null  object \n",
      " 4   cnit               37816 non-null  object \n",
      " 5   tvv                37816 non-null  object \n",
      " 6   typ_cbr            37816 non-null  object \n",
      " 7   puiss_admin_98     37816 non-null  int64  \n",
      " 8   puiss_max          37816 non-null  float64\n",
      " 9   typ_boite_nb_rapp  37816 non-null  object \n",
      " 10  conso_urb          37774 non-null  float64\n",
      " 11  conso_exurb        37774 non-null  float64\n",
      " 12  conso_mixte        37775 non-null  float64\n",
      " 13  co2                37775 non-null  float64\n",
      " 14  champ_v9           37794 non-null  object \n",
      " 15  date_maj           37816 non-null  object \n",
      "dtypes: float64(5), int64(1), object(10)\n",
      "memory usage: 4.6+ MB\n"
     ]
    }
   ],
   "source": [
    "# original dataset\n",
    "\n",
    "df_2011 = pd.read_excel(\"datasets/2011_BASE CL MAJ JUIN 2011.xls\")\n",
    "df_2011.info()"
   ]
  },
  {
   "cell_type": "code",
   "execution_count": 4,
   "id": "0f330344",
   "metadata": {},
   "outputs": [
    {
     "data": {
      "text/html": [
       "<div>\n",
       "<style scoped>\n",
       "    .dataframe tbody tr th:only-of-type {\n",
       "        vertical-align: middle;\n",
       "    }\n",
       "\n",
       "    .dataframe tbody tr th {\n",
       "        vertical-align: top;\n",
       "    }\n",
       "\n",
       "    .dataframe thead th {\n",
       "        text-align: right;\n",
       "    }\n",
       "</style>\n",
       "<table border=\"1\" class=\"dataframe\">\n",
       "  <thead>\n",
       "    <tr style=\"text-align: right;\">\n",
       "      <th></th>\n",
       "      <th>typ_boite_nb_rapp</th>\n",
       "      <th>boite_v_auto</th>\n",
       "      <th>boite_v_rapp</th>\n",
       "    </tr>\n",
       "  </thead>\n",
       "  <tbody>\n",
       "    <tr>\n",
       "      <th>0</th>\n",
       "      <td>M 5</td>\n",
       "      <td>False</td>\n",
       "      <td>5</td>\n",
       "    </tr>\n",
       "    <tr>\n",
       "      <th>1</th>\n",
       "      <td>M 5</td>\n",
       "      <td>False</td>\n",
       "      <td>5</td>\n",
       "    </tr>\n",
       "    <tr>\n",
       "      <th>2</th>\n",
       "      <td>M 5</td>\n",
       "      <td>False</td>\n",
       "      <td>5</td>\n",
       "    </tr>\n",
       "    <tr>\n",
       "      <th>3</th>\n",
       "      <td>M 5</td>\n",
       "      <td>False</td>\n",
       "      <td>5</td>\n",
       "    </tr>\n",
       "    <tr>\n",
       "      <th>4</th>\n",
       "      <td>M 5</td>\n",
       "      <td>False</td>\n",
       "      <td>5</td>\n",
       "    </tr>\n",
       "    <tr>\n",
       "      <th>...</th>\n",
       "      <td>...</td>\n",
       "      <td>...</td>\n",
       "      <td>...</td>\n",
       "    </tr>\n",
       "    <tr>\n",
       "      <th>37811</th>\n",
       "      <td>A 6</td>\n",
       "      <td>True</td>\n",
       "      <td>6</td>\n",
       "    </tr>\n",
       "    <tr>\n",
       "      <th>37812</th>\n",
       "      <td>A 6</td>\n",
       "      <td>True</td>\n",
       "      <td>6</td>\n",
       "    </tr>\n",
       "    <tr>\n",
       "      <th>37813</th>\n",
       "      <td>A 6</td>\n",
       "      <td>True</td>\n",
       "      <td>6</td>\n",
       "    </tr>\n",
       "    <tr>\n",
       "      <th>37814</th>\n",
       "      <td>A 6</td>\n",
       "      <td>True</td>\n",
       "      <td>6</td>\n",
       "    </tr>\n",
       "    <tr>\n",
       "      <th>37815</th>\n",
       "      <td>A 6</td>\n",
       "      <td>True</td>\n",
       "      <td>6</td>\n",
       "    </tr>\n",
       "  </tbody>\n",
       "</table>\n",
       "<p>37816 rows × 3 columns</p>\n",
       "</div>"
      ],
      "text/plain": [
       "      typ_boite_nb_rapp boite_v_auto boite_v_rapp\n",
       "0                   M 5        False            5\n",
       "1                   M 5        False            5\n",
       "2                   M 5        False            5\n",
       "3                   M 5        False            5\n",
       "4                   M 5        False            5\n",
       "...                 ...          ...          ...\n",
       "37811               A 6         True            6\n",
       "37812               A 6         True            6\n",
       "37813               A 6         True            6\n",
       "37814               A 6         True            6\n",
       "37815               A 6         True            6\n",
       "\n",
       "[37816 rows x 3 columns]"
      ]
     },
     "execution_count": 4,
     "metadata": {},
     "output_type": "execute_result"
    }
   ],
   "source": [
    "# gearbox - boite de vitesse\n",
    "\n",
    "df_2011['boite_v_rapp'] = df_2011['typ_boite_nb_rapp'].str.extract(r'(?P<digit>\\d)')\n",
    "# df_2011['boite_v_rapp'] = df_2011['typ_boite_nb_rapp'].str.extract('(\\d+)')\n",
    "\n",
    "df_2011['boite_v_auto'] = df_2011['typ_boite_nb_rapp'].str.extract(r'(?P<letter>[AM])').replace({'A': True, 'M': False})\n",
    "\n",
    "df_2011[['typ_boite_nb_rapp', 'boite_v_auto', 'boite_v_rapp']]"
   ]
  },
  {
   "cell_type": "code",
   "execution_count": 5,
   "id": "c188f91d",
   "metadata": {},
   "outputs": [],
   "source": [
    "# columns correspondance\n",
    "df_2011_cols = {\"cnit\" : \"cnit\",\n",
    "                \"tvv\" : \"mine\",\n",
    "                \"lib_mrq\" : \"marque\",\n",
    "                \"lib_mod\" : \"modele\",\n",
    "                \"dscom\" : \"dscom\",\n",
    "                \"typ_cbr\" : \"carburant\",\n",
    "                \"puiss_admin_98\" : \"puiss_admin\",\n",
    "                \"puiss_max\" : \"puiss_max\",\n",
    "                \"conso_urb\" : \"conso_urb\",\n",
    "                \"conso_exurb\" : \"conso_exurb\",\n",
    "                \"conso_mixte\" : \"conso_mixte\",\n",
    "                \"co2\" : \"co2\"\n",
    "               }\n",
    "\n",
    "df_2011 = df_2011.rename(columns=df_2011_cols)"
   ]
  },
  {
   "cell_type": "code",
   "execution_count": 6,
   "id": "40479470",
   "metadata": {},
   "outputs": [
    {
     "name": "stdout",
     "output_type": "stream",
     "text": [
      "['lib_mod_doss', 'typ_boite_nb_rapp', 'champ_v9', 'date_maj'] dropped!\n"
     ]
    }
   ],
   "source": [
    "# columns cleaning - columns to drop\n",
    "col_to_drop = []\n",
    "for c in df_2011.columns :\n",
    "    if c not in my_dataset.columns:\n",
    "        col_to_drop.append(c)\n",
    "\n",
    "df_2011 = df_2011.drop(columns=col_to_drop)\n",
    "print(col_to_drop, \"dropped!\")"
   ]
  },
  {
   "cell_type": "code",
   "execution_count": 7,
   "id": "602f01d4",
   "metadata": {},
   "outputs": [
    {
     "name": "stdout",
     "output_type": "stream",
     "text": [
      "['hybride', 'dataset'] missing!\n"
     ]
    }
   ],
   "source": [
    "# missing columns - columns to add\n",
    "missing_columns = []\n",
    "for c in my_dataset.columns :\n",
    "    if c not in df_2011.columns:\n",
    "        missing_columns.append(c)\n",
    "\n",
    "print(missing_columns, \"missing!\")"
   ]
  },
  {
   "cell_type": "code",
   "execution_count": 8,
   "id": "377d7c31",
   "metadata": {},
   "outputs": [],
   "source": [
    "# add missing columns, drop empty entries\n",
    "df_2011['hybride'] = False\n",
    "df_2011['dataset'] = 2011"
   ]
  },
  {
   "cell_type": "code",
   "execution_count": 9,
   "id": "6e361661",
   "metadata": {},
   "outputs": [],
   "source": [
    "# clean - drop empty entries\n",
    "df_2011 = df_2011.dropna()"
   ]
  },
  {
   "cell_type": "code",
   "execution_count": 10,
   "id": "27a5488f",
   "metadata": {},
   "outputs": [],
   "source": [
    "# drop duplicate cnit (unique identifier)\n",
    "df_2011.drop_duplicates(subset=['cnit'], inplace=True)"
   ]
  },
  {
   "cell_type": "code",
   "execution_count": 11,
   "id": "d8b8c9ce",
   "metadata": {},
   "outputs": [
    {
     "name": "stdout",
     "output_type": "stream",
     "text": [
      "<class 'pandas.core.frame.DataFrame'>\n",
      "Int64Index: 37429 entries, 0 to 37815\n",
      "Data columns (total 16 columns):\n",
      " #   Column        Non-Null Count  Dtype  \n",
      "---  ------        --------------  -----  \n",
      " 0   marque        37429 non-null  object \n",
      " 1   modele        37429 non-null  object \n",
      " 2   dscom         37429 non-null  object \n",
      " 3   cnit          37429 non-null  object \n",
      " 4   mine          37429 non-null  object \n",
      " 5   carburant     37429 non-null  object \n",
      " 6   puiss_admin   37429 non-null  int64  \n",
      " 7   puiss_max     37429 non-null  float64\n",
      " 8   conso_urb     37429 non-null  float64\n",
      " 9   conso_exurb   37429 non-null  float64\n",
      " 10  conso_mixte   37429 non-null  float64\n",
      " 11  co2           37429 non-null  float64\n",
      " 12  boite_v_rapp  37429 non-null  object \n",
      " 13  boite_v_auto  37429 non-null  object \n",
      " 14  hybride       37429 non-null  bool   \n",
      " 15  dataset       37429 non-null  int64  \n",
      "dtypes: bool(1), float64(5), int64(2), object(8)\n",
      "memory usage: 4.6+ MB\n"
     ]
    }
   ],
   "source": [
    "df_2011.info()\n"
   ]
  },
  {
   "cell_type": "code",
   "execution_count": 12,
   "id": "9d14a810",
   "metadata": {},
   "outputs": [
    {
     "name": "stdout",
     "output_type": "stream",
     "text": [
      "<class 'pandas.core.frame.DataFrame'>\n",
      "Int64Index: 37429 entries, 0 to 37815\n",
      "Data columns (total 16 columns):\n",
      " #   Column        Non-Null Count  Dtype  \n",
      "---  ------        --------------  -----  \n",
      " 0   marque        37429 non-null  object \n",
      " 1   modele        37429 non-null  object \n",
      " 2   dscom         37429 non-null  object \n",
      " 3   cnit          37429 non-null  object \n",
      " 4   mine          37429 non-null  object \n",
      " 5   carburant     37429 non-null  object \n",
      " 6   puiss_admin   37429 non-null  float64\n",
      " 7   puiss_max     37429 non-null  float64\n",
      " 8   conso_urb     37429 non-null  float64\n",
      " 9   conso_exurb   37429 non-null  float64\n",
      " 10  conso_mixte   37429 non-null  float64\n",
      " 11  co2           37429 non-null  float64\n",
      " 12  boite_v_rapp  37429 non-null  int64  \n",
      " 13  boite_v_auto  37429 non-null  bool   \n",
      " 14  hybride       37429 non-null  bool   \n",
      " 15  dataset       37429 non-null  int64  \n",
      "dtypes: bool(2), float64(6), int64(2), object(6)\n",
      "memory usage: 4.4+ MB\n"
     ]
    }
   ],
   "source": [
    "# data types concordance\n",
    "df_2011 = df_2011.astype(my_dataset.dtypes.to_dict())\n",
    "df_2011.info()\n"
   ]
  },
  {
   "cell_type": "code",
   "execution_count": 13,
   "id": "c347fe07",
   "metadata": {},
   "outputs": [
    {
     "name": "stdout",
     "output_type": "stream",
     "text": [
      "<class 'pandas.core.frame.DataFrame'>\n",
      "RangeIndex: 37429 entries, 0 to 37428\n",
      "Data columns (total 16 columns):\n",
      " #   Column        Non-Null Count  Dtype  \n",
      "---  ------        --------------  -----  \n",
      " 0   cnit          37429 non-null  object \n",
      " 1   mine          37429 non-null  object \n",
      " 2   marque        37429 non-null  object \n",
      " 3   modele        37429 non-null  object \n",
      " 4   dscom         37429 non-null  object \n",
      " 5   carburant     37429 non-null  object \n",
      " 6   hybride       37429 non-null  bool   \n",
      " 7   puiss_admin   37429 non-null  float64\n",
      " 8   puiss_max     37429 non-null  float64\n",
      " 9   boite_v_auto  37429 non-null  bool   \n",
      " 10  boite_v_rapp  37429 non-null  int64  \n",
      " 11  conso_urb     37429 non-null  float64\n",
      " 12  conso_exurb   37429 non-null  float64\n",
      " 13  conso_mixte   37429 non-null  float64\n",
      " 14  co2           37429 non-null  float64\n",
      " 15  dataset       37429 non-null  int64  \n",
      "dtypes: bool(2), float64(6), int64(2), object(6)\n",
      "memory usage: 4.1+ MB\n"
     ]
    }
   ],
   "source": [
    "#  import\n",
    "my_dataset = pd.concat([my_dataset, df_2011])\n",
    "my_dataset.reset_index(inplace=True, drop=True)\n",
    "my_dataset.info()"
   ]
  },
  {
   "cell_type": "markdown",
   "id": "566b6688",
   "metadata": {},
   "source": [
    "[Back to top](#toc)"
   ]
  },
  {
   "cell_type": "markdown",
   "id": "3d3b2ecc",
   "metadata": {},
   "source": [
    "## Second import (update) <a id=\"second_import\"></a>"
   ]
  },
  {
   "cell_type": "code",
   "execution_count": 14,
   "id": "ee4d9115",
   "metadata": {},
   "outputs": [
    {
     "name": "stdout",
     "output_type": "stream",
     "text": [
      "<class 'pandas.core.frame.DataFrame'>\n",
      "RangeIndex: 40052 entries, 0 to 40051\n",
      "Data columns (total 26 columns):\n",
      " #   Column             Non-Null Count  Dtype  \n",
      "---  ------             --------------  -----  \n",
      " 0   lib_mrq            40052 non-null  object \n",
      " 1   lib_mod_doss       40052 non-null  object \n",
      " 2   lib_mod            40052 non-null  object \n",
      " 3   dscom              40052 non-null  object \n",
      " 4   cnit               40052 non-null  object \n",
      " 5   tvv                40052 non-null  object \n",
      " 6   typ_cbr            40052 non-null  object \n",
      " 7   hybride            40052 non-null  object \n",
      " 8   puiss_admin_98     40052 non-null  int64  \n",
      " 9   puiss_max          40052 non-null  int64  \n",
      " 10  typ_boite_nb_rapp  40052 non-null  object \n",
      " 11  conso_urb          40020 non-null  object \n",
      " 12  conso_exurb        40020 non-null  object \n",
      " 13  conso_mixte        40022 non-null  object \n",
      " 14  co2                40022 non-null  float64\n",
      " 15  co_typ_1           39905 non-null  object \n",
      " 16  hc                 8357 non-null   object \n",
      " 17  nox                39905 non-null  object \n",
      " 18  hcnox              31606 non-null  object \n",
      " 19  ptcl               37355 non-null  object \n",
      " 20  masse_ordma_min    40052 non-null  int64  \n",
      " 21  masse_ordma_max    40052 non-null  int64  \n",
      " 22  champ_v9           39970 non-null  object \n",
      " 23  date_maj           0 non-null      float64\n",
      " 24  Carrosserie        40052 non-null  object \n",
      " 25  gamme              40052 non-null  object \n",
      "dtypes: float64(2), int64(4), object(20)\n",
      "memory usage: 7.9+ MB\n"
     ]
    }
   ],
   "source": [
    "# dataset\n",
    "df_2012 = pd.read_csv(\"datasets/2012_BASE CL MAJ JUIN 2012.csv\", sep=';',encoding = 'latin-1')\n",
    "df_2012.info()"
   ]
  },
  {
   "cell_type": "code",
   "execution_count": 15,
   "id": "a04fcf5e",
   "metadata": {},
   "outputs": [
    {
     "data": {
      "text/html": [
       "<div>\n",
       "<style scoped>\n",
       "    .dataframe tbody tr th:only-of-type {\n",
       "        vertical-align: middle;\n",
       "    }\n",
       "\n",
       "    .dataframe tbody tr th {\n",
       "        vertical-align: top;\n",
       "    }\n",
       "\n",
       "    .dataframe thead th {\n",
       "        text-align: right;\n",
       "    }\n",
       "</style>\n",
       "<table border=\"1\" class=\"dataframe\">\n",
       "  <thead>\n",
       "    <tr style=\"text-align: right;\">\n",
       "      <th></th>\n",
       "      <th>typ_boite_nb_rapp</th>\n",
       "      <th>boite_v_auto</th>\n",
       "      <th>boite_v_rapp</th>\n",
       "    </tr>\n",
       "  </thead>\n",
       "  <tbody>\n",
       "    <tr>\n",
       "      <th>0</th>\n",
       "      <td>M 6</td>\n",
       "      <td>False</td>\n",
       "      <td>6</td>\n",
       "    </tr>\n",
       "    <tr>\n",
       "      <th>1</th>\n",
       "      <td>M 6</td>\n",
       "      <td>False</td>\n",
       "      <td>6</td>\n",
       "    </tr>\n",
       "    <tr>\n",
       "      <th>2</th>\n",
       "      <td>M 6</td>\n",
       "      <td>False</td>\n",
       "      <td>6</td>\n",
       "    </tr>\n",
       "    <tr>\n",
       "      <th>3</th>\n",
       "      <td>M 6</td>\n",
       "      <td>False</td>\n",
       "      <td>6</td>\n",
       "    </tr>\n",
       "    <tr>\n",
       "      <th>4</th>\n",
       "      <td>M 6</td>\n",
       "      <td>False</td>\n",
       "      <td>6</td>\n",
       "    </tr>\n",
       "    <tr>\n",
       "      <th>...</th>\n",
       "      <td>...</td>\n",
       "      <td>...</td>\n",
       "      <td>...</td>\n",
       "    </tr>\n",
       "    <tr>\n",
       "      <th>40047</th>\n",
       "      <td>M 6</td>\n",
       "      <td>False</td>\n",
       "      <td>6</td>\n",
       "    </tr>\n",
       "    <tr>\n",
       "      <th>40048</th>\n",
       "      <td>M 6</td>\n",
       "      <td>False</td>\n",
       "      <td>6</td>\n",
       "    </tr>\n",
       "    <tr>\n",
       "      <th>40049</th>\n",
       "      <td>M 6</td>\n",
       "      <td>False</td>\n",
       "      <td>6</td>\n",
       "    </tr>\n",
       "    <tr>\n",
       "      <th>40050</th>\n",
       "      <td>M 6</td>\n",
       "      <td>False</td>\n",
       "      <td>6</td>\n",
       "    </tr>\n",
       "    <tr>\n",
       "      <th>40051</th>\n",
       "      <td>M 6</td>\n",
       "      <td>False</td>\n",
       "      <td>6</td>\n",
       "    </tr>\n",
       "  </tbody>\n",
       "</table>\n",
       "<p>40052 rows × 3 columns</p>\n",
       "</div>"
      ],
      "text/plain": [
       "      typ_boite_nb_rapp boite_v_auto boite_v_rapp\n",
       "0                   M 6        False            6\n",
       "1                   M 6        False            6\n",
       "2                   M 6        False            6\n",
       "3                   M 6        False            6\n",
       "4                   M 6        False            6\n",
       "...                 ...          ...          ...\n",
       "40047               M 6        False            6\n",
       "40048               M 6        False            6\n",
       "40049               M 6        False            6\n",
       "40050               M 6        False            6\n",
       "40051               M 6        False            6\n",
       "\n",
       "[40052 rows x 3 columns]"
      ]
     },
     "execution_count": 15,
     "metadata": {},
     "output_type": "execute_result"
    }
   ],
   "source": [
    "# gearbox - boite de vitesse\n",
    "\n",
    "# df_2012['boite_v_rapp'] = df_2012['typ_boite_nb_rapp'].str.extract(r'(?P<digit>\\d)')\n",
    "df_2012['boite_v_rapp'] = df_2012['typ_boite_nb_rapp'].str.extract('(\\d+)')\n",
    "\n",
    "df_2012['boite_v_auto'] = df_2012['typ_boite_nb_rapp'].str.extract(r'(?P<letter>[AM])').replace({'A': True, 'M': False})\n",
    "\n",
    "df_2012[['typ_boite_nb_rapp', 'boite_v_auto', 'boite_v_rapp']]"
   ]
  },
  {
   "cell_type": "code",
   "execution_count": 16,
   "id": "b4c63bd6",
   "metadata": {},
   "outputs": [
    {
     "data": {
      "text/plain": [
       "False    39911\n",
       "True       141\n",
       "Name: hybride, dtype: int64"
      ]
     },
     "execution_count": 16,
     "metadata": {},
     "output_type": "execute_result"
    }
   ],
   "source": [
    "# hybrid\n",
    "df_2012['hybride'] = df_2012['hybride'].replace({'oui': True, 'non': False})\n",
    "df_2012['hybride'].value_counts()\n"
   ]
  },
  {
   "cell_type": "code",
   "execution_count": 17,
   "id": "e4f8fa7b",
   "metadata": {},
   "outputs": [],
   "source": [
    "# conso\n",
    "df_2012['conso_urb'] = df_2012['conso_urb'].str.replace(',','.')\n",
    "df_2012['conso_exurb'] = df_2012['conso_exurb'].str.replace(',','.')\n",
    "df_2012['conso_mixte'] = df_2012['conso_mixte'].str.replace(',','.')\n"
   ]
  },
  {
   "cell_type": "code",
   "execution_count": 18,
   "id": "84e1af1d",
   "metadata": {},
   "outputs": [],
   "source": [
    "# columns correspondance\n",
    "df_2012_cols = {\"cnit\" : \"cnit\",\n",
    "                \"tvv\" : \"mine\",\n",
    "                \"lib_mrq\" : \"marque\",\n",
    "                \"lib_mod\" : \"modele\",\n",
    "                \"dscom\" : \"dscom\",\n",
    "                \"typ_cbr\" : \"carburant\",\n",
    "                \"hybride\" : \"hybride\",\n",
    "                \"puiss_admin_98\" : \"puiss_admin\",\n",
    "                \"puiss_max\" : \"puiss_max\",\n",
    "                \"conso_urb\" : \"conso_urb\",\n",
    "                \"conso_exurb\" : \"conso_exurb\",\n",
    "                \"conso_mixte\" : \"conso_mixte\",\n",
    "                \"co2\" : \"co2\"\n",
    "               }\n",
    "\n",
    "df_2012 = df_2012.rename(columns=df_2012_cols)\n"
   ]
  },
  {
   "cell_type": "code",
   "execution_count": 19,
   "id": "565996ac",
   "metadata": {},
   "outputs": [
    {
     "name": "stdout",
     "output_type": "stream",
     "text": [
      "['lib_mod_doss', 'typ_boite_nb_rapp', 'co_typ_1', 'hc', 'nox', 'hcnox', 'ptcl', 'masse_ordma_min', 'masse_ordma_max', 'champ_v9', 'date_maj', 'Carrosserie', 'gamme'] dropped!\n"
     ]
    }
   ],
   "source": [
    "# columns cleaning - columns to drop\n",
    "col_to_drop = []\n",
    "for c in df_2012.columns :\n",
    "    if c not in my_dataset.columns:\n",
    "        col_to_drop.append(c)\n",
    "\n",
    "df_2012 = df_2012.drop(columns=col_to_drop)\n",
    "print(col_to_drop, \"dropped!\")"
   ]
  },
  {
   "cell_type": "code",
   "execution_count": 20,
   "id": "901d61ad",
   "metadata": {},
   "outputs": [
    {
     "name": "stdout",
     "output_type": "stream",
     "text": [
      "['dataset'] missing!\n"
     ]
    }
   ],
   "source": [
    "# missing columns - columns to add\n",
    "missing_columns = []\n",
    "for c in my_dataset.columns :\n",
    "    if c not in df_2012.columns:\n",
    "        missing_columns.append(c)\n",
    "\n",
    "print(missing_columns, \"missing!\")"
   ]
  },
  {
   "cell_type": "code",
   "execution_count": 21,
   "id": "2e5af3df",
   "metadata": {},
   "outputs": [],
   "source": [
    "# add missing columns\n",
    "df_2012['dataset'] = 2012"
   ]
  },
  {
   "cell_type": "code",
   "execution_count": 22,
   "id": "144a26ba",
   "metadata": {},
   "outputs": [],
   "source": [
    "# clean - drop empty entries\n",
    "df_2012 = df_2012.dropna()"
   ]
  },
  {
   "cell_type": "code",
   "execution_count": 23,
   "id": "d3fe31dd",
   "metadata": {},
   "outputs": [],
   "source": [
    "# drop duplicate cnit (unique identifier)\n",
    "df_2012.drop_duplicates(subset=['cnit'], inplace=True)\n",
    "df_2012.reset_index(inplace=True, drop=True)"
   ]
  },
  {
   "cell_type": "code",
   "execution_count": 24,
   "id": "69c014cf",
   "metadata": {},
   "outputs": [
    {
     "name": "stdout",
     "output_type": "stream",
     "text": [
      "<class 'pandas.core.frame.DataFrame'>\n",
      "RangeIndex: 39352 entries, 0 to 39351\n",
      "Data columns (total 16 columns):\n",
      " #   Column        Non-Null Count  Dtype  \n",
      "---  ------        --------------  -----  \n",
      " 0   marque        39352 non-null  object \n",
      " 1   modele        39352 non-null  object \n",
      " 2   dscom         39352 non-null  object \n",
      " 3   cnit          39352 non-null  object \n",
      " 4   mine          39352 non-null  object \n",
      " 5   carburant     39352 non-null  object \n",
      " 6   hybride       39352 non-null  bool   \n",
      " 7   puiss_admin   39352 non-null  int64  \n",
      " 8   puiss_max     39352 non-null  int64  \n",
      " 9   conso_urb     39352 non-null  object \n",
      " 10  conso_exurb   39352 non-null  object \n",
      " 11  conso_mixte   39352 non-null  object \n",
      " 12  co2           39352 non-null  float64\n",
      " 13  boite_v_rapp  39352 non-null  object \n",
      " 14  boite_v_auto  39352 non-null  object \n",
      " 15  dataset       39352 non-null  int64  \n",
      "dtypes: bool(1), float64(1), int64(3), object(11)\n",
      "memory usage: 4.5+ MB\n"
     ]
    }
   ],
   "source": [
    "df_2012.info()"
   ]
  },
  {
   "cell_type": "code",
   "execution_count": 25,
   "id": "4ff01085",
   "metadata": {},
   "outputs": [
    {
     "name": "stdout",
     "output_type": "stream",
     "text": [
      "<class 'pandas.core.frame.DataFrame'>\n",
      "RangeIndex: 39352 entries, 0 to 39351\n",
      "Data columns (total 16 columns):\n",
      " #   Column        Non-Null Count  Dtype  \n",
      "---  ------        --------------  -----  \n",
      " 0   marque        39352 non-null  object \n",
      " 1   modele        39352 non-null  object \n",
      " 2   dscom         39352 non-null  object \n",
      " 3   cnit          39352 non-null  object \n",
      " 4   mine          39352 non-null  object \n",
      " 5   carburant     39352 non-null  object \n",
      " 6   hybride       39352 non-null  bool   \n",
      " 7   puiss_admin   39352 non-null  float64\n",
      " 8   puiss_max     39352 non-null  float64\n",
      " 9   conso_urb     39352 non-null  float64\n",
      " 10  conso_exurb   39352 non-null  float64\n",
      " 11  conso_mixte   39352 non-null  float64\n",
      " 12  co2           39352 non-null  float64\n",
      " 13  boite_v_rapp  39352 non-null  int64  \n",
      " 14  boite_v_auto  39352 non-null  bool   \n",
      " 15  dataset       39352 non-null  int64  \n",
      "dtypes: bool(2), float64(6), int64(2), object(6)\n",
      "memory usage: 4.3+ MB\n"
     ]
    }
   ],
   "source": [
    "# data types concordance\n",
    "df_2012 = df_2012.astype(my_dataset.dtypes.to_dict())\n",
    "df_2012.info()\n"
   ]
  },
  {
   "cell_type": "code",
   "execution_count": 26,
   "id": "8b5bb68e",
   "metadata": {},
   "outputs": [
    {
     "name": "stdout",
     "output_type": "stream",
     "text": [
      "working dataset has 37429 entries\n",
      "import dataset has 39352 entries\n",
      "7126 duplicate entries will be removed from working dataset\n",
      "working dataset has now 69655 entries\n"
     ]
    }
   ],
   "source": [
    "#  import last dataset : if cnit already exists -> keep last\n",
    "to_drop = my_dataset[my_dataset['cnit'].isin(df_2012['cnit'])]\n",
    "\n",
    "print(\"working dataset has\",my_dataset.shape[0], \"entries\")\n",
    "print(\"import dataset has\",df_2012.shape[0], \"entries\")\n",
    "print(to_drop.shape[0], \"duplicate entries will be removed from working dataset\")\n",
    "\n",
    "# drop duplicates & import\n",
    "my_dataset = my_dataset.drop(index=to_drop.index)\n",
    "my_dataset = pd.concat([my_dataset, df_2012])\n",
    "my_dataset.reset_index(inplace=True, drop=True)\n",
    "\n",
    "print(\"working dataset has now\",my_dataset.shape[0], \"entries\")\n"
   ]
  },
  {
   "cell_type": "code",
   "execution_count": 27,
   "id": "3d9c3974",
   "metadata": {},
   "outputs": [
    {
     "name": "stdout",
     "output_type": "stream",
     "text": [
      "<class 'pandas.core.frame.DataFrame'>\n",
      "RangeIndex: 69655 entries, 0 to 69654\n",
      "Data columns (total 16 columns):\n",
      " #   Column        Non-Null Count  Dtype  \n",
      "---  ------        --------------  -----  \n",
      " 0   cnit          69655 non-null  object \n",
      " 1   mine          69655 non-null  object \n",
      " 2   marque        69655 non-null  object \n",
      " 3   modele        69655 non-null  object \n",
      " 4   dscom         69655 non-null  object \n",
      " 5   carburant     69655 non-null  object \n",
      " 6   hybride       69655 non-null  bool   \n",
      " 7   puiss_admin   69655 non-null  float64\n",
      " 8   puiss_max     69655 non-null  float64\n",
      " 9   boite_v_auto  69655 non-null  bool   \n",
      " 10  boite_v_rapp  69655 non-null  int64  \n",
      " 11  conso_urb     69655 non-null  float64\n",
      " 12  conso_exurb   69655 non-null  float64\n",
      " 13  conso_mixte   69655 non-null  float64\n",
      " 14  co2           69655 non-null  float64\n",
      " 15  dataset       69655 non-null  int64  \n",
      "dtypes: bool(2), float64(6), int64(2), object(6)\n",
      "memory usage: 7.6+ MB\n"
     ]
    }
   ],
   "source": [
    "my_dataset.info()"
   ]
  },
  {
   "cell_type": "markdown",
   "id": "fcc9774e",
   "metadata": {},
   "source": [
    "## Third import (update) <a id=\"third_import\"></a>"
   ]
  },
  {
   "cell_type": "code",
   "execution_count": 28,
   "id": "2c4ed7b4",
   "metadata": {},
   "outputs": [
    {
     "name": "stdout",
     "output_type": "stream",
     "text": [
      "<class 'pandas.core.frame.DataFrame'>\n",
      "RangeIndex: 44850 entries, 0 to 44849\n",
      "Data columns (total 26 columns):\n",
      " #   Column                                Non-Null Count  Dtype  \n",
      "---  ------                                --------------  -----  \n",
      " 0   Marque                                44850 non-null  object \n",
      " 1   Modèle dossier                        44850 non-null  object \n",
      " 2   Modèle UTAC                           44850 non-null  object \n",
      " 3   Désignation commerciale               44850 non-null  object \n",
      " 4   CNIT                                  44850 non-null  object \n",
      " 5   Type Variante Version (TVV)           44850 non-null  object \n",
      " 6   Carburant                             44850 non-null  object \n",
      " 7   Hybride                               44850 non-null  object \n",
      " 8   Puissance administrative              44850 non-null  int64  \n",
      " 9   Puissance maximale (kW)               44850 non-null  float64\n",
      " 10  Boîte de vitesse                      44850 non-null  object \n",
      " 11  Consommation urbaine (l/100km)        44808 non-null  float64\n",
      " 12  Consommation extra-urbaine (l/100km)  44808 non-null  float64\n",
      " 13  Consommation mixte (l/100km)          44811 non-null  float64\n",
      " 14  CO2 (g/km)                            44811 non-null  float64\n",
      " 15  CO type I (g/km)                      44547 non-null  float64\n",
      " 16  HC (g/km)                             10403 non-null  float64\n",
      " 17  NOX (g/km)                            44547 non-null  float64\n",
      " 18  HC+NOX (g/km)                         34191 non-null  float64\n",
      " 19  Particules (g/km)                     41708 non-null  float64\n",
      " 20  masse vide euro min (kg)              44850 non-null  int64  \n",
      " 21  masse vide euro max (kg)              44850 non-null  int64  \n",
      " 22  Champ V9                              44615 non-null  object \n",
      " 23  Date de mise à jour                   44850 non-null  object \n",
      " 24  Carrosserie                           44850 non-null  object \n",
      " 25  gamme                                 44850 non-null  object \n",
      "dtypes: float64(10), int64(3), object(13)\n",
      "memory usage: 8.9+ MB\n"
     ]
    }
   ],
   "source": [
    "# dataset\n",
    "df_2013 = pd.read_csv(\"datasets/2013_cl_JUIN_2013-complet3.csv\", sep=';',encoding = 'latin-1')\n",
    "df_2013.info()"
   ]
  },
  {
   "cell_type": "code",
   "execution_count": 29,
   "id": "64c30bbf",
   "metadata": {},
   "outputs": [
    {
     "data": {
      "text/html": [
       "<div>\n",
       "<style scoped>\n",
       "    .dataframe tbody tr th:only-of-type {\n",
       "        vertical-align: middle;\n",
       "    }\n",
       "\n",
       "    .dataframe tbody tr th {\n",
       "        vertical-align: top;\n",
       "    }\n",
       "\n",
       "    .dataframe thead th {\n",
       "        text-align: right;\n",
       "    }\n",
       "</style>\n",
       "<table border=\"1\" class=\"dataframe\">\n",
       "  <thead>\n",
       "    <tr style=\"text-align: right;\">\n",
       "      <th></th>\n",
       "      <th>Boîte de vitesse</th>\n",
       "      <th>boite_v_auto</th>\n",
       "      <th>boite_v_rapp</th>\n",
       "    </tr>\n",
       "  </thead>\n",
       "  <tbody>\n",
       "    <tr>\n",
       "      <th>0</th>\n",
       "      <td>M 6</td>\n",
       "      <td>False</td>\n",
       "      <td>6</td>\n",
       "    </tr>\n",
       "    <tr>\n",
       "      <th>1</th>\n",
       "      <td>M 6</td>\n",
       "      <td>False</td>\n",
       "      <td>6</td>\n",
       "    </tr>\n",
       "    <tr>\n",
       "      <th>2</th>\n",
       "      <td>M 6</td>\n",
       "      <td>False</td>\n",
       "      <td>6</td>\n",
       "    </tr>\n",
       "    <tr>\n",
       "      <th>3</th>\n",
       "      <td>M 6</td>\n",
       "      <td>False</td>\n",
       "      <td>6</td>\n",
       "    </tr>\n",
       "    <tr>\n",
       "      <th>4</th>\n",
       "      <td>M 6</td>\n",
       "      <td>False</td>\n",
       "      <td>6</td>\n",
       "    </tr>\n",
       "    <tr>\n",
       "      <th>...</th>\n",
       "      <td>...</td>\n",
       "      <td>...</td>\n",
       "      <td>...</td>\n",
       "    </tr>\n",
       "    <tr>\n",
       "      <th>44845</th>\n",
       "      <td>A 6</td>\n",
       "      <td>True</td>\n",
       "      <td>6</td>\n",
       "    </tr>\n",
       "    <tr>\n",
       "      <th>44846</th>\n",
       "      <td>M 6</td>\n",
       "      <td>False</td>\n",
       "      <td>6</td>\n",
       "    </tr>\n",
       "    <tr>\n",
       "      <th>44847</th>\n",
       "      <td>A 6</td>\n",
       "      <td>True</td>\n",
       "      <td>6</td>\n",
       "    </tr>\n",
       "    <tr>\n",
       "      <th>44848</th>\n",
       "      <td>M 6</td>\n",
       "      <td>False</td>\n",
       "      <td>6</td>\n",
       "    </tr>\n",
       "    <tr>\n",
       "      <th>44849</th>\n",
       "      <td>A 6</td>\n",
       "      <td>True</td>\n",
       "      <td>6</td>\n",
       "    </tr>\n",
       "  </tbody>\n",
       "</table>\n",
       "<p>44850 rows × 3 columns</p>\n",
       "</div>"
      ],
      "text/plain": [
       "      Boîte de vitesse boite_v_auto boite_v_rapp\n",
       "0                  M 6        False            6\n",
       "1                  M 6        False            6\n",
       "2                  M 6        False            6\n",
       "3                  M 6        False            6\n",
       "4                  M 6        False            6\n",
       "...                ...          ...          ...\n",
       "44845              A 6         True            6\n",
       "44846              M 6        False            6\n",
       "44847              A 6         True            6\n",
       "44848              M 6        False            6\n",
       "44849              A 6         True            6\n",
       "\n",
       "[44850 rows x 3 columns]"
      ]
     },
     "execution_count": 29,
     "metadata": {},
     "output_type": "execute_result"
    }
   ],
   "source": [
    "# gearbox - boite de vitesse\n",
    "\n",
    "df_2013['boite_v_rapp'] = df_2013['Boîte de vitesse'].str.extract(r'(?P<digit>\\d)')\n",
    "\n",
    "df_2013['boite_v_auto'] = df_2013['Boîte de vitesse'].str.extract(r'(?P<letter>[AM])').replace({'A': True, 'M': False})\n",
    "\n",
    "df_2013[['Boîte de vitesse', 'boite_v_auto', 'boite_v_rapp']]\n"
   ]
  },
  {
   "cell_type": "code",
   "execution_count": 30,
   "id": "40d262e3",
   "metadata": {},
   "outputs": [
    {
     "data": {
      "text/plain": [
       "False    44593\n",
       "True       257\n",
       "Name: Hybride, dtype: int64"
      ]
     },
     "execution_count": 30,
     "metadata": {},
     "output_type": "execute_result"
    }
   ],
   "source": [
    "# hybrid\n",
    "df_2013['Hybride'] = df_2013['Hybride'].replace({'oui': True, 'non': False})\n",
    "df_2013['Hybride'].value_counts()"
   ]
  },
  {
   "cell_type": "code",
   "execution_count": 31,
   "id": "cd127890",
   "metadata": {},
   "outputs": [],
   "source": [
    "# columns correspondance\n",
    "df_2013_cols = {\"CNIT\" : \"cnit\",\n",
    "                \"Type Variante Version (TVV)\" : \"mine\",\n",
    "                \"Marque\" : \"marque\",\n",
    "                \"Modèle dossier\" : \"modele\",\n",
    "                \"Désignation commerciale\" : \"dscom\",\n",
    "                \"Carburant\" : \"carburant\",\n",
    "                \"Hybride\" : \"hybride\",\n",
    "                \"Puissance administrative\" : \"puiss_admin\",\n",
    "                \"Puissance maximale (kW)\" : \"puiss_max\",\n",
    "                \"Consommation urbaine (l/100km)\" : \"conso_urb\",\n",
    "                \"Consommation extra-urbaine (l/100km)\" : \"conso_exurb\",\n",
    "                \"Consommation mixte (l/100km)\" : \"conso_mixte\",\n",
    "                \"CO2 (g/km)\" : \"co2\"\n",
    "               }\n",
    "\n",
    "df_2013 = df_2013.rename(columns=df_2013_cols)\n"
   ]
  },
  {
   "cell_type": "code",
   "execution_count": 32,
   "id": "19f0cb38",
   "metadata": {},
   "outputs": [
    {
     "name": "stdout",
     "output_type": "stream",
     "text": [
      "['Modèle UTAC', 'Boîte de vitesse', 'CO type I (g/km)', 'HC (g/km)', 'NOX (g/km)', 'HC+NOX (g/km)', 'Particules (g/km)', 'masse vide euro min (kg)', 'masse vide euro max (kg)', 'Champ V9', 'Date de mise à jour', 'Carrosserie', 'gamme'] dropped!\n"
     ]
    }
   ],
   "source": [
    "# columns cleaning - columns to drop\n",
    "col_to_drop = []\n",
    "for c in df_2013.columns :\n",
    "    if c not in my_dataset.columns:\n",
    "        col_to_drop.append(c)\n",
    "\n",
    "df_2013 = df_2013.drop(columns=col_to_drop)\n",
    "print(col_to_drop, \"dropped!\")"
   ]
  },
  {
   "cell_type": "code",
   "execution_count": 33,
   "id": "6473438f",
   "metadata": {},
   "outputs": [
    {
     "name": "stdout",
     "output_type": "stream",
     "text": [
      "['dataset'] missing!\n"
     ]
    }
   ],
   "source": [
    "# missing columns - columns to add\n",
    "missing_columns = []\n",
    "for c in my_dataset.columns :\n",
    "    if c not in df_2013.columns:\n",
    "        missing_columns.append(c)\n",
    "\n",
    "print(missing_columns, \"missing!\")"
   ]
  },
  {
   "cell_type": "code",
   "execution_count": 34,
   "id": "de54359e",
   "metadata": {},
   "outputs": [],
   "source": [
    "# add missing columns, drop empty entries\n",
    "df_2013['dataset'] = 2013"
   ]
  },
  {
   "cell_type": "code",
   "execution_count": 35,
   "id": "98b03b24",
   "metadata": {},
   "outputs": [],
   "source": [
    "# clean - drop empty entries\n",
    "df_2013 = df_2013.dropna()"
   ]
  },
  {
   "cell_type": "code",
   "execution_count": 36,
   "id": "548f1659",
   "metadata": {},
   "outputs": [],
   "source": [
    "# drop duplicate cnit (unique identifier)\n",
    "df_2013.drop_duplicates(subset=['cnit'], inplace=True)\n",
    "df_2013.reset_index(inplace=True, drop=True)"
   ]
  },
  {
   "cell_type": "code",
   "execution_count": 37,
   "id": "4a8dfd84",
   "metadata": {},
   "outputs": [
    {
     "name": "stdout",
     "output_type": "stream",
     "text": [
      "<class 'pandas.core.frame.DataFrame'>\n",
      "RangeIndex: 43926 entries, 0 to 43925\n",
      "Data columns (total 16 columns):\n",
      " #   Column        Non-Null Count  Dtype  \n",
      "---  ------        --------------  -----  \n",
      " 0   marque        43926 non-null  object \n",
      " 1   modele        43926 non-null  object \n",
      " 2   dscom         43926 non-null  object \n",
      " 3   cnit          43926 non-null  object \n",
      " 4   mine          43926 non-null  object \n",
      " 5   carburant     43926 non-null  object \n",
      " 6   hybride       43926 non-null  bool   \n",
      " 7   puiss_admin   43926 non-null  int64  \n",
      " 8   puiss_max     43926 non-null  float64\n",
      " 9   conso_urb     43926 non-null  float64\n",
      " 10  conso_exurb   43926 non-null  float64\n",
      " 11  conso_mixte   43926 non-null  float64\n",
      " 12  co2           43926 non-null  float64\n",
      " 13  boite_v_rapp  43926 non-null  object \n",
      " 14  boite_v_auto  43926 non-null  object \n",
      " 15  dataset       43926 non-null  int64  \n",
      "dtypes: bool(1), float64(5), int64(2), object(8)\n",
      "memory usage: 5.1+ MB\n"
     ]
    }
   ],
   "source": [
    "df_2013.info()"
   ]
  },
  {
   "cell_type": "code",
   "execution_count": 38,
   "id": "77846bc5",
   "metadata": {},
   "outputs": [
    {
     "name": "stdout",
     "output_type": "stream",
     "text": [
      "<class 'pandas.core.frame.DataFrame'>\n",
      "RangeIndex: 43926 entries, 0 to 43925\n",
      "Data columns (total 16 columns):\n",
      " #   Column        Non-Null Count  Dtype  \n",
      "---  ------        --------------  -----  \n",
      " 0   marque        43926 non-null  object \n",
      " 1   modele        43926 non-null  object \n",
      " 2   dscom         43926 non-null  object \n",
      " 3   cnit          43926 non-null  object \n",
      " 4   mine          43926 non-null  object \n",
      " 5   carburant     43926 non-null  object \n",
      " 6   hybride       43926 non-null  bool   \n",
      " 7   puiss_admin   43926 non-null  float64\n",
      " 8   puiss_max     43926 non-null  float64\n",
      " 9   conso_urb     43926 non-null  float64\n",
      " 10  conso_exurb   43926 non-null  float64\n",
      " 11  conso_mixte   43926 non-null  float64\n",
      " 12  co2           43926 non-null  float64\n",
      " 13  boite_v_rapp  43926 non-null  int64  \n",
      " 14  boite_v_auto  43926 non-null  bool   \n",
      " 15  dataset       43926 non-null  int64  \n",
      "dtypes: bool(2), float64(6), int64(2), object(6)\n",
      "memory usage: 4.8+ MB\n"
     ]
    }
   ],
   "source": [
    "# data types concordance\n",
    "df_2013 = df_2013.astype(my_dataset.dtypes.to_dict())\n",
    "df_2013.info()\n"
   ]
  },
  {
   "cell_type": "code",
   "execution_count": 39,
   "id": "494dda92",
   "metadata": {},
   "outputs": [
    {
     "name": "stdout",
     "output_type": "stream",
     "text": [
      "working dataset has 69655 entries\n",
      "import dataset has 43926 entries\n",
      "36294 duplicate entries will be removed from working dataset\n",
      "working dataset has now 77287 entries\n"
     ]
    }
   ],
   "source": [
    "#  import last dataset : if cnit already exists -> keep last\n",
    "to_drop = my_dataset[my_dataset['cnit'].isin(df_2013['cnit'])]\n",
    "\n",
    "print(\"working dataset has\",my_dataset.shape[0], \"entries\")\n",
    "print(\"import dataset has\",df_2013.shape[0], \"entries\")\n",
    "print(to_drop.shape[0], \"duplicate entries will be removed from working dataset\")\n",
    "\n",
    "# # drop duplicates & import\n",
    "my_dataset = my_dataset.drop(index=to_drop.index)\n",
    "my_dataset = pd.concat([my_dataset, df_2013])\n",
    "my_dataset.reset_index(inplace=True, drop=True)\n",
    "\n",
    "print(\"working dataset has now\",my_dataset.shape[0], \"entries\")\n"
   ]
  },
  {
   "cell_type": "code",
   "execution_count": 40,
   "id": "8ed236de",
   "metadata": {},
   "outputs": [
    {
     "name": "stdout",
     "output_type": "stream",
     "text": [
      "<class 'pandas.core.frame.DataFrame'>\n",
      "RangeIndex: 77287 entries, 0 to 77286\n",
      "Data columns (total 16 columns):\n",
      " #   Column        Non-Null Count  Dtype  \n",
      "---  ------        --------------  -----  \n",
      " 0   cnit          77287 non-null  object \n",
      " 1   mine          77287 non-null  object \n",
      " 2   marque        77287 non-null  object \n",
      " 3   modele        77287 non-null  object \n",
      " 4   dscom         77287 non-null  object \n",
      " 5   carburant     77287 non-null  object \n",
      " 6   hybride       77287 non-null  bool   \n",
      " 7   puiss_admin   77287 non-null  float64\n",
      " 8   puiss_max     77287 non-null  float64\n",
      " 9   boite_v_auto  77287 non-null  bool   \n",
      " 10  boite_v_rapp  77287 non-null  int64  \n",
      " 11  conso_urb     77287 non-null  float64\n",
      " 12  conso_exurb   77287 non-null  float64\n",
      " 13  conso_mixte   77287 non-null  float64\n",
      " 14  co2           77287 non-null  float64\n",
      " 15  dataset       77287 non-null  int64  \n",
      "dtypes: bool(2), float64(6), int64(2), object(6)\n",
      "memory usage: 8.4+ MB\n"
     ]
    }
   ],
   "source": [
    "my_dataset.info()"
   ]
  },
  {
   "cell_type": "markdown",
   "id": "0f3758f2",
   "metadata": {},
   "source": [
    "## Save dataset"
   ]
  },
  {
   "cell_type": "code",
   "execution_count": 41,
   "id": "9ebd0444",
   "metadata": {},
   "outputs": [
    {
     "name": "stdout",
     "output_type": "stream",
     "text": [
      "dataset saved : final_dataset.csv\n"
     ]
    }
   ],
   "source": [
    "my_dataset.to_csv('final_dataset.csv', index=False)\n",
    "print(\"dataset saved : final_dataset.csv\")"
   ]
  },
  {
   "cell_type": "markdown",
   "id": "c3e551f6",
   "metadata": {},
   "source": [
    "[Back to top](#toc)"
   ]
  },
  {
   "cell_type": "markdown",
   "id": "3a7db3b0",
   "metadata": {},
   "source": [
    "## Dataframe for model (basic) <a id=\"dataframe_model\"></a>"
   ]
  },
  {
   "cell_type": "code",
   "execution_count": 42,
   "id": "fdf8eff5",
   "metadata": {},
   "outputs": [],
   "source": [
    "my_dataset = pd.read_csv(\"final_dataset.csv\")"
   ]
  },
  {
   "cell_type": "code",
   "execution_count": 43,
   "id": "3c1dbe14",
   "metadata": {},
   "outputs": [],
   "source": [
    "df_model = my_dataset[['carburant', 'hybride', \n",
    "                       'puiss_admin', 'puiss_max',\n",
    "                       'boite_v_auto', 'boite_v_rapp', \n",
    "                       'conso_urb', 'conso_exurb', 'conso_mixte',\n",
    "                       'co2']]"
   ]
  },
  {
   "cell_type": "code",
   "execution_count": 44,
   "id": "c4fb3b30",
   "metadata": {},
   "outputs": [
    {
     "data": {
      "text/html": [
       "<div>\n",
       "<style scoped>\n",
       "    .dataframe tbody tr th:only-of-type {\n",
       "        vertical-align: middle;\n",
       "    }\n",
       "\n",
       "    .dataframe tbody tr th {\n",
       "        vertical-align: top;\n",
       "    }\n",
       "\n",
       "    .dataframe thead th {\n",
       "        text-align: right;\n",
       "    }\n",
       "</style>\n",
       "<table border=\"1\" class=\"dataframe\">\n",
       "  <thead>\n",
       "    <tr style=\"text-align: right;\">\n",
       "      <th></th>\n",
       "      <th>carburant</th>\n",
       "      <th>hybride</th>\n",
       "      <th>puiss_admin</th>\n",
       "      <th>puiss_max</th>\n",
       "      <th>boite_v_auto</th>\n",
       "      <th>boite_v_rapp</th>\n",
       "      <th>conso_urb</th>\n",
       "      <th>conso_exurb</th>\n",
       "      <th>conso_mixte</th>\n",
       "      <th>co2</th>\n",
       "    </tr>\n",
       "  </thead>\n",
       "  <tbody>\n",
       "    <tr>\n",
       "      <th>0</th>\n",
       "      <td>ES</td>\n",
       "      <td>False</td>\n",
       "      <td>7.0</td>\n",
       "      <td>77.0</td>\n",
       "      <td>False</td>\n",
       "      <td>5</td>\n",
       "      <td>11.3</td>\n",
       "      <td>6.4</td>\n",
       "      <td>8.2</td>\n",
       "      <td>196.0</td>\n",
       "    </tr>\n",
       "    <tr>\n",
       "      <th>1</th>\n",
       "      <td>ES</td>\n",
       "      <td>False</td>\n",
       "      <td>8.0</td>\n",
       "      <td>88.0</td>\n",
       "      <td>False</td>\n",
       "      <td>5</td>\n",
       "      <td>11.2</td>\n",
       "      <td>6.4</td>\n",
       "      <td>8.2</td>\n",
       "      <td>194.0</td>\n",
       "    </tr>\n",
       "    <tr>\n",
       "      <th>2</th>\n",
       "      <td>ES</td>\n",
       "      <td>False</td>\n",
       "      <td>7.0</td>\n",
       "      <td>77.0</td>\n",
       "      <td>False</td>\n",
       "      <td>5</td>\n",
       "      <td>11.3</td>\n",
       "      <td>6.4</td>\n",
       "      <td>8.2</td>\n",
       "      <td>196.0</td>\n",
       "    </tr>\n",
       "    <tr>\n",
       "      <th>3</th>\n",
       "      <td>ES</td>\n",
       "      <td>False</td>\n",
       "      <td>8.0</td>\n",
       "      <td>88.0</td>\n",
       "      <td>False</td>\n",
       "      <td>5</td>\n",
       "      <td>11.2</td>\n",
       "      <td>6.4</td>\n",
       "      <td>8.2</td>\n",
       "      <td>194.0</td>\n",
       "    </tr>\n",
       "    <tr>\n",
       "      <th>4</th>\n",
       "      <td>ES</td>\n",
       "      <td>False</td>\n",
       "      <td>10.0</td>\n",
       "      <td>110.0</td>\n",
       "      <td>False</td>\n",
       "      <td>5</td>\n",
       "      <td>12.1</td>\n",
       "      <td>7.0</td>\n",
       "      <td>8.9</td>\n",
       "      <td>211.0</td>\n",
       "    </tr>\n",
       "    <tr>\n",
       "      <th>...</th>\n",
       "      <td>...</td>\n",
       "      <td>...</td>\n",
       "      <td>...</td>\n",
       "      <td>...</td>\n",
       "      <td>...</td>\n",
       "      <td>...</td>\n",
       "      <td>...</td>\n",
       "      <td>...</td>\n",
       "      <td>...</td>\n",
       "      <td>...</td>\n",
       "    </tr>\n",
       "    <tr>\n",
       "      <th>77282</th>\n",
       "      <td>GO</td>\n",
       "      <td>False</td>\n",
       "      <td>10.0</td>\n",
       "      <td>120.0</td>\n",
       "      <td>True</td>\n",
       "      <td>6</td>\n",
       "      <td>8.6</td>\n",
       "      <td>5.2</td>\n",
       "      <td>6.4</td>\n",
       "      <td>169.0</td>\n",
       "    </tr>\n",
       "    <tr>\n",
       "      <th>77283</th>\n",
       "      <td>GO</td>\n",
       "      <td>False</td>\n",
       "      <td>9.0</td>\n",
       "      <td>120.0</td>\n",
       "      <td>False</td>\n",
       "      <td>6</td>\n",
       "      <td>6.1</td>\n",
       "      <td>4.8</td>\n",
       "      <td>5.3</td>\n",
       "      <td>139.0</td>\n",
       "    </tr>\n",
       "    <tr>\n",
       "      <th>77284</th>\n",
       "      <td>GO</td>\n",
       "      <td>False</td>\n",
       "      <td>9.0</td>\n",
       "      <td>120.0</td>\n",
       "      <td>True</td>\n",
       "      <td>6</td>\n",
       "      <td>7.7</td>\n",
       "      <td>4.8</td>\n",
       "      <td>5.9</td>\n",
       "      <td>154.0</td>\n",
       "    </tr>\n",
       "    <tr>\n",
       "      <th>77285</th>\n",
       "      <td>GO</td>\n",
       "      <td>False</td>\n",
       "      <td>9.0</td>\n",
       "      <td>120.0</td>\n",
       "      <td>False</td>\n",
       "      <td>6</td>\n",
       "      <td>6.8</td>\n",
       "      <td>4.5</td>\n",
       "      <td>5.3</td>\n",
       "      <td>139.0</td>\n",
       "    </tr>\n",
       "    <tr>\n",
       "      <th>77286</th>\n",
       "      <td>ES</td>\n",
       "      <td>False</td>\n",
       "      <td>21.0</td>\n",
       "      <td>224.0</td>\n",
       "      <td>True</td>\n",
       "      <td>6</td>\n",
       "      <td>15.1</td>\n",
       "      <td>8.1</td>\n",
       "      <td>10.6</td>\n",
       "      <td>248.0</td>\n",
       "    </tr>\n",
       "  </tbody>\n",
       "</table>\n",
       "<p>77287 rows × 10 columns</p>\n",
       "</div>"
      ],
      "text/plain": [
       "      carburant  hybride  puiss_admin  puiss_max  boite_v_auto  boite_v_rapp  \\\n",
       "0            ES    False          7.0       77.0         False             5   \n",
       "1            ES    False          8.0       88.0         False             5   \n",
       "2            ES    False          7.0       77.0         False             5   \n",
       "3            ES    False          8.0       88.0         False             5   \n",
       "4            ES    False         10.0      110.0         False             5   \n",
       "...         ...      ...          ...        ...           ...           ...   \n",
       "77282        GO    False         10.0      120.0          True             6   \n",
       "77283        GO    False          9.0      120.0         False             6   \n",
       "77284        GO    False          9.0      120.0          True             6   \n",
       "77285        GO    False          9.0      120.0         False             6   \n",
       "77286        ES    False         21.0      224.0          True             6   \n",
       "\n",
       "       conso_urb  conso_exurb  conso_mixte    co2  \n",
       "0           11.3          6.4          8.2  196.0  \n",
       "1           11.2          6.4          8.2  194.0  \n",
       "2           11.3          6.4          8.2  196.0  \n",
       "3           11.2          6.4          8.2  194.0  \n",
       "4           12.1          7.0          8.9  211.0  \n",
       "...          ...          ...          ...    ...  \n",
       "77282        8.6          5.2          6.4  169.0  \n",
       "77283        6.1          4.8          5.3  139.0  \n",
       "77284        7.7          4.8          5.9  154.0  \n",
       "77285        6.8          4.5          5.3  139.0  \n",
       "77286       15.1          8.1         10.6  248.0  \n",
       "\n",
       "[77287 rows x 10 columns]"
      ]
     },
     "execution_count": 44,
     "metadata": {},
     "output_type": "execute_result"
    }
   ],
   "source": [
    "df_model"
   ]
  },
  {
   "cell_type": "code",
   "execution_count": 45,
   "id": "2f747497",
   "metadata": {},
   "outputs": [
    {
     "name": "stderr",
     "output_type": "stream",
     "text": [
      "/tmp/ipykernel_827/1684076048.py:1: SettingWithCopyWarning: \n",
      "A value is trying to be set on a copy of a slice from a DataFrame.\n",
      "Try using .loc[row_indexer,col_indexer] = value instead\n",
      "\n",
      "See the caveats in the documentation: https://pandas.pydata.org/pandas-docs/stable/user_guide/indexing.html#returning-a-view-versus-a-copy\n",
      "  df_model.loc[:, 'carburant'] = df_model['carburant'].str.replace('/','-')\n"
     ]
    },
    {
     "data": {
      "text/plain": [
       "GO       60930\n",
       "ES       15886\n",
       "FE         110\n",
       "EH         107\n",
       "ES-GN       98\n",
       "GN          61\n",
       "GH          54\n",
       "ES-GP       39\n",
       "GN-ES        1\n",
       "GL           1\n",
       "Name: carburant, dtype: int64"
      ]
     },
     "execution_count": 45,
     "metadata": {},
     "output_type": "execute_result"
    }
   ],
   "source": [
    "df_model.loc[:, 'carburant'] = df_model['carburant'].str.replace('/','-')\n",
    "df_model['carburant'].value_counts()\n"
   ]
  },
  {
   "cell_type": "markdown",
   "id": "46108b7a",
   "metadata": {},
   "source": [
    "[Back to top](#toc)"
   ]
  },
  {
   "cell_type": "markdown",
   "id": "252cae99",
   "metadata": {},
   "source": [
    "## Best features <a id=\"features_select\"></a>"
   ]
  },
  {
   "cell_type": "code",
   "execution_count": 46,
   "id": "161f4d63",
   "metadata": {},
   "outputs": [],
   "source": [
    "X = df_model.drop(columns=['co2', 'carburant'])\n",
    "y = df_model['co2']"
   ]
  },
  {
   "cell_type": "code",
   "execution_count": 47,
   "id": "9463e988",
   "metadata": {},
   "outputs": [
    {
     "data": {
      "image/png": "[encoded data removed]",
      "text/plain": [
       "<Figure size 640x480 with 1 Axes>"
      ]
     },
     "metadata": {},
     "output_type": "display_data"
    }
   ],
   "source": [
    "from sklearn.feature_selection import mutual_info_regression\n",
    "import matplotlib.pyplot as plt\n",
    "\n",
    "importances = mutual_info_regression(X,y)\n",
    "\n",
    "feat_importance = pd.Series(importances, X.columns)\n",
    "feat_importance.plot(kind='barh', color='teal')\n",
    "plt.show()"
   ]
  },
  {
   "cell_type": "markdown",
   "id": "bef5e8ac",
   "metadata": {},
   "source": [
    "## Model <a id=\"model\"></a>"
   ]
  },
  {
   "cell_type": "markdown",
   "id": "74df9fc7",
   "metadata": {},
   "source": [
    "Model SGDRegressor with standardized features & pipeline."
   ]
  },
  {
   "cell_type": "code",
   "execution_count": 48,
   "id": "c0ae9e11",
   "metadata": {},
   "outputs": [],
   "source": [
    "X = df_model.drop(columns=['co2'])\n",
    "X = X.drop(columns=['conso_exurb', 'conso_urb']) # 'puiss_max', 'conso_urb', 'conso_mixte'\n",
    "\n",
    "y = df_model['co2']"
   ]
  },
  {
   "cell_type": "code",
   "execution_count": 49,
   "id": "24446197",
   "metadata": {},
   "outputs": [],
   "source": [
    "X_train, X_test, y_train, y_test = train_test_split(X,y, test_size = 0.2, random_state =5)\n"
   ]
  },
  {
   "cell_type": "code",
   "execution_count": 50,
   "id": "13d879ca",
   "metadata": {},
   "outputs": [
    {
     "name": "stdout",
     "output_type": "stream",
     "text": [
      "features numerical: ['puiss_admin', 'puiss_max', 'boite_v_rapp', 'conso_mixte']\n",
      "features categorical: ['carburant']\n"
     ]
    }
   ],
   "source": [
    "feat_num = X.select_dtypes(include = ['float', 'int']).columns.to_list()\n",
    "feat_cat = X.select_dtypes(include = ['object']).columns.to_list()\n",
    "\n",
    "# not scaling gearbox\n",
    "# feat_num.remove('boite_v_rapp')\n",
    "\n",
    "print(\"features numerical:\", feat_num)\n",
    "print(\"features categorical:\", feat_cat)\n"
   ]
  },
  {
   "cell_type": "code",
   "execution_count": 51,
   "id": "6df03905",
   "metadata": {},
   "outputs": [],
   "source": [
    "num_pipeline = make_pipeline(StandardScaler())\n",
    "cat_pipeline = make_pipeline(OneHotEncoder(handle_unknown = 'ignore'))\n",
    "preprocessor = make_column_transformer( \n",
    "                          (num_pipeline, feat_num),\n",
    "                          (cat_pipeline, feat_cat)\n",
    "                        )"
   ]
  },
  {
   "cell_type": "code",
   "execution_count": 52,
   "id": "ee2b019c",
   "metadata": {},
   "outputs": [
    {
     "data": {
      "text/html": [
       "<style>#sk-container-id-1 {color: black;background-color: white;}#sk-container-id-1 pre{padding: 0;}#sk-container-id-1 div.sk-toggleable {background-color: white;}#sk-container-id-1 label.sk-toggleable__label {cursor: pointer;display: block;width: 100%;margin-bottom: 0;padding: 0.3em;box-sizing: border-box;text-align: center;}#sk-container-id-1 label.sk-toggleable__label-arrow:before {content: \"▸\";float: left;margin-right: 0.25em;color: #696969;}#sk-container-id-1 label.sk-toggleable__label-arrow:hover:before {color: black;}#sk-container-id-1 div.sk-estimator:hover label.sk-toggleable__label-arrow:before {color: black;}#sk-container-id-1 div.sk-toggleable__content {max-height: 0;max-width: 0;overflow: hidden;text-align: left;background-color: #f0f8ff;}#sk-container-id-1 div.sk-toggleable__content pre {margin: 0.2em;color: black;border-radius: 0.25em;background-color: #f0f8ff;}#sk-container-id-1 input.sk-toggleable__control:checked~div.sk-toggleable__content {max-height: 200px;max-width: 100%;overflow: auto;}#sk-container-id-1 input.sk-toggleable__control:checked~label.sk-toggleable__label-arrow:before {content: \"▾\";}#sk-container-id-1 div.sk-estimator input.sk-toggleable__control:checked~label.sk-toggleable__label {background-color: #d4ebff;}#sk-container-id-1 div.sk-label input.sk-toggleable__control:checked~label.sk-toggleable__label {background-color: #d4ebff;}#sk-container-id-1 input.sk-hidden--visually {border: 0;clip: rect(1px 1px 1px 1px);clip: rect(1px, 1px, 1px, 1px);height: 1px;margin: -1px;overflow: hidden;padding: 0;position: absolute;width: 1px;}#sk-container-id-1 div.sk-estimator {font-family: monospace;background-color: #f0f8ff;border: 1px dotted black;border-radius: 0.25em;box-sizing: border-box;margin-bottom: 0.5em;}#sk-container-id-1 div.sk-estimator:hover {background-color: #d4ebff;}#sk-container-id-1 div.sk-parallel-item::after {content: \"\";width: 100%;border-bottom: 1px solid gray;flex-grow: 1;}#sk-container-id-1 div.sk-label:hover label.sk-toggleable__label {background-color: #d4ebff;}#sk-container-id-1 div.sk-serial::before {content: \"\";position: absolute;border-left: 1px solid gray;box-sizing: border-box;top: 0;bottom: 0;left: 50%;z-index: 0;}#sk-container-id-1 div.sk-serial {display: flex;flex-direction: column;align-items: center;background-color: white;padding-right: 0.2em;padding-left: 0.2em;position: relative;}#sk-container-id-1 div.sk-item {position: relative;z-index: 1;}#sk-container-id-1 div.sk-parallel {display: flex;align-items: stretch;justify-content: center;background-color: white;position: relative;}#sk-container-id-1 div.sk-item::before, #sk-container-id-1 div.sk-parallel-item::before {content: \"\";position: absolute;border-left: 1px solid gray;box-sizing: border-box;top: 0;bottom: 0;left: 50%;z-index: -1;}#sk-container-id-1 div.sk-parallel-item {display: flex;flex-direction: column;z-index: 1;position: relative;background-color: white;}#sk-container-id-1 div.sk-parallel-item:first-child::after {align-self: flex-end;width: 50%;}#sk-container-id-1 div.sk-parallel-item:last-child::after {align-self: flex-start;width: 50%;}#sk-container-id-1 div.sk-parallel-item:only-child::after {width: 0;}#sk-container-id-1 div.sk-dashed-wrapped {border: 1px dashed gray;margin: 0 0.4em 0.5em 0.4em;box-sizing: border-box;padding-bottom: 0.4em;background-color: white;}#sk-container-id-1 div.sk-label label {font-family: monospace;font-weight: bold;display: inline-block;line-height: 1.2em;}#sk-container-id-1 div.sk-label-container {text-align: center;}#sk-container-id-1 div.sk-container {/* jupyter's `normalize.less` sets `[hidden] { display: none; }` but bootstrap.min.css set `[hidden] { display: none !important; }` so we also need the `!important` here to be able to override the default hidden behavior on the sphinx rendered scikit-learn.org. See: https://github.com/scikit-learn/scikit-learn/issues/21755 */display: inline-block !important;position: relative;}#sk-container-id-1 div.sk-text-repr-fallback {display: none;}</style><div id=\"sk-container-id-1\" class=\"sk-top-container\"><div class=\"sk-text-repr-fallback\"><pre>Pipeline(steps=[(&#x27;columntransformer&#x27;,\n",
       "                 ColumnTransformer(transformers=[(&#x27;pipeline-1&#x27;,\n",
       "                                                  Pipeline(steps=[(&#x27;standardscaler&#x27;,\n",
       "                                                                   StandardScaler())]),\n",
       "                                                  [&#x27;puiss_admin&#x27;, &#x27;puiss_max&#x27;,\n",
       "                                                   &#x27;boite_v_rapp&#x27;,\n",
       "                                                   &#x27;conso_mixte&#x27;]),\n",
       "                                                 (&#x27;pipeline-2&#x27;,\n",
       "                                                  Pipeline(steps=[(&#x27;onehotencoder&#x27;,\n",
       "                                                                   OneHotEncoder(handle_unknown=&#x27;ignore&#x27;))]),\n",
       "                                                  [&#x27;carburant&#x27;])])),\n",
       "                (&#x27;transformedtargetregressor&#x27;,\n",
       "                 TransformedTargetRegressor(regressor=SGDRegressor(epsilon=0,\n",
       "                                                                   penalty=&#x27;l1&#x27;,\n",
       "                                                                   random_state=5)))])</pre><b>In a Jupyter environment, please rerun this cell to show the HTML representation or trust the notebook. <br />On GitHub, the HTML representation is unable to render, please try loading this page with nbviewer.org.</b></div><div class=\"sk-container\" hidden><div class=\"sk-item sk-dashed-wrapped\"><div class=\"sk-label-container\"><div class=\"sk-label sk-toggleable\"><input class=\"sk-toggleable__control sk-hidden--visually\" id=\"sk-estimator-id-1\" type=\"checkbox\" ><label for=\"sk-estimator-id-1\" class=\"sk-toggleable__label sk-toggleable__label-arrow\">Pipeline</label><div class=\"sk-toggleable__content\"><pre>Pipeline(steps=[(&#x27;columntransformer&#x27;,\n",
       "                 ColumnTransformer(transformers=[(&#x27;pipeline-1&#x27;,\n",
       "                                                  Pipeline(steps=[(&#x27;standardscaler&#x27;,\n",
       "                                                                   StandardScaler())]),\n",
       "                                                  [&#x27;puiss_admin&#x27;, &#x27;puiss_max&#x27;,\n",
       "                                                   &#x27;boite_v_rapp&#x27;,\n",
       "                                                   &#x27;conso_mixte&#x27;]),\n",
       "                                                 (&#x27;pipeline-2&#x27;,\n",
       "                                                  Pipeline(steps=[(&#x27;onehotencoder&#x27;,\n",
       "                                                                   OneHotEncoder(handle_unknown=&#x27;ignore&#x27;))]),\n",
       "                                                  [&#x27;carburant&#x27;])])),\n",
       "                (&#x27;transformedtargetregressor&#x27;,\n",
       "                 TransformedTargetRegressor(regressor=SGDRegressor(epsilon=0,\n",
       "                                                                   penalty=&#x27;l1&#x27;,\n",
       "                                                                   random_state=5)))])</pre></div></div></div><div class=\"sk-serial\"><div class=\"sk-item sk-dashed-wrapped\"><div class=\"sk-label-container\"><div class=\"sk-label sk-toggleable\"><input class=\"sk-toggleable__control sk-hidden--visually\" id=\"sk-estimator-id-2\" type=\"checkbox\" ><label for=\"sk-estimator-id-2\" class=\"sk-toggleable__label sk-toggleable__label-arrow\">columntransformer: ColumnTransformer</label><div class=\"sk-toggleable__content\"><pre>ColumnTransformer(transformers=[(&#x27;pipeline-1&#x27;,\n",
       "                                 Pipeline(steps=[(&#x27;standardscaler&#x27;,\n",
       "                                                  StandardScaler())]),\n",
       "                                 [&#x27;puiss_admin&#x27;, &#x27;puiss_max&#x27;, &#x27;boite_v_rapp&#x27;,\n",
       "                                  &#x27;conso_mixte&#x27;]),\n",
       "                                (&#x27;pipeline-2&#x27;,\n",
       "                                 Pipeline(steps=[(&#x27;onehotencoder&#x27;,\n",
       "                                                  OneHotEncoder(handle_unknown=&#x27;ignore&#x27;))]),\n",
       "                                 [&#x27;carburant&#x27;])])</pre></div></div></div><div class=\"sk-parallel\"><div class=\"sk-parallel-item\"><div class=\"sk-item\"><div class=\"sk-label-container\"><div class=\"sk-label sk-toggleable\"><input class=\"sk-toggleable__control sk-hidden--visually\" id=\"sk-estimator-id-3\" type=\"checkbox\" ><label for=\"sk-estimator-id-3\" class=\"sk-toggleable__label sk-toggleable__label-arrow\">pipeline-1</label><div class=\"sk-toggleable__content\"><pre>[&#x27;puiss_admin&#x27;, &#x27;puiss_max&#x27;, &#x27;boite_v_rapp&#x27;, &#x27;conso_mixte&#x27;]</pre></div></div></div><div class=\"sk-serial\"><div class=\"sk-item\"><div class=\"sk-serial\"><div class=\"sk-item\"><div class=\"sk-estimator sk-toggleable\"><input class=\"sk-toggleable__control sk-hidden--visually\" id=\"sk-estimator-id-4\" type=\"checkbox\" ><label for=\"sk-estimator-id-4\" class=\"sk-toggleable__label sk-toggleable__label-arrow\">StandardScaler</label><div class=\"sk-toggleable__content\"><pre>StandardScaler()</pre></div></div></div></div></div></div></div></div><div class=\"sk-parallel-item\"><div class=\"sk-item\"><div class=\"sk-label-container\"><div class=\"sk-label sk-toggleable\"><input class=\"sk-toggleable__control sk-hidden--visually\" id=\"sk-estimator-id-5\" type=\"checkbox\" ><label for=\"sk-estimator-id-5\" class=\"sk-toggleable__label sk-toggleable__label-arrow\">pipeline-2</label><div class=\"sk-toggleable__content\"><pre>[&#x27;carburant&#x27;]</pre></div></div></div><div class=\"sk-serial\"><div class=\"sk-item\"><div class=\"sk-serial\"><div class=\"sk-item\"><div class=\"sk-estimator sk-toggleable\"><input class=\"sk-toggleable__control sk-hidden--visually\" id=\"sk-estimator-id-6\" type=\"checkbox\" ><label for=\"sk-estimator-id-6\" class=\"sk-toggleable__label sk-toggleable__label-arrow\">OneHotEncoder</label><div class=\"sk-toggleable__content\"><pre>OneHotEncoder(handle_unknown=&#x27;ignore&#x27;)</pre></div></div></div></div></div></div></div></div></div></div><div class=\"sk-item sk-dashed-wrapped\"><div class=\"sk-label-container\"><div class=\"sk-label sk-toggleable\"><input class=\"sk-toggleable__control sk-hidden--visually\" id=\"sk-estimator-id-7\" type=\"checkbox\" ><label for=\"sk-estimator-id-7\" class=\"sk-toggleable__label sk-toggleable__label-arrow\">transformedtargetregressor: TransformedTargetRegressor</label><div class=\"sk-toggleable__content\"><pre>TransformedTargetRegressor(regressor=SGDRegressor(epsilon=0, penalty=&#x27;l1&#x27;,\n",
       "                                                  random_state=5))</pre></div></div></div><div class=\"sk-parallel\"><div class=\"sk-parallel-item\"><div class=\"sk-item\"><div class=\"sk-label-container\"><div class=\"sk-label sk-toggleable\"><input class=\"sk-toggleable__control sk-hidden--visually\" id=\"sk-estimator-id-8\" type=\"checkbox\" ><label for=\"sk-estimator-id-8\" class=\"sk-toggleable__label sk-toggleable__label-arrow\">regressor: SGDRegressor</label><div class=\"sk-toggleable__content\"><pre>SGDRegressor(epsilon=0, penalty=&#x27;l1&#x27;, random_state=5)</pre></div></div></div><div class=\"sk-serial\"><div class=\"sk-item\"><div class=\"sk-estimator sk-toggleable\"><input class=\"sk-toggleable__control sk-hidden--visually\" id=\"sk-estimator-id-9\" type=\"checkbox\" ><label for=\"sk-estimator-id-9\" class=\"sk-toggleable__label sk-toggleable__label-arrow\">SGDRegressor</label><div class=\"sk-toggleable__content\"><pre>SGDRegressor(epsilon=0, penalty=&#x27;l1&#x27;, random_state=5)</pre></div></div></div></div></div></div></div></div></div></div></div></div>"
      ],
      "text/plain": [
       "Pipeline(steps=[('columntransformer',\n",
       "                 ColumnTransformer(transformers=[('pipeline-1',\n",
       "                                                  Pipeline(steps=[('standardscaler',\n",
       "                                                                   StandardScaler())]),\n",
       "                                                  ['puiss_admin', 'puiss_max',\n",
       "                                                   'boite_v_rapp',\n",
       "                                                   'conso_mixte']),\n",
       "                                                 ('pipeline-2',\n",
       "                                                  Pipeline(steps=[('onehotencoder',\n",
       "                                                                   OneHotEncoder(handle_unknown='ignore'))]),\n",
       "                                                  ['carburant'])])),\n",
       "                ('transformedtargetregressor',\n",
       "                 TransformedTargetRegressor(regressor=SGDRegressor(epsilon=0,\n",
       "                                                                   penalty='l1',\n",
       "                                                                   random_state=5)))])"
      ]
     },
     "execution_count": 52,
     "metadata": {},
     "output_type": "execute_result"
    }
   ],
   "source": [
    "# 0.0001 0.0002\n",
    "model = make_pipeline(preprocessor, TransformedTargetRegressor(regressor = SGDRegressor(alpha = 0.0001,\n",
    "                                                                epsilon = 0, penalty ='l1', random_state =5))\n",
    "    \n",
    ")\n",
    "model.fit(X_train, y_train)"
   ]
  },
  {
   "cell_type": "code",
   "execution_count": 53,
   "id": "6e520405",
   "metadata": {},
   "outputs": [],
   "source": [
    "y_pred = model.predict(X_test)\n"
   ]
  },
  {
   "cell_type": "code",
   "execution_count": 54,
   "id": "f21ea2c0",
   "metadata": {},
   "outputs": [
    {
     "name": "stdout",
     "output_type": "stream",
     "text": [
      "score R2 de performance sur le test set : 0.9943\n",
      "mean absolute error (MAE) : 2.03\n",
      "RMSE :1.426\n"
     ]
    }
   ],
   "source": [
    "model_score = np.round(model.score(X_test, y_test), 5)\n",
    "model_mae = np.round(mean_absolute_error(y_test,y_pred),2)\n",
    "model_rmse = np.round(np.sqrt(mean_absolute_error(y_test,y_pred)), 3)\n",
    "\n",
    "print(f\"score R2 de performance sur le test set : {model_score}\")\n",
    "print(f\"mean absolute error (MAE) : {model_mae}\")\n",
    "print(f\"RMSE :{model_rmse}\")"
   ]
  },
  {
   "cell_type": "code",
   "execution_count": 55,
   "id": "0e2813e9",
   "metadata": {},
   "outputs": [
    {
     "data": {
      "text/plain": [
       "carburant          GO\n",
       "hybride         False\n",
       "puiss_admin       8.0\n",
       "puiss_max       103.0\n",
       "boite_v_auto     True\n",
       "boite_v_rapp        6\n",
       "conso_mixte       6.3\n",
       "Name: 76563, dtype: object"
      ]
     },
     "execution_count": 55,
     "metadata": {},
     "output_type": "execute_result"
    }
   ],
   "source": [
    "X_test.iloc[0]"
   ]
  },
  {
   "cell_type": "code",
   "execution_count": 56,
   "id": "de7bf67d",
   "metadata": {},
   "outputs": [
    {
     "data": {
      "text/plain": [
       "(1, 7)"
      ]
     },
     "execution_count": 56,
     "metadata": {},
     "output_type": "execute_result"
    }
   ],
   "source": [
    "my_prediction = pd.DataFrame(X_test.iloc[0].values.reshape(1,-1), columns=X_test.columns)\n",
    "my_prediction.shape"
   ]
  },
  {
   "cell_type": "code",
   "execution_count": 57,
   "id": "129f07ad",
   "metadata": {},
   "outputs": [
    {
     "data": {
      "text/plain": [
       "167.73457147474633"
      ]
     },
     "execution_count": 57,
     "metadata": {},
     "output_type": "execute_result"
    }
   ],
   "source": [
    "# predicted value\n",
    "model.predict(my_prediction)[0]"
   ]
  },
  {
   "cell_type": "code",
   "execution_count": 58,
   "id": "592326be",
   "metadata": {},
   "outputs": [
    {
     "data": {
      "text/plain": [
       "166.0"
      ]
     },
     "execution_count": 58,
     "metadata": {},
     "output_type": "execute_result"
    }
   ],
   "source": [
    "# real value\n",
    "y_test.iloc[0]"
   ]
  },
  {
   "cell_type": "markdown",
   "id": "8917ac3b",
   "metadata": {},
   "source": [
    "__Another model :__"
   ]
  },
  {
   "cell_type": "markdown",
   "id": "9104331c",
   "metadata": {},
   "source": [
    "Model LinearRegression with standardized features + PolynomialFeatures & pipeline."
   ]
  },
  {
   "cell_type": "code",
   "execution_count": 59,
   "id": "034e34ab",
   "metadata": {},
   "outputs": [],
   "source": [
    "num_pipeline = make_pipeline(StandardScaler())\n",
    "cat_pipeline = make_pipeline(OneHotEncoder(handle_unknown = 'ignore'))\n",
    "preprocessor = make_column_transformer( \n",
    "                          (num_pipeline, feat_num),\n",
    "                          (cat_pipeline, feat_cat)\n",
    "                        )"
   ]
  },
  {
   "cell_type": "code",
   "execution_count": 60,
   "id": "656c9f11",
   "metadata": {},
   "outputs": [
    {
     "data": {
      "text/html": [
       "<style>#sk-container-id-2 {color: black;background-color: white;}#sk-container-id-2 pre{padding: 0;}#sk-container-id-2 div.sk-toggleable {background-color: white;}#sk-container-id-2 label.sk-toggleable__label {cursor: pointer;display: block;width: 100%;margin-bottom: 0;padding: 0.3em;box-sizing: border-box;text-align: center;}#sk-container-id-2 label.sk-toggleable__label-arrow:before {content: \"▸\";float: left;margin-right: 0.25em;color: #696969;}#sk-container-id-2 label.sk-toggleable__label-arrow:hover:before {color: black;}#sk-container-id-2 div.sk-estimator:hover label.sk-toggleable__label-arrow:before {color: black;}#sk-container-id-2 div.sk-toggleable__content {max-height: 0;max-width: 0;overflow: hidden;text-align: left;background-color: #f0f8ff;}#sk-container-id-2 div.sk-toggleable__content pre {margin: 0.2em;color: black;border-radius: 0.25em;background-color: #f0f8ff;}#sk-container-id-2 input.sk-toggleable__control:checked~div.sk-toggleable__content {max-height: 200px;max-width: 100%;overflow: auto;}#sk-container-id-2 input.sk-toggleable__control:checked~label.sk-toggleable__label-arrow:before {content: \"▾\";}#sk-container-id-2 div.sk-estimator input.sk-toggleable__control:checked~label.sk-toggleable__label {background-color: #d4ebff;}#sk-container-id-2 div.sk-label input.sk-toggleable__control:checked~label.sk-toggleable__label {background-color: #d4ebff;}#sk-container-id-2 input.sk-hidden--visually {border: 0;clip: rect(1px 1px 1px 1px);clip: rect(1px, 1px, 1px, 1px);height: 1px;margin: -1px;overflow: hidden;padding: 0;position: absolute;width: 1px;}#sk-container-id-2 div.sk-estimator {font-family: monospace;background-color: #f0f8ff;border: 1px dotted black;border-radius: 0.25em;box-sizing: border-box;margin-bottom: 0.5em;}#sk-container-id-2 div.sk-estimator:hover {background-color: #d4ebff;}#sk-container-id-2 div.sk-parallel-item::after {content: \"\";width: 100%;border-bottom: 1px solid gray;flex-grow: 1;}#sk-container-id-2 div.sk-label:hover label.sk-toggleable__label {background-color: #d4ebff;}#sk-container-id-2 div.sk-serial::before {content: \"\";position: absolute;border-left: 1px solid gray;box-sizing: border-box;top: 0;bottom: 0;left: 50%;z-index: 0;}#sk-container-id-2 div.sk-serial {display: flex;flex-direction: column;align-items: center;background-color: white;padding-right: 0.2em;padding-left: 0.2em;position: relative;}#sk-container-id-2 div.sk-item {position: relative;z-index: 1;}#sk-container-id-2 div.sk-parallel {display: flex;align-items: stretch;justify-content: center;background-color: white;position: relative;}#sk-container-id-2 div.sk-item::before, #sk-container-id-2 div.sk-parallel-item::before {content: \"\";position: absolute;border-left: 1px solid gray;box-sizing: border-box;top: 0;bottom: 0;left: 50%;z-index: -1;}#sk-container-id-2 div.sk-parallel-item {display: flex;flex-direction: column;z-index: 1;position: relative;background-color: white;}#sk-container-id-2 div.sk-parallel-item:first-child::after {align-self: flex-end;width: 50%;}#sk-container-id-2 div.sk-parallel-item:last-child::after {align-self: flex-start;width: 50%;}#sk-container-id-2 div.sk-parallel-item:only-child::after {width: 0;}#sk-container-id-2 div.sk-dashed-wrapped {border: 1px dashed gray;margin: 0 0.4em 0.5em 0.4em;box-sizing: border-box;padding-bottom: 0.4em;background-color: white;}#sk-container-id-2 div.sk-label label {font-family: monospace;font-weight: bold;display: inline-block;line-height: 1.2em;}#sk-container-id-2 div.sk-label-container {text-align: center;}#sk-container-id-2 div.sk-container {/* jupyter's `normalize.less` sets `[hidden] { display: none; }` but bootstrap.min.css set `[hidden] { display: none !important; }` so we also need the `!important` here to be able to override the default hidden behavior on the sphinx rendered scikit-learn.org. See: https://github.com/scikit-learn/scikit-learn/issues/21755 */display: inline-block !important;position: relative;}#sk-container-id-2 div.sk-text-repr-fallback {display: none;}</style><div id=\"sk-container-id-2\" class=\"sk-top-container\"><div class=\"sk-text-repr-fallback\"><pre>Pipeline(steps=[(&#x27;columntransformer&#x27;,\n",
       "                 ColumnTransformer(transformers=[(&#x27;pipeline-1&#x27;,\n",
       "                                                  Pipeline(steps=[(&#x27;standardscaler&#x27;,\n",
       "                                                                   StandardScaler())]),\n",
       "                                                  [&#x27;puiss_admin&#x27;, &#x27;puiss_max&#x27;,\n",
       "                                                   &#x27;boite_v_rapp&#x27;,\n",
       "                                                   &#x27;conso_mixte&#x27;]),\n",
       "                                                 (&#x27;pipeline-2&#x27;,\n",
       "                                                  Pipeline(steps=[(&#x27;onehotencoder&#x27;,\n",
       "                                                                   OneHotEncoder(handle_unknown=&#x27;ignore&#x27;))]),\n",
       "                                                  [&#x27;carburant&#x27;])])),\n",
       "                (&#x27;polynomialfeatures&#x27;, PolynomialFeatures()),\n",
       "                (&#x27;linearregression&#x27;, LinearRegression())])</pre><b>In a Jupyter environment, please rerun this cell to show the HTML representation or trust the notebook. <br />On GitHub, the HTML representation is unable to render, please try loading this page with nbviewer.org.</b></div><div class=\"sk-container\" hidden><div class=\"sk-item sk-dashed-wrapped\"><div class=\"sk-label-container\"><div class=\"sk-label sk-toggleable\"><input class=\"sk-toggleable__control sk-hidden--visually\" id=\"sk-estimator-id-10\" type=\"checkbox\" ><label for=\"sk-estimator-id-10\" class=\"sk-toggleable__label sk-toggleable__label-arrow\">Pipeline</label><div class=\"sk-toggleable__content\"><pre>Pipeline(steps=[(&#x27;columntransformer&#x27;,\n",
       "                 ColumnTransformer(transformers=[(&#x27;pipeline-1&#x27;,\n",
       "                                                  Pipeline(steps=[(&#x27;standardscaler&#x27;,\n",
       "                                                                   StandardScaler())]),\n",
       "                                                  [&#x27;puiss_admin&#x27;, &#x27;puiss_max&#x27;,\n",
       "                                                   &#x27;boite_v_rapp&#x27;,\n",
       "                                                   &#x27;conso_mixte&#x27;]),\n",
       "                                                 (&#x27;pipeline-2&#x27;,\n",
       "                                                  Pipeline(steps=[(&#x27;onehotencoder&#x27;,\n",
       "                                                                   OneHotEncoder(handle_unknown=&#x27;ignore&#x27;))]),\n",
       "                                                  [&#x27;carburant&#x27;])])),\n",
       "                (&#x27;polynomialfeatures&#x27;, PolynomialFeatures()),\n",
       "                (&#x27;linearregression&#x27;, LinearRegression())])</pre></div></div></div><div class=\"sk-serial\"><div class=\"sk-item sk-dashed-wrapped\"><div class=\"sk-label-container\"><div class=\"sk-label sk-toggleable\"><input class=\"sk-toggleable__control sk-hidden--visually\" id=\"sk-estimator-id-11\" type=\"checkbox\" ><label for=\"sk-estimator-id-11\" class=\"sk-toggleable__label sk-toggleable__label-arrow\">columntransformer: ColumnTransformer</label><div class=\"sk-toggleable__content\"><pre>ColumnTransformer(transformers=[(&#x27;pipeline-1&#x27;,\n",
       "                                 Pipeline(steps=[(&#x27;standardscaler&#x27;,\n",
       "                                                  StandardScaler())]),\n",
       "                                 [&#x27;puiss_admin&#x27;, &#x27;puiss_max&#x27;, &#x27;boite_v_rapp&#x27;,\n",
       "                                  &#x27;conso_mixte&#x27;]),\n",
       "                                (&#x27;pipeline-2&#x27;,\n",
       "                                 Pipeline(steps=[(&#x27;onehotencoder&#x27;,\n",
       "                                                  OneHotEncoder(handle_unknown=&#x27;ignore&#x27;))]),\n",
       "                                 [&#x27;carburant&#x27;])])</pre></div></div></div><div class=\"sk-parallel\"><div class=\"sk-parallel-item\"><div class=\"sk-item\"><div class=\"sk-label-container\"><div class=\"sk-label sk-toggleable\"><input class=\"sk-toggleable__control sk-hidden--visually\" id=\"sk-estimator-id-12\" type=\"checkbox\" ><label for=\"sk-estimator-id-12\" class=\"sk-toggleable__label sk-toggleable__label-arrow\">pipeline-1</label><div class=\"sk-toggleable__content\"><pre>[&#x27;puiss_admin&#x27;, &#x27;puiss_max&#x27;, &#x27;boite_v_rapp&#x27;, &#x27;conso_mixte&#x27;]</pre></div></div></div><div class=\"sk-serial\"><div class=\"sk-item\"><div class=\"sk-serial\"><div class=\"sk-item\"><div class=\"sk-estimator sk-toggleable\"><input class=\"sk-toggleable__control sk-hidden--visually\" id=\"sk-estimator-id-13\" type=\"checkbox\" ><label for=\"sk-estimator-id-13\" class=\"sk-toggleable__label sk-toggleable__label-arrow\">StandardScaler</label><div class=\"sk-toggleable__content\"><pre>StandardScaler()</pre></div></div></div></div></div></div></div></div><div class=\"sk-parallel-item\"><div class=\"sk-item\"><div class=\"sk-label-container\"><div class=\"sk-label sk-toggleable\"><input class=\"sk-toggleable__control sk-hidden--visually\" id=\"sk-estimator-id-14\" type=\"checkbox\" ><label for=\"sk-estimator-id-14\" class=\"sk-toggleable__label sk-toggleable__label-arrow\">pipeline-2</label><div class=\"sk-toggleable__content\"><pre>[&#x27;carburant&#x27;]</pre></div></div></div><div class=\"sk-serial\"><div class=\"sk-item\"><div class=\"sk-serial\"><div class=\"sk-item\"><div class=\"sk-estimator sk-toggleable\"><input class=\"sk-toggleable__control sk-hidden--visually\" id=\"sk-estimator-id-15\" type=\"checkbox\" ><label for=\"sk-estimator-id-15\" class=\"sk-toggleable__label sk-toggleable__label-arrow\">OneHotEncoder</label><div class=\"sk-toggleable__content\"><pre>OneHotEncoder(handle_unknown=&#x27;ignore&#x27;)</pre></div></div></div></div></div></div></div></div></div></div><div class=\"sk-item\"><div class=\"sk-estimator sk-toggleable\"><input class=\"sk-toggleable__control sk-hidden--visually\" id=\"sk-estimator-id-16\" type=\"checkbox\" ><label for=\"sk-estimator-id-16\" class=\"sk-toggleable__label sk-toggleable__label-arrow\">PolynomialFeatures</label><div class=\"sk-toggleable__content\"><pre>PolynomialFeatures()</pre></div></div></div><div class=\"sk-item\"><div class=\"sk-estimator sk-toggleable\"><input class=\"sk-toggleable__control sk-hidden--visually\" id=\"sk-estimator-id-17\" type=\"checkbox\" ><label for=\"sk-estimator-id-17\" class=\"sk-toggleable__label sk-toggleable__label-arrow\">LinearRegression</label><div class=\"sk-toggleable__content\"><pre>LinearRegression()</pre></div></div></div></div></div></div></div>"
      ],
      "text/plain": [
       "Pipeline(steps=[('columntransformer',\n",
       "                 ColumnTransformer(transformers=[('pipeline-1',\n",
       "                                                  Pipeline(steps=[('standardscaler',\n",
       "                                                                   StandardScaler())]),\n",
       "                                                  ['puiss_admin', 'puiss_max',\n",
       "                                                   'boite_v_rapp',\n",
       "                                                   'conso_mixte']),\n",
       "                                                 ('pipeline-2',\n",
       "                                                  Pipeline(steps=[('onehotencoder',\n",
       "                                                                   OneHotEncoder(handle_unknown='ignore'))]),\n",
       "                                                  ['carburant'])])),\n",
       "                ('polynomialfeatures', PolynomialFeatures()),\n",
       "                ('linearregression', LinearRegression())])"
      ]
     },
     "execution_count": 60,
     "metadata": {},
     "output_type": "execute_result"
    }
   ],
   "source": [
    "model_lr = make_pipeline(preprocessor, PolynomialFeatures(2), LinearRegression())\n",
    "\n",
    "model_lr.fit(X_train, y_train)\n"
   ]
  },
  {
   "cell_type": "code",
   "execution_count": 61,
   "id": "d3cde401",
   "metadata": {},
   "outputs": [],
   "source": [
    "y_pred_lr = model_lr.predict(X_test)\n"
   ]
  },
  {
   "cell_type": "code",
   "execution_count": 62,
   "id": "a72a8751",
   "metadata": {},
   "outputs": [
    {
     "name": "stdout",
     "output_type": "stream",
     "text": [
      "score R2 de performance sur le test set : -73518444652.48424\n",
      "mean absolute error (MAE) : 117819.23\n",
      "RMSE :343.248\n"
     ]
    }
   ],
   "source": [
    "lr_score = np.round(model_lr.score(X_test, y_test), 5)\n",
    "lr_mae = np.round(mean_absolute_error(y_test,y_pred_lr),2)\n",
    "lr_rmse = np.round(np.sqrt(mean_absolute_error(y_test,y_pred_lr)), 3)\n",
    "\n",
    "print(f\"score R2 de performance sur le test set : {lr_score}\")\n",
    "print(f\"mean absolute error (MAE) : {lr_mae}\")\n",
    "print(f\"RMSE :{lr_rmse}\")\n"
   ]
  },
  {
   "cell_type": "code",
   "execution_count": 63,
   "id": "2e85d787",
   "metadata": {},
   "outputs": [
    {
     "data": {
      "text/plain": [
       "(1, 7)"
      ]
     },
     "execution_count": 63,
     "metadata": {},
     "output_type": "execute_result"
    }
   ],
   "source": [
    "my_prediction = pd.DataFrame(X_test.iloc[0].values.reshape(1,-1), columns=X_test.columns)\n",
    "my_prediction.shape"
   ]
  },
  {
   "cell_type": "code",
   "execution_count": 64,
   "id": "365cf10e",
   "metadata": {},
   "outputs": [
    {
     "data": {
      "text/plain": [
       "165.60615245997906"
      ]
     },
     "execution_count": 64,
     "metadata": {},
     "output_type": "execute_result"
    }
   ],
   "source": [
    "# predicted value\n",
    "model_lr.predict(my_prediction)[0]"
   ]
  },
  {
   "cell_type": "code",
   "execution_count": 65,
   "id": "05bea464",
   "metadata": {},
   "outputs": [
    {
     "data": {
      "text/plain": [
       "166.0"
      ]
     },
     "execution_count": 65,
     "metadata": {},
     "output_type": "execute_result"
    }
   ],
   "source": [
    "# real value\n",
    "y_test.iloc[0]"
   ]
  },
  {
   "cell_type": "markdown",
   "id": "bc253d5e",
   "metadata": {},
   "source": [
    "[Back to top](#toc)"
   ]
  },
  {
   "cell_type": "markdown",
   "id": "0bbbb4de",
   "metadata": {},
   "source": [
    "## Save model"
   ]
  },
  {
   "cell_type": "code",
   "execution_count": 66,
   "id": "66a70a17",
   "metadata": {},
   "outputs": [
    {
     "data": {
      "text/plain": [
       "['final_model.joblib']"
      ]
     },
     "execution_count": 66,
     "metadata": {},
     "output_type": "execute_result"
    }
   ],
   "source": [
    "dump(model, 'final_model.joblib')\n"
   ]
  },
  {
   "cell_type": "markdown",
   "id": "b1ca7f31",
   "metadata": {},
   "source": [
    "## Predictions <a id=\"predictions\"></a>"
   ]
  },
  {
   "cell_type": "code",
   "execution_count": 67,
   "id": "d6b2c5ab",
   "metadata": {},
   "outputs": [
    {
     "data": {
      "text/html": [
       "<style>#sk-container-id-3 {color: black;background-color: white;}#sk-container-id-3 pre{padding: 0;}#sk-container-id-3 div.sk-toggleable {background-color: white;}#sk-container-id-3 label.sk-toggleable__label {cursor: pointer;display: block;width: 100%;margin-bottom: 0;padding: 0.3em;box-sizing: border-box;text-align: center;}#sk-container-id-3 label.sk-toggleable__label-arrow:before {content: \"▸\";float: left;margin-right: 0.25em;color: #696969;}#sk-container-id-3 label.sk-toggleable__label-arrow:hover:before {color: black;}#sk-container-id-3 div.sk-estimator:hover label.sk-toggleable__label-arrow:before {color: black;}#sk-container-id-3 div.sk-toggleable__content {max-height: 0;max-width: 0;overflow: hidden;text-align: left;background-color: #f0f8ff;}#sk-container-id-3 div.sk-toggleable__content pre {margin: 0.2em;color: black;border-radius: 0.25em;background-color: #f0f8ff;}#sk-container-id-3 input.sk-toggleable__control:checked~div.sk-toggleable__content {max-height: 200px;max-width: 100%;overflow: auto;}#sk-container-id-3 input.sk-toggleable__control:checked~label.sk-toggleable__label-arrow:before {content: \"▾\";}#sk-container-id-3 div.sk-estimator input.sk-toggleable__control:checked~label.sk-toggleable__label {background-color: #d4ebff;}#sk-container-id-3 div.sk-label input.sk-toggleable__control:checked~label.sk-toggleable__label {background-color: #d4ebff;}#sk-container-id-3 input.sk-hidden--visually {border: 0;clip: rect(1px 1px 1px 1px);clip: rect(1px, 1px, 1px, 1px);height: 1px;margin: -1px;overflow: hidden;padding: 0;position: absolute;width: 1px;}#sk-container-id-3 div.sk-estimator {font-family: monospace;background-color: #f0f8ff;border: 1px dotted black;border-radius: 0.25em;box-sizing: border-box;margin-bottom: 0.5em;}#sk-container-id-3 div.sk-estimator:hover {background-color: #d4ebff;}#sk-container-id-3 div.sk-parallel-item::after {content: \"\";width: 100%;border-bottom: 1px solid gray;flex-grow: 1;}#sk-container-id-3 div.sk-label:hover label.sk-toggleable__label {background-color: #d4ebff;}#sk-container-id-3 div.sk-serial::before {content: \"\";position: absolute;border-left: 1px solid gray;box-sizing: border-box;top: 0;bottom: 0;left: 50%;z-index: 0;}#sk-container-id-3 div.sk-serial {display: flex;flex-direction: column;align-items: center;background-color: white;padding-right: 0.2em;padding-left: 0.2em;position: relative;}#sk-container-id-3 div.sk-item {position: relative;z-index: 1;}#sk-container-id-3 div.sk-parallel {display: flex;align-items: stretch;justify-content: center;background-color: white;position: relative;}#sk-container-id-3 div.sk-item::before, #sk-container-id-3 div.sk-parallel-item::before {content: \"\";position: absolute;border-left: 1px solid gray;box-sizing: border-box;top: 0;bottom: 0;left: 50%;z-index: -1;}#sk-container-id-3 div.sk-parallel-item {display: flex;flex-direction: column;z-index: 1;position: relative;background-color: white;}#sk-container-id-3 div.sk-parallel-item:first-child::after {align-self: flex-end;width: 50%;}#sk-container-id-3 div.sk-parallel-item:last-child::after {align-self: flex-start;width: 50%;}#sk-container-id-3 div.sk-parallel-item:only-child::after {width: 0;}#sk-container-id-3 div.sk-dashed-wrapped {border: 1px dashed gray;margin: 0 0.4em 0.5em 0.4em;box-sizing: border-box;padding-bottom: 0.4em;background-color: white;}#sk-container-id-3 div.sk-label label {font-family: monospace;font-weight: bold;display: inline-block;line-height: 1.2em;}#sk-container-id-3 div.sk-label-container {text-align: center;}#sk-container-id-3 div.sk-container {/* jupyter's `normalize.less` sets `[hidden] { display: none; }` but bootstrap.min.css set `[hidden] { display: none !important; }` so we also need the `!important` here to be able to override the default hidden behavior on the sphinx rendered scikit-learn.org. See: https://github.com/scikit-learn/scikit-learn/issues/21755 */display: inline-block !important;position: relative;}#sk-container-id-3 div.sk-text-repr-fallback {display: none;}</style><div id=\"sk-container-id-3\" class=\"sk-top-container\"><div class=\"sk-text-repr-fallback\"><pre>Pipeline(steps=[(&#x27;columntransformer&#x27;,\n",
       "                 ColumnTransformer(transformers=[(&#x27;pipeline-1&#x27;,\n",
       "                                                  Pipeline(steps=[(&#x27;standardscaler&#x27;,\n",
       "                                                                   StandardScaler())]),\n",
       "                                                  [&#x27;puiss_admin&#x27;, &#x27;puiss_max&#x27;,\n",
       "                                                   &#x27;boite_v_rapp&#x27;,\n",
       "                                                   &#x27;conso_mixte&#x27;]),\n",
       "                                                 (&#x27;pipeline-2&#x27;,\n",
       "                                                  Pipeline(steps=[(&#x27;onehotencoder&#x27;,\n",
       "                                                                   OneHotEncoder(handle_unknown=&#x27;ignore&#x27;))]),\n",
       "                                                  [&#x27;carburant&#x27;])])),\n",
       "                (&#x27;transformedtargetregressor&#x27;,\n",
       "                 TransformedTargetRegressor(regressor=SGDRegressor(epsilon=0,\n",
       "                                                                   penalty=&#x27;l1&#x27;,\n",
       "                                                                   random_state=5)))])</pre><b>In a Jupyter environment, please rerun this cell to show the HTML representation or trust the notebook. <br />On GitHub, the HTML representation is unable to render, please try loading this page with nbviewer.org.</b></div><div class=\"sk-container\" hidden><div class=\"sk-item sk-dashed-wrapped\"><div class=\"sk-label-container\"><div class=\"sk-label sk-toggleable\"><input class=\"sk-toggleable__control sk-hidden--visually\" id=\"sk-estimator-id-18\" type=\"checkbox\" ><label for=\"sk-estimator-id-18\" class=\"sk-toggleable__label sk-toggleable__label-arrow\">Pipeline</label><div class=\"sk-toggleable__content\"><pre>Pipeline(steps=[(&#x27;columntransformer&#x27;,\n",
       "                 ColumnTransformer(transformers=[(&#x27;pipeline-1&#x27;,\n",
       "                                                  Pipeline(steps=[(&#x27;standardscaler&#x27;,\n",
       "                                                                   StandardScaler())]),\n",
       "                                                  [&#x27;puiss_admin&#x27;, &#x27;puiss_max&#x27;,\n",
       "                                                   &#x27;boite_v_rapp&#x27;,\n",
       "                                                   &#x27;conso_mixte&#x27;]),\n",
       "                                                 (&#x27;pipeline-2&#x27;,\n",
       "                                                  Pipeline(steps=[(&#x27;onehotencoder&#x27;,\n",
       "                                                                   OneHotEncoder(handle_unknown=&#x27;ignore&#x27;))]),\n",
       "                                                  [&#x27;carburant&#x27;])])),\n",
       "                (&#x27;transformedtargetregressor&#x27;,\n",
       "                 TransformedTargetRegressor(regressor=SGDRegressor(epsilon=0,\n",
       "                                                                   penalty=&#x27;l1&#x27;,\n",
       "                                                                   random_state=5)))])</pre></div></div></div><div class=\"sk-serial\"><div class=\"sk-item sk-dashed-wrapped\"><div class=\"sk-label-container\"><div class=\"sk-label sk-toggleable\"><input class=\"sk-toggleable__control sk-hidden--visually\" id=\"sk-estimator-id-19\" type=\"checkbox\" ><label for=\"sk-estimator-id-19\" class=\"sk-toggleable__label sk-toggleable__label-arrow\">columntransformer: ColumnTransformer</label><div class=\"sk-toggleable__content\"><pre>ColumnTransformer(transformers=[(&#x27;pipeline-1&#x27;,\n",
       "                                 Pipeline(steps=[(&#x27;standardscaler&#x27;,\n",
       "                                                  StandardScaler())]),\n",
       "                                 [&#x27;puiss_admin&#x27;, &#x27;puiss_max&#x27;, &#x27;boite_v_rapp&#x27;,\n",
       "                                  &#x27;conso_mixte&#x27;]),\n",
       "                                (&#x27;pipeline-2&#x27;,\n",
       "                                 Pipeline(steps=[(&#x27;onehotencoder&#x27;,\n",
       "                                                  OneHotEncoder(handle_unknown=&#x27;ignore&#x27;))]),\n",
       "                                 [&#x27;carburant&#x27;])])</pre></div></div></div><div class=\"sk-parallel\"><div class=\"sk-parallel-item\"><div class=\"sk-item\"><div class=\"sk-label-container\"><div class=\"sk-label sk-toggleable\"><input class=\"sk-toggleable__control sk-hidden--visually\" id=\"sk-estimator-id-20\" type=\"checkbox\" ><label for=\"sk-estimator-id-20\" class=\"sk-toggleable__label sk-toggleable__label-arrow\">pipeline-1</label><div class=\"sk-toggleable__content\"><pre>[&#x27;puiss_admin&#x27;, &#x27;puiss_max&#x27;, &#x27;boite_v_rapp&#x27;, &#x27;conso_mixte&#x27;]</pre></div></div></div><div class=\"sk-serial\"><div class=\"sk-item\"><div class=\"sk-serial\"><div class=\"sk-item\"><div class=\"sk-estimator sk-toggleable\"><input class=\"sk-toggleable__control sk-hidden--visually\" id=\"sk-estimator-id-21\" type=\"checkbox\" ><label for=\"sk-estimator-id-21\" class=\"sk-toggleable__label sk-toggleable__label-arrow\">StandardScaler</label><div class=\"sk-toggleable__content\"><pre>StandardScaler()</pre></div></div></div></div></div></div></div></div><div class=\"sk-parallel-item\"><div class=\"sk-item\"><div class=\"sk-label-container\"><div class=\"sk-label sk-toggleable\"><input class=\"sk-toggleable__control sk-hidden--visually\" id=\"sk-estimator-id-22\" type=\"checkbox\" ><label for=\"sk-estimator-id-22\" class=\"sk-toggleable__label sk-toggleable__label-arrow\">pipeline-2</label><div class=\"sk-toggleable__content\"><pre>[&#x27;carburant&#x27;]</pre></div></div></div><div class=\"sk-serial\"><div class=\"sk-item\"><div class=\"sk-serial\"><div class=\"sk-item\"><div class=\"sk-estimator sk-toggleable\"><input class=\"sk-toggleable__control sk-hidden--visually\" id=\"sk-estimator-id-23\" type=\"checkbox\" ><label for=\"sk-estimator-id-23\" class=\"sk-toggleable__label sk-toggleable__label-arrow\">OneHotEncoder</label><div class=\"sk-toggleable__content\"><pre>OneHotEncoder(handle_unknown=&#x27;ignore&#x27;)</pre></div></div></div></div></div></div></div></div></div></div><div class=\"sk-item sk-dashed-wrapped\"><div class=\"sk-label-container\"><div class=\"sk-label sk-toggleable\"><input class=\"sk-toggleable__control sk-hidden--visually\" id=\"sk-estimator-id-24\" type=\"checkbox\" ><label for=\"sk-estimator-id-24\" class=\"sk-toggleable__label sk-toggleable__label-arrow\">transformedtargetregressor: TransformedTargetRegressor</label><div class=\"sk-toggleable__content\"><pre>TransformedTargetRegressor(regressor=SGDRegressor(epsilon=0, penalty=&#x27;l1&#x27;,\n",
       "                                                  random_state=5))</pre></div></div></div><div class=\"sk-parallel\"><div class=\"sk-parallel-item\"><div class=\"sk-item\"><div class=\"sk-label-container\"><div class=\"sk-label sk-toggleable\"><input class=\"sk-toggleable__control sk-hidden--visually\" id=\"sk-estimator-id-25\" type=\"checkbox\" ><label for=\"sk-estimator-id-25\" class=\"sk-toggleable__label sk-toggleable__label-arrow\">regressor: SGDRegressor</label><div class=\"sk-toggleable__content\"><pre>SGDRegressor(epsilon=0, penalty=&#x27;l1&#x27;, random_state=5)</pre></div></div></div><div class=\"sk-serial\"><div class=\"sk-item\"><div class=\"sk-estimator sk-toggleable\"><input class=\"sk-toggleable__control sk-hidden--visually\" id=\"sk-estimator-id-26\" type=\"checkbox\" ><label for=\"sk-estimator-id-26\" class=\"sk-toggleable__label sk-toggleable__label-arrow\">SGDRegressor</label><div class=\"sk-toggleable__content\"><pre>SGDRegressor(epsilon=0, penalty=&#x27;l1&#x27;, random_state=5)</pre></div></div></div></div></div></div></div></div></div></div></div></div>"
      ],
      "text/plain": [
       "Pipeline(steps=[('columntransformer',\n",
       "                 ColumnTransformer(transformers=[('pipeline-1',\n",
       "                                                  Pipeline(steps=[('standardscaler',\n",
       "                                                                   StandardScaler())]),\n",
       "                                                  ['puiss_admin', 'puiss_max',\n",
       "                                                   'boite_v_rapp',\n",
       "                                                   'conso_mixte']),\n",
       "                                                 ('pipeline-2',\n",
       "                                                  Pipeline(steps=[('onehotencoder',\n",
       "                                                                   OneHotEncoder(handle_unknown='ignore'))]),\n",
       "                                                  ['carburant'])])),\n",
       "                ('transformedtargetregressor',\n",
       "                 TransformedTargetRegressor(regressor=SGDRegressor(epsilon=0,\n",
       "                                                                   penalty='l1',\n",
       "                                                                   random_state=5)))])"
      ]
     },
     "execution_count": 67,
     "metadata": {},
     "output_type": "execute_result"
    }
   ],
   "source": [
    "final_model = load('final_model.joblib')\n",
    "final_model"
   ]
  },
  {
   "cell_type": "code",
   "execution_count": 68,
   "id": "803f5ab8",
   "metadata": {},
   "outputs": [],
   "source": [
    "# default values\n",
    "# REQUIRED : carburant, puiss_admin\n",
    "default_val = {\n",
    "    'hybride': False,\n",
    "    'puiss_admin': df_model['puiss_admin'].value_counts().idxmax(), # most common value\n",
    "    'puiss_max': df_model['puiss_max'].mean(), # mean value\n",
    "    'conso_urb' : df_model['conso_urb'].mean(), # mean value\n",
    "    'conso_exurb' : df_model['conso_exurb'].mean(), # mean value\n",
    "    'conso_mixte' : df_model['conso_mixte'].mean(), # mean value\n",
    "    'boite_v_auto' : False,\n",
    "    'boite_v_rapp': df_model['boite_v_rapp'].value_counts().idxmax(), # most common value\n",
    "}"
   ]
  },
  {
   "cell_type": "code",
   "execution_count": 69,
   "id": "147c5b06",
   "metadata": {},
   "outputs": [
    {
     "data": {
      "text/plain": [
       "{'carburant': 'GO',\n",
       " 'hybride': False,\n",
       " 'puiss_admin': 6.0,\n",
       " 'puiss_max': 88.0,\n",
       " 'conso_urb': None,\n",
       " 'conso_exurb': None,\n",
       " 'conso_mixte': None,\n",
       " 'boite_v_auto': False,\n",
       " 'boite_v_rapp': 6}"
      ]
     },
     "execution_count": 69,
     "metadata": {},
     "output_type": "execute_result"
    }
   ],
   "source": [
    "my_car = {\n",
    "    'carburant': \"GO\",\n",
    "    'hybride': False,\n",
    "    'puiss_admin': 6.0,\n",
    "    'puiss_max': 88.0,\n",
    "    'conso_urb' : None,\n",
    "    'conso_exurb' : None,\n",
    "    'conso_mixte' : None,\n",
    "    'boite_v_auto' : False,\n",
    "    'boite_v_rapp': 6\n",
    "}\n",
    "\n",
    "my_car"
   ]
  },
  {
   "cell_type": "code",
   "execution_count": 70,
   "id": "e8d934f6",
   "metadata": {},
   "outputs": [
    {
     "data": {
      "text/plain": [
       "{'carburant': 'GO',\n",
       " 'hybride': False,\n",
       " 'puiss_admin': 6.0,\n",
       " 'puiss_max': 88.0,\n",
       " 'conso_urb': 10.457447953730899,\n",
       " 'conso_exurb': 6.880044768201638,\n",
       " 'conso_mixte': 8.188780519362895,\n",
       " 'boite_v_auto': False,\n",
       " 'boite_v_rapp': 6}"
      ]
     },
     "execution_count": 70,
     "metadata": {},
     "output_type": "execute_result"
    }
   ],
   "source": [
    "# complete missing values\n",
    "my_car = {k:v if v!=None else default_val[k] for k,v in my_car.items() }\n",
    "my_car"
   ]
  },
  {
   "cell_type": "code",
   "execution_count": 71,
   "id": "aa6013cd",
   "metadata": {},
   "outputs": [
    {
     "data": {
      "text/html": [
       "<div>\n",
       "<style scoped>\n",
       "    .dataframe tbody tr th:only-of-type {\n",
       "        vertical-align: middle;\n",
       "    }\n",
       "\n",
       "    .dataframe tbody tr th {\n",
       "        vertical-align: top;\n",
       "    }\n",
       "\n",
       "    .dataframe thead th {\n",
       "        text-align: right;\n",
       "    }\n",
       "</style>\n",
       "<table border=\"1\" class=\"dataframe\">\n",
       "  <thead>\n",
       "    <tr style=\"text-align: right;\">\n",
       "      <th></th>\n",
       "      <th>carburant</th>\n",
       "      <th>hybride</th>\n",
       "      <th>puiss_admin</th>\n",
       "      <th>puiss_max</th>\n",
       "      <th>conso_urb</th>\n",
       "      <th>conso_exurb</th>\n",
       "      <th>conso_mixte</th>\n",
       "      <th>boite_v_auto</th>\n",
       "      <th>boite_v_rapp</th>\n",
       "    </tr>\n",
       "  </thead>\n",
       "  <tbody>\n",
       "    <tr>\n",
       "      <th>0</th>\n",
       "      <td>GO</td>\n",
       "      <td>False</td>\n",
       "      <td>6.0</td>\n",
       "      <td>88.0</td>\n",
       "      <td>10.457448</td>\n",
       "      <td>6.880045</td>\n",
       "      <td>8.188781</td>\n",
       "      <td>False</td>\n",
       "      <td>6</td>\n",
       "    </tr>\n",
       "  </tbody>\n",
       "</table>\n",
       "</div>"
      ],
      "text/plain": [
       "  carburant  hybride  puiss_admin  puiss_max  conso_urb  conso_exurb  \\\n",
       "0        GO    False          6.0       88.0  10.457448     6.880045   \n",
       "\n",
       "   conso_mixte  boite_v_auto  boite_v_rapp  \n",
       "0     8.188781         False             6  "
      ]
     },
     "execution_count": 71,
     "metadata": {},
     "output_type": "execute_result"
    }
   ],
   "source": [
    "df_car = pd.DataFrame(my_car, index=[0])\n",
    "df_car"
   ]
  },
  {
   "cell_type": "code",
   "execution_count": 72,
   "id": "f40f3283",
   "metadata": {},
   "outputs": [
    {
     "data": {
      "text/plain": [
       "216.65021082768723"
      ]
     },
     "execution_count": 72,
     "metadata": {},
     "output_type": "execute_result"
    }
   ],
   "source": [
    "model.predict(df_car)[0]"
   ]
  },
  {
   "cell_type": "code",
   "execution_count": 73,
   "id": "a66c9974",
   "metadata": {},
   "outputs": [
    {
     "data": {
      "text/plain": [
       "216.59327264130116"
      ]
     },
     "execution_count": 73,
     "metadata": {},
     "output_type": "execute_result"
    }
   ],
   "source": [
    "model_lr.predict(df_car)[0]"
   ]
  },
  {
   "cell_type": "code",
   "execution_count": 74,
   "id": "e8112f33",
   "metadata": {},
   "outputs": [
    {
     "data": {
      "text/plain": [
       "216.65021082768723"
      ]
     },
     "execution_count": 74,
     "metadata": {},
     "output_type": "execute_result"
    }
   ],
   "source": [
    "final_model.predict(df_car)[0]"
   ]
  },
  {
   "cell_type": "markdown",
   "id": "0704c333",
   "metadata": {},
   "source": [
    "[Back to top](#toc)"
   ]
  },
  {
   "cell_type": "markdown",
   "id": "68e22054",
   "metadata": {},
   "source": [
    "## End <a id=\"\"></a>"
   ]
  },
  {
   "cell_type": "code",
   "execution_count": 75,
   "id": "03d7c0ec",
   "metadata": {},
   "outputs": [
    {
     "data": {
      "text/html": [
       "<div>\n",
       "<style scoped>\n",
       "    .dataframe tbody tr th:only-of-type {\n",
       "        vertical-align: middle;\n",
       "    }\n",
       "\n",
       "    .dataframe tbody tr th {\n",
       "        vertical-align: top;\n",
       "    }\n",
       "\n",
       "    .dataframe thead th {\n",
       "        text-align: right;\n",
       "    }\n",
       "</style>\n",
       "<table border=\"1\" class=\"dataframe\">\n",
       "  <thead>\n",
       "    <tr style=\"text-align: right;\">\n",
       "      <th></th>\n",
       "      <th>puiss_admin</th>\n",
       "      <th>puiss_max</th>\n",
       "      <th>boite_v_rapp</th>\n",
       "      <th>conso_urb</th>\n",
       "      <th>conso_exurb</th>\n",
       "      <th>conso_mixte</th>\n",
       "      <th>co2</th>\n",
       "      <th>dataset</th>\n",
       "    </tr>\n",
       "  </thead>\n",
       "  <tbody>\n",
       "    <tr>\n",
       "      <th>count</th>\n",
       "      <td>77287.000000</td>\n",
       "      <td>77287.000000</td>\n",
       "      <td>77287.000000</td>\n",
       "      <td>77287.000000</td>\n",
       "      <td>77287.000000</td>\n",
       "      <td>77287.000000</td>\n",
       "      <td>77287.000000</td>\n",
       "      <td>77287.000000</td>\n",
       "    </tr>\n",
       "    <tr>\n",
       "      <th>mean</th>\n",
       "      <td>11.396237</td>\n",
       "      <td>125.406222</td>\n",
       "      <td>5.854659</td>\n",
       "      <td>10.457448</td>\n",
       "      <td>6.880045</td>\n",
       "      <td>8.188781</td>\n",
       "      <td>210.318126</td>\n",
       "      <td>2012.176394</td>\n",
       "    </tr>\n",
       "    <tr>\n",
       "      <th>std</th>\n",
       "      <td>5.969520</td>\n",
       "      <td>53.701178</td>\n",
       "      <td>0.738622</td>\n",
       "      <td>2.915669</td>\n",
       "      <td>1.529762</td>\n",
       "      <td>1.997819</td>\n",
       "      <td>48.267684</td>\n",
       "      <td>0.963951</td>\n",
       "    </tr>\n",
       "    <tr>\n",
       "      <th>min</th>\n",
       "      <td>3.000000</td>\n",
       "      <td>40.000000</td>\n",
       "      <td>4.000000</td>\n",
       "      <td>0.000000</td>\n",
       "      <td>2.800000</td>\n",
       "      <td>1.800000</td>\n",
       "      <td>48.000000</td>\n",
       "      <td>2011.000000</td>\n",
       "    </tr>\n",
       "    <tr>\n",
       "      <th>25%</th>\n",
       "      <td>9.000000</td>\n",
       "      <td>95.000000</td>\n",
       "      <td>5.000000</td>\n",
       "      <td>8.900000</td>\n",
       "      <td>6.200000</td>\n",
       "      <td>7.200000</td>\n",
       "      <td>186.000000</td>\n",
       "      <td>2011.000000</td>\n",
       "    </tr>\n",
       "    <tr>\n",
       "      <th>50%</th>\n",
       "      <td>10.000000</td>\n",
       "      <td>115.000000</td>\n",
       "      <td>6.000000</td>\n",
       "      <td>10.100000</td>\n",
       "      <td>6.900000</td>\n",
       "      <td>8.100000</td>\n",
       "      <td>213.000000</td>\n",
       "      <td>2013.000000</td>\n",
       "    </tr>\n",
       "    <tr>\n",
       "      <th>75%</th>\n",
       "      <td>11.000000</td>\n",
       "      <td>135.000000</td>\n",
       "      <td>6.000000</td>\n",
       "      <td>11.600000</td>\n",
       "      <td>7.700000</td>\n",
       "      <td>9.200000</td>\n",
       "      <td>242.000000</td>\n",
       "      <td>2013.000000</td>\n",
       "    </tr>\n",
       "    <tr>\n",
       "      <th>max</th>\n",
       "      <td>81.000000</td>\n",
       "      <td>559.300000</td>\n",
       "      <td>8.000000</td>\n",
       "      <td>41.100000</td>\n",
       "      <td>15.900000</td>\n",
       "      <td>24.500000</td>\n",
       "      <td>572.000000</td>\n",
       "      <td>2013.000000</td>\n",
       "    </tr>\n",
       "  </tbody>\n",
       "</table>\n",
       "</div>"
      ],
      "text/plain": [
       "        puiss_admin     puiss_max  boite_v_rapp     conso_urb   conso_exurb  \\\n",
       "count  77287.000000  77287.000000  77287.000000  77287.000000  77287.000000   \n",
       "mean      11.396237    125.406222      5.854659     10.457448      6.880045   \n",
       "std        5.969520     53.701178      0.738622      2.915669      1.529762   \n",
       "min        3.000000     40.000000      4.000000      0.000000      2.800000   \n",
       "25%        9.000000     95.000000      5.000000      8.900000      6.200000   \n",
       "50%       10.000000    115.000000      6.000000     10.100000      6.900000   \n",
       "75%       11.000000    135.000000      6.000000     11.600000      7.700000   \n",
       "max       81.000000    559.300000      8.000000     41.100000     15.900000   \n",
       "\n",
       "        conso_mixte           co2       dataset  \n",
       "count  77287.000000  77287.000000  77287.000000  \n",
       "mean       8.188781    210.318126   2012.176394  \n",
       "std        1.997819     48.267684      0.963951  \n",
       "min        1.800000     48.000000   2011.000000  \n",
       "25%        7.200000    186.000000   2011.000000  \n",
       "50%        8.100000    213.000000   2013.000000  \n",
       "75%        9.200000    242.000000   2013.000000  \n",
       "max       24.500000    572.000000   2013.000000  "
      ]
     },
     "execution_count": 75,
     "metadata": {},
     "output_type": "execute_result"
    }
   ],
   "source": [
    "my_dataset.describe()"
   ]
  },
  {
   "cell_type": "markdown",
   "id": "48be31c4",
   "metadata": {},
   "source": [
    "[Back to top](#toc)"
   ]
  }
 ],
 "metadata": {
  "kernelspec": {
   "display_name": "Python 3 (ipykernel)",
   "language": "python",
   "name": "python3"
  },
  "language_info": {
   "codemirror_mode": {
    "name": "ipython",
    "version": 3
   },
   "file_extension": ".py",
   "mimetype": "text/x-python",
   "name": "python",
   "nbconvert_exporter": "python",
   "pygments_lexer": "ipython3",
   "version": "3.10.6"
  }
 },
 "nbformat": 4,
 "nbformat_minor": 5
}
