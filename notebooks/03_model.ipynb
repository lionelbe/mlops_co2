{
 "cells": [
  {
   "cell_type": "markdown",
   "id": "ba664bc9",
   "metadata": {},
   "source": [
    "## Import"
   ]
  },
  {
   "cell_type": "markdown",
   "id": "4c55b42a",
   "metadata": {},
   "source": [
    "Modèle SGDRegressor <br/>\n",
    "cf https://github.com/sylla2022-arc/Apprentissage-automatique-Regression/blob/main/Prediction_Co2/Notebook_2_prediction_Apprentissag_automatique_Regression_CO2.ipynb"
   ]
  },
  {
   "cell_type": "code",
   "execution_count": 1,
   "id": "76812b24",
   "metadata": {},
   "outputs": [],
   "source": [
    "import pandas as pd\n",
    "import numpy as np\n"
   ]
  },
  {
   "cell_type": "code",
   "execution_count": 2,
   "id": "fd56bef0",
   "metadata": {},
   "outputs": [],
   "source": [
    "df = pd.read_csv(\"my_dataset.csv\")"
   ]
  },
  {
   "cell_type": "code",
   "execution_count": 3,
   "id": "13c1d98c",
   "metadata": {},
   "outputs": [
    {
     "name": "stdout",
     "output_type": "stream",
     "text": [
      "<class 'pandas.core.frame.DataFrame'>\n",
      "RangeIndex: 70078 entries, 0 to 70077\n",
      "Data columns (total 22 columns):\n",
      " #   Column       Non-Null Count  Dtype  \n",
      "---  ------       --------------  -----  \n",
      " 0   cnit         70078 non-null  object \n",
      " 1   mine         70078 non-null  object \n",
      " 2   marque       70078 non-null  object \n",
      " 3   modele       70078 non-null  object \n",
      " 4   dscom        70078 non-null  object \n",
      " 5   carburant    70078 non-null  object \n",
      " 6   hybride      39593 non-null  object \n",
      " 7   puiss_admin  70078 non-null  float64\n",
      " 8   puiss_max    70078 non-null  float64\n",
      " 9   boite_v      70078 non-null  object \n",
      " 10  conso_urb    70008 non-null  object \n",
      " 11  conso_exurb  70008 non-null  object \n",
      " 12  conso_mixte  70011 non-null  object \n",
      " 13  masse_v_min  0 non-null      float64\n",
      " 14  masse_v_max  0 non-null      float64\n",
      " 15  co2          70011 non-null  float64\n",
      " 16  co_typ_1     39483 non-null  object \n",
      " 17  hc           8077 non-null   object \n",
      " 18  nox          39483 non-null  object \n",
      " 19  hcnox        31463 non-null  object \n",
      " 20  particules   37079 non-null  object \n",
      " 21  dataset      70078 non-null  int64  \n",
      "dtypes: float64(5), int64(1), object(16)\n",
      "memory usage: 11.8+ MB\n"
     ]
    }
   ],
   "source": [
    "df.info()"
   ]
  },
  {
   "cell_type": "markdown",
   "id": "50cbdf6c",
   "metadata": {},
   "source": [
    "## Nettoyage"
   ]
  },
  {
   "cell_type": "code",
   "execution_count": 4,
   "id": "5e21a95e",
   "metadata": {},
   "outputs": [],
   "source": [
    "df.drop(columns=['conso_urb', 'conso_exurb', 'conso_mixte', 'masse_v_min', 'masse_v_max',\n",
    "                 'co_typ_1', 'hc', 'nox', 'hcnox', 'particules'],inplace=True)"
   ]
  },
  {
   "cell_type": "code",
   "execution_count": 5,
   "id": "0fba3ccd",
   "metadata": {},
   "outputs": [
    {
     "name": "stdout",
     "output_type": "stream",
     "text": [
      "<class 'pandas.core.frame.DataFrame'>\n",
      "RangeIndex: 70078 entries, 0 to 70077\n",
      "Data columns (total 12 columns):\n",
      " #   Column       Non-Null Count  Dtype  \n",
      "---  ------       --------------  -----  \n",
      " 0   cnit         70078 non-null  object \n",
      " 1   mine         70078 non-null  object \n",
      " 2   marque       70078 non-null  object \n",
      " 3   modele       70078 non-null  object \n",
      " 4   dscom        70078 non-null  object \n",
      " 5   carburant    70078 non-null  object \n",
      " 6   hybride      39593 non-null  object \n",
      " 7   puiss_admin  70078 non-null  float64\n",
      " 8   puiss_max    70078 non-null  float64\n",
      " 9   boite_v      70078 non-null  object \n",
      " 10  co2          70011 non-null  float64\n",
      " 11  dataset      70078 non-null  int64  \n",
      "dtypes: float64(3), int64(1), object(8)\n",
      "memory usage: 6.4+ MB\n"
     ]
    }
   ],
   "source": [
    "df.info()"
   ]
  },
  {
   "cell_type": "code",
   "execution_count": 6,
   "id": "f126d5c0",
   "metadata": {},
   "outputs": [],
   "source": [
    "df['hybride'].fillna('non', inplace=True)\n",
    "df.dropna(subset=['co2'], inplace=True)"
   ]
  },
  {
   "cell_type": "code",
   "execution_count": 7,
   "id": "b8ad223c",
   "metadata": {},
   "outputs": [
    {
     "name": "stdout",
     "output_type": "stream",
     "text": [
      "<class 'pandas.core.frame.DataFrame'>\n",
      "Int64Index: 70011 entries, 0 to 70077\n",
      "Data columns (total 12 columns):\n",
      " #   Column       Non-Null Count  Dtype  \n",
      "---  ------       --------------  -----  \n",
      " 0   cnit         70011 non-null  object \n",
      " 1   mine         70011 non-null  object \n",
      " 2   marque       70011 non-null  object \n",
      " 3   modele       70011 non-null  object \n",
      " 4   dscom        70011 non-null  object \n",
      " 5   carburant    70011 non-null  object \n",
      " 6   hybride      70011 non-null  object \n",
      " 7   puiss_admin  70011 non-null  float64\n",
      " 8   puiss_max    70011 non-null  float64\n",
      " 9   boite_v      70011 non-null  object \n",
      " 10  co2          70011 non-null  float64\n",
      " 11  dataset      70011 non-null  int64  \n",
      "dtypes: float64(3), int64(1), object(8)\n",
      "memory usage: 6.9+ MB\n"
     ]
    }
   ],
   "source": [
    "df.info()"
   ]
  },
  {
   "cell_type": "code",
   "execution_count": 8,
   "id": "88ad88b9",
   "metadata": {},
   "outputs": [
    {
     "data": {
      "text/html": [
       "<div>\n",
       "<style scoped>\n",
       "    .dataframe tbody tr th:only-of-type {\n",
       "        vertical-align: middle;\n",
       "    }\n",
       "\n",
       "    .dataframe tbody tr th {\n",
       "        vertical-align: top;\n",
       "    }\n",
       "\n",
       "    .dataframe thead th {\n",
       "        text-align: right;\n",
       "    }\n",
       "</style>\n",
       "<table border=\"1\" class=\"dataframe\">\n",
       "  <thead>\n",
       "    <tr style=\"text-align: right;\">\n",
       "      <th></th>\n",
       "      <th>cnit</th>\n",
       "      <th>mine</th>\n",
       "      <th>marque</th>\n",
       "      <th>modele</th>\n",
       "      <th>dscom</th>\n",
       "      <th>carburant</th>\n",
       "      <th>hybride</th>\n",
       "      <th>puiss_admin</th>\n",
       "      <th>puiss_max</th>\n",
       "      <th>boite_v</th>\n",
       "      <th>co2</th>\n",
       "      <th>dataset</th>\n",
       "    </tr>\n",
       "  </thead>\n",
       "  <tbody>\n",
       "    <tr>\n",
       "      <th>0</th>\n",
       "      <td>M10ALFVP000M091</td>\n",
       "      <td>937BXA1A05L</td>\n",
       "      <td>ALFA-ROMEO</td>\n",
       "      <td>ALFA 147</td>\n",
       "      <td>147 1.6 TS (105ch)</td>\n",
       "      <td>ES</td>\n",
       "      <td>non</td>\n",
       "      <td>7.0</td>\n",
       "      <td>77.0</td>\n",
       "      <td>M 5</td>\n",
       "      <td>196.0</td>\n",
       "      <td>2011</td>\n",
       "    </tr>\n",
       "    <tr>\n",
       "      <th>1</th>\n",
       "      <td>M10ALFVP000P093</td>\n",
       "      <td>937BXB1A06L</td>\n",
       "      <td>ALFA-ROMEO</td>\n",
       "      <td>ALFA 147</td>\n",
       "      <td>147 1.6 TS (120ch)</td>\n",
       "      <td>ES</td>\n",
       "      <td>non</td>\n",
       "      <td>8.0</td>\n",
       "      <td>88.0</td>\n",
       "      <td>M 5</td>\n",
       "      <td>194.0</td>\n",
       "      <td>2011</td>\n",
       "    </tr>\n",
       "    <tr>\n",
       "      <th>2</th>\n",
       "      <td>MAL1301JZ595</td>\n",
       "      <td>937AXA1A00H</td>\n",
       "      <td>ALFA-ROMEO</td>\n",
       "      <td>ALFA 147</td>\n",
       "      <td>147 3P 1.6 TS (105ch)</td>\n",
       "      <td>ES</td>\n",
       "      <td>non</td>\n",
       "      <td>7.0</td>\n",
       "      <td>77.0</td>\n",
       "      <td>M 5</td>\n",
       "      <td>196.0</td>\n",
       "      <td>2011</td>\n",
       "    </tr>\n",
       "    <tr>\n",
       "      <th>3</th>\n",
       "      <td>MAL1401JB597</td>\n",
       "      <td>937AXB1A01H</td>\n",
       "      <td>ALFA-ROMEO</td>\n",
       "      <td>ALFA 147</td>\n",
       "      <td>147 3P 1.6 TS (120ch)</td>\n",
       "      <td>ES</td>\n",
       "      <td>non</td>\n",
       "      <td>8.0</td>\n",
       "      <td>88.0</td>\n",
       "      <td>M 5</td>\n",
       "      <td>194.0</td>\n",
       "      <td>2011</td>\n",
       "    </tr>\n",
       "    <tr>\n",
       "      <th>4</th>\n",
       "      <td>MAL1601JX599</td>\n",
       "      <td>937AXC1102H</td>\n",
       "      <td>ALFA-ROMEO</td>\n",
       "      <td>ALFA 147</td>\n",
       "      <td>147 3P 2.0 SELESPEED</td>\n",
       "      <td>ES</td>\n",
       "      <td>non</td>\n",
       "      <td>10.0</td>\n",
       "      <td>110.0</td>\n",
       "      <td>M 5</td>\n",
       "      <td>211.0</td>\n",
       "      <td>2011</td>\n",
       "    </tr>\n",
       "    <tr>\n",
       "      <th>...</th>\n",
       "      <td>...</td>\n",
       "      <td>...</td>\n",
       "      <td>...</td>\n",
       "      <td>...</td>\n",
       "      <td>...</td>\n",
       "      <td>...</td>\n",
       "      <td>...</td>\n",
       "      <td>...</td>\n",
       "      <td>...</td>\n",
       "      <td>...</td>\n",
       "      <td>...</td>\n",
       "      <td>...</td>\n",
       "    </tr>\n",
       "    <tr>\n",
       "      <th>70073</th>\n",
       "      <td>MFT5422JX524</td>\n",
       "      <td>198AXL1B08D</td>\n",
       "      <td>FIAT</td>\n",
       "      <td>BRAVO</td>\n",
       "      <td>BRAVO 1.6 MultiJet (120ch) Sport Euro 5</td>\n",
       "      <td>GO</td>\n",
       "      <td>non</td>\n",
       "      <td>6.0</td>\n",
       "      <td>88.0</td>\n",
       "      <td>M 6</td>\n",
       "      <td>129.0</td>\n",
       "      <td>2012</td>\n",
       "    </tr>\n",
       "    <tr>\n",
       "      <th>70074</th>\n",
       "      <td>MFT5722JS525</td>\n",
       "      <td>198AXN1B12C</td>\n",
       "      <td>FIAT</td>\n",
       "      <td>BRAVO</td>\n",
       "      <td>BRAVO 2.0 MultiJet (165ch) Euro 5</td>\n",
       "      <td>GO</td>\n",
       "      <td>non</td>\n",
       "      <td>9.0</td>\n",
       "      <td>121.0</td>\n",
       "      <td>M 6</td>\n",
       "      <td>139.0</td>\n",
       "      <td>2012</td>\n",
       "    </tr>\n",
       "    <tr>\n",
       "      <th>70075</th>\n",
       "      <td>MFT5722JT526</td>\n",
       "      <td>198AXN1B12D</td>\n",
       "      <td>FIAT</td>\n",
       "      <td>BRAVO</td>\n",
       "      <td>BRAVO 2.0 MultiJet (165ch) Sport Euro 5</td>\n",
       "      <td>GO</td>\n",
       "      <td>non</td>\n",
       "      <td>9.0</td>\n",
       "      <td>121.0</td>\n",
       "      <td>M 6</td>\n",
       "      <td>139.0</td>\n",
       "      <td>2012</td>\n",
       "    </tr>\n",
       "    <tr>\n",
       "      <th>70076</th>\n",
       "      <td>MLC5402BX575</td>\n",
       "      <td>844AXC1105C</td>\n",
       "      <td>LANCIA</td>\n",
       "      <td>DELTA</td>\n",
       "      <td>Delta 1.6 MultiJet (120ch) DPF Selectronic</td>\n",
       "      <td>GO</td>\n",
       "      <td>non</td>\n",
       "      <td>6.0</td>\n",
       "      <td>88.0</td>\n",
       "      <td>M 6</td>\n",
       "      <td>120.0</td>\n",
       "      <td>2012</td>\n",
       "    </tr>\n",
       "    <tr>\n",
       "      <th>70077</th>\n",
       "      <td>MLC5802B7581</td>\n",
       "      <td>844AXE1A04C</td>\n",
       "      <td>LANCIA</td>\n",
       "      <td>DELTA</td>\n",
       "      <td>Delta 1.9 MultiJet Twinturbo (190ch) DPF</td>\n",
       "      <td>GO</td>\n",
       "      <td>non</td>\n",
       "      <td>11.0</td>\n",
       "      <td>139.0</td>\n",
       "      <td>M 6</td>\n",
       "      <td>149.0</td>\n",
       "      <td>2012</td>\n",
       "    </tr>\n",
       "  </tbody>\n",
       "</table>\n",
       "<p>70011 rows × 12 columns</p>\n",
       "</div>"
      ],
      "text/plain": [
       "                  cnit         mine      marque    modele  \\\n",
       "0      M10ALFVP000M091  937BXA1A05L  ALFA-ROMEO  ALFA 147   \n",
       "1      M10ALFVP000P093  937BXB1A06L  ALFA-ROMEO  ALFA 147   \n",
       "2         MAL1301JZ595  937AXA1A00H  ALFA-ROMEO  ALFA 147   \n",
       "3         MAL1401JB597  937AXB1A01H  ALFA-ROMEO  ALFA 147   \n",
       "4         MAL1601JX599  937AXC1102H  ALFA-ROMEO  ALFA 147   \n",
       "...                ...          ...         ...       ...   \n",
       "70073     MFT5422JX524  198AXL1B08D        FIAT     BRAVO   \n",
       "70074     MFT5722JS525  198AXN1B12C        FIAT     BRAVO   \n",
       "70075     MFT5722JT526  198AXN1B12D        FIAT     BRAVO   \n",
       "70076     MLC5402BX575  844AXC1105C      LANCIA     DELTA   \n",
       "70077     MLC5802B7581  844AXE1A04C      LANCIA     DELTA   \n",
       "\n",
       "                                            dscom carburant hybride  \\\n",
       "0                              147 1.6 TS (105ch)        ES     non   \n",
       "1                              147 1.6 TS (120ch)        ES     non   \n",
       "2                           147 3P 1.6 TS (105ch)        ES     non   \n",
       "3                           147 3P 1.6 TS (120ch)        ES     non   \n",
       "4                            147 3P 2.0 SELESPEED        ES     non   \n",
       "...                                           ...       ...     ...   \n",
       "70073     BRAVO 1.6 MultiJet (120ch) Sport Euro 5        GO     non   \n",
       "70074           BRAVO 2.0 MultiJet (165ch) Euro 5        GO     non   \n",
       "70075     BRAVO 2.0 MultiJet (165ch) Sport Euro 5        GO     non   \n",
       "70076  Delta 1.6 MultiJet (120ch) DPF Selectronic        GO     non   \n",
       "70077    Delta 1.9 MultiJet Twinturbo (190ch) DPF        GO     non   \n",
       "\n",
       "       puiss_admin  puiss_max boite_v    co2  dataset  \n",
       "0              7.0       77.0     M 5  196.0     2011  \n",
       "1              8.0       88.0     M 5  194.0     2011  \n",
       "2              7.0       77.0     M 5  196.0     2011  \n",
       "3              8.0       88.0     M 5  194.0     2011  \n",
       "4             10.0      110.0     M 5  211.0     2011  \n",
       "...            ...        ...     ...    ...      ...  \n",
       "70073          6.0       88.0     M 6  129.0     2012  \n",
       "70074          9.0      121.0     M 6  139.0     2012  \n",
       "70075          9.0      121.0     M 6  139.0     2012  \n",
       "70076          6.0       88.0     M 6  120.0     2012  \n",
       "70077         11.0      139.0     M 6  149.0     2012  \n",
       "\n",
       "[70011 rows x 12 columns]"
      ]
     },
     "execution_count": 8,
     "metadata": {},
     "output_type": "execute_result"
    }
   ],
   "source": [
    "df"
   ]
  },
  {
   "cell_type": "markdown",
   "id": "9b6a22ca",
   "metadata": {},
   "source": [
    "## Modèle"
   ]
  },
  {
   "cell_type": "code",
   "execution_count": 9,
   "id": "af4376b1",
   "metadata": {},
   "outputs": [],
   "source": [
    "Y = df['co2']\n",
    "X = df.drop(['cnit', 'mine', 'dscom', 'co2', 'dataset'] ,axis =1)"
   ]
  },
  {
   "cell_type": "code",
   "execution_count": 10,
   "id": "fc703d31",
   "metadata": {},
   "outputs": [
    {
     "name": "stdout",
     "output_type": "stream",
     "text": [
      "['puiss_admin', 'puiss_max']\n"
     ]
    }
   ],
   "source": [
    "# variables numeriques > StandarScaler \n",
    "var_num = X.select_dtypes(include = ['float', 'int']).columns.to_list()\n",
    "print(var_num)"
   ]
  },
  {
   "cell_type": "code",
   "execution_count": 11,
   "id": "69efd381",
   "metadata": {},
   "outputs": [
    {
     "name": "stdout",
     "output_type": "stream",
     "text": [
      "['marque', 'modele', 'carburant', 'hybride', 'boite_v']\n"
     ]
    }
   ],
   "source": [
    "# variables catégorielles > OneHotEncoder\n",
    "var_cat = X.select_dtypes(include = ['object']).columns.to_list()\n",
    "print(var_cat)"
   ]
  },
  {
   "cell_type": "code",
   "execution_count": 12,
   "id": "41723a92",
   "metadata": {},
   "outputs": [],
   "source": [
    "from sklearn.model_selection import train_test_split\n",
    "from sklearn.metrics import *\n",
    "\n",
    "from sklearn.pipeline import Pipeline\n",
    "from sklearn.pipeline import make_pipeline\n",
    "\n",
    "from sklearn.preprocessing import OneHotEncoder, StandardScaler, MinMaxScaler\n",
    "from sklearn.compose import ColumnTransformer\n",
    "from sklearn.compose import TransformedTargetRegressor, make_column_transformer\n",
    "\n",
    "from sklearn.linear_model import LinearRegression, SGDRegressor\n",
    "\n",
    "from sklearn.model_selection import GridSearchCV\n",
    "\n",
    "import time\n"
   ]
  },
  {
   "cell_type": "code",
   "execution_count": 13,
   "id": "1e8b95a6",
   "metadata": {},
   "outputs": [],
   "source": [
    "# train test split\n",
    "X_train, X_test, y_train, y_test = train_test_split(X,Y, test_size = 0.2, random_state =5)\n"
   ]
  },
  {
   "cell_type": "code",
   "execution_count": 14,
   "id": "70378add",
   "metadata": {},
   "outputs": [],
   "source": [
    "# normalisation\n",
    "num_pipeline = make_pipeline(StandardScaler())\n",
    "cat_pipeline = make_pipeline(OneHotEncoder(handle_unknown = 'ignore'))\n",
    "preprocessor = make_column_transformer( \n",
    "                          (num_pipeline, var_num),\n",
    "                          (cat_pipeline, var_cat),\n",
    "                           remainder=\"passthrough\"\n",
    "                        )"
   ]
  },
  {
   "cell_type": "raw",
   "id": "d41a4205",
   "metadata": {},
   "source": [
    "%time\n",
    "t0 = time.time() \n",
    "\n",
    "params_sgdr = {'regressor__penalty': ['l1', 'l2'] ,\n",
    "              'regressor__alpha':  np.linspace(0, 0.0002, 3) ,\n",
    "              'regressor__epsilon': np.linspace(0, 0.2, 3)\n",
    "              }\n",
    "\n",
    "grid_sgdr = GridSearchCV( TransformedTargetRegressor(regressor = SGDRegressor(random_state = 5)),\n",
    "                         param_grid =params_sgdr,\n",
    "                         cv =5,\n",
    "                         scoring = (\"r2\", \"neg_mean_absolute_error\"),\n",
    "                         refit = 'neg_mean_absolute_error',\n",
    "                         return_train_score = True,\n",
    "                         verbose = 0,\n",
    "                         n_jobs =-1\n",
    "                        )\n",
    "model_sgdr = Pipeline([('preprocessor', preprocessor),\n",
    "                  ('grid_search_msgdr',grid_sgdr )\n",
    "                   ])\n",
    "\n",
    "model_sgdr.fit(X_train, y_train)\n",
    "\n",
    "print(\"Execution time :{}\".format(time.time() - t0))"
   ]
  },
  {
   "cell_type": "code",
   "execution_count": 15,
   "id": "58a61e1e",
   "metadata": {},
   "outputs": [
    {
     "name": "stdout",
     "output_type": "stream",
     "text": [
      "CPU times: user 19 µs, sys: 16 µs, total: 35 µs\n",
      "Wall time: 43.4 µs\n"
     ]
    },
    {
     "data": {
      "text/html": [
       "<style>#sk-container-id-1 {color: black;background-color: white;}#sk-container-id-1 pre{padding: 0;}#sk-container-id-1 div.sk-toggleable {background-color: white;}#sk-container-id-1 label.sk-toggleable__label {cursor: pointer;display: block;width: 100%;margin-bottom: 0;padding: 0.3em;box-sizing: border-box;text-align: center;}#sk-container-id-1 label.sk-toggleable__label-arrow:before {content: \"▸\";float: left;margin-right: 0.25em;color: #696969;}#sk-container-id-1 label.sk-toggleable__label-arrow:hover:before {color: black;}#sk-container-id-1 div.sk-estimator:hover label.sk-toggleable__label-arrow:before {color: black;}#sk-container-id-1 div.sk-toggleable__content {max-height: 0;max-width: 0;overflow: hidden;text-align: left;background-color: #f0f8ff;}#sk-container-id-1 div.sk-toggleable__content pre {margin: 0.2em;color: black;border-radius: 0.25em;background-color: #f0f8ff;}#sk-container-id-1 input.sk-toggleable__control:checked~div.sk-toggleable__content {max-height: 200px;max-width: 100%;overflow: auto;}#sk-container-id-1 input.sk-toggleable__control:checked~label.sk-toggleable__label-arrow:before {content: \"▾\";}#sk-container-id-1 div.sk-estimator input.sk-toggleable__control:checked~label.sk-toggleable__label {background-color: #d4ebff;}#sk-container-id-1 div.sk-label input.sk-toggleable__control:checked~label.sk-toggleable__label {background-color: #d4ebff;}#sk-container-id-1 input.sk-hidden--visually {border: 0;clip: rect(1px 1px 1px 1px);clip: rect(1px, 1px, 1px, 1px);height: 1px;margin: -1px;overflow: hidden;padding: 0;position: absolute;width: 1px;}#sk-container-id-1 div.sk-estimator {font-family: monospace;background-color: #f0f8ff;border: 1px dotted black;border-radius: 0.25em;box-sizing: border-box;margin-bottom: 0.5em;}#sk-container-id-1 div.sk-estimator:hover {background-color: #d4ebff;}#sk-container-id-1 div.sk-parallel-item::after {content: \"\";width: 100%;border-bottom: 1px solid gray;flex-grow: 1;}#sk-container-id-1 div.sk-label:hover label.sk-toggleable__label {background-color: #d4ebff;}#sk-container-id-1 div.sk-serial::before {content: \"\";position: absolute;border-left: 1px solid gray;box-sizing: border-box;top: 0;bottom: 0;left: 50%;z-index: 0;}#sk-container-id-1 div.sk-serial {display: flex;flex-direction: column;align-items: center;background-color: white;padding-right: 0.2em;padding-left: 0.2em;position: relative;}#sk-container-id-1 div.sk-item {position: relative;z-index: 1;}#sk-container-id-1 div.sk-parallel {display: flex;align-items: stretch;justify-content: center;background-color: white;position: relative;}#sk-container-id-1 div.sk-item::before, #sk-container-id-1 div.sk-parallel-item::before {content: \"\";position: absolute;border-left: 1px solid gray;box-sizing: border-box;top: 0;bottom: 0;left: 50%;z-index: -1;}#sk-container-id-1 div.sk-parallel-item {display: flex;flex-direction: column;z-index: 1;position: relative;background-color: white;}#sk-container-id-1 div.sk-parallel-item:first-child::after {align-self: flex-end;width: 50%;}#sk-container-id-1 div.sk-parallel-item:last-child::after {align-self: flex-start;width: 50%;}#sk-container-id-1 div.sk-parallel-item:only-child::after {width: 0;}#sk-container-id-1 div.sk-dashed-wrapped {border: 1px dashed gray;margin: 0 0.4em 0.5em 0.4em;box-sizing: border-box;padding-bottom: 0.4em;background-color: white;}#sk-container-id-1 div.sk-label label {font-family: monospace;font-weight: bold;display: inline-block;line-height: 1.2em;}#sk-container-id-1 div.sk-label-container {text-align: center;}#sk-container-id-1 div.sk-container {/* jupyter's `normalize.less` sets `[hidden] { display: none; }` but bootstrap.min.css set `[hidden] { display: none !important; }` so we also need the `!important` here to be able to override the default hidden behavior on the sphinx rendered scikit-learn.org. See: https://github.com/scikit-learn/scikit-learn/issues/21755 */display: inline-block !important;position: relative;}#sk-container-id-1 div.sk-text-repr-fallback {display: none;}</style><div id=\"sk-container-id-1\" class=\"sk-top-container\"><div class=\"sk-text-repr-fallback\"><pre>Pipeline(steps=[(&#x27;columntransformer&#x27;,\n",
       "                 ColumnTransformer(remainder=&#x27;passthrough&#x27;,\n",
       "                                   transformers=[(&#x27;pipeline-1&#x27;,\n",
       "                                                  Pipeline(steps=[(&#x27;standardscaler&#x27;,\n",
       "                                                                   StandardScaler())]),\n",
       "                                                  [&#x27;puiss_admin&#x27;, &#x27;puiss_max&#x27;]),\n",
       "                                                 (&#x27;pipeline-2&#x27;,\n",
       "                                                  Pipeline(steps=[(&#x27;onehotencoder&#x27;,\n",
       "                                                                   OneHotEncoder(handle_unknown=&#x27;ignore&#x27;))]),\n",
       "                                                  [&#x27;marque&#x27;, &#x27;modele&#x27;,\n",
       "                                                   &#x27;carburant&#x27;, &#x27;hybride&#x27;,\n",
       "                                                   &#x27;boite_v&#x27;])])),\n",
       "                (&#x27;transformedtargetregressor&#x27;,\n",
       "                 TransformedTargetRegressor(regressor=SGDRegressor(alpha=0.0002,\n",
       "                                                                   epsilon=0,\n",
       "                                                                   penalty=&#x27;l1&#x27;,\n",
       "                                                                   random_state=5)))])</pre><b>In a Jupyter environment, please rerun this cell to show the HTML representation or trust the notebook. <br />On GitHub, the HTML representation is unable to render, please try loading this page with nbviewer.org.</b></div><div class=\"sk-container\" hidden><div class=\"sk-item sk-dashed-wrapped\"><div class=\"sk-label-container\"><div class=\"sk-label sk-toggleable\"><input class=\"sk-toggleable__control sk-hidden--visually\" id=\"sk-estimator-id-1\" type=\"checkbox\" ><label for=\"sk-estimator-id-1\" class=\"sk-toggleable__label sk-toggleable__label-arrow\">Pipeline</label><div class=\"sk-toggleable__content\"><pre>Pipeline(steps=[(&#x27;columntransformer&#x27;,\n",
       "                 ColumnTransformer(remainder=&#x27;passthrough&#x27;,\n",
       "                                   transformers=[(&#x27;pipeline-1&#x27;,\n",
       "                                                  Pipeline(steps=[(&#x27;standardscaler&#x27;,\n",
       "                                                                   StandardScaler())]),\n",
       "                                                  [&#x27;puiss_admin&#x27;, &#x27;puiss_max&#x27;]),\n",
       "                                                 (&#x27;pipeline-2&#x27;,\n",
       "                                                  Pipeline(steps=[(&#x27;onehotencoder&#x27;,\n",
       "                                                                   OneHotEncoder(handle_unknown=&#x27;ignore&#x27;))]),\n",
       "                                                  [&#x27;marque&#x27;, &#x27;modele&#x27;,\n",
       "                                                   &#x27;carburant&#x27;, &#x27;hybride&#x27;,\n",
       "                                                   &#x27;boite_v&#x27;])])),\n",
       "                (&#x27;transformedtargetregressor&#x27;,\n",
       "                 TransformedTargetRegressor(regressor=SGDRegressor(alpha=0.0002,\n",
       "                                                                   epsilon=0,\n",
       "                                                                   penalty=&#x27;l1&#x27;,\n",
       "                                                                   random_state=5)))])</pre></div></div></div><div class=\"sk-serial\"><div class=\"sk-item sk-dashed-wrapped\"><div class=\"sk-label-container\"><div class=\"sk-label sk-toggleable\"><input class=\"sk-toggleable__control sk-hidden--visually\" id=\"sk-estimator-id-2\" type=\"checkbox\" ><label for=\"sk-estimator-id-2\" class=\"sk-toggleable__label sk-toggleable__label-arrow\">columntransformer: ColumnTransformer</label><div class=\"sk-toggleable__content\"><pre>ColumnTransformer(remainder=&#x27;passthrough&#x27;,\n",
       "                  transformers=[(&#x27;pipeline-1&#x27;,\n",
       "                                 Pipeline(steps=[(&#x27;standardscaler&#x27;,\n",
       "                                                  StandardScaler())]),\n",
       "                                 [&#x27;puiss_admin&#x27;, &#x27;puiss_max&#x27;]),\n",
       "                                (&#x27;pipeline-2&#x27;,\n",
       "                                 Pipeline(steps=[(&#x27;onehotencoder&#x27;,\n",
       "                                                  OneHotEncoder(handle_unknown=&#x27;ignore&#x27;))]),\n",
       "                                 [&#x27;marque&#x27;, &#x27;modele&#x27;, &#x27;carburant&#x27;, &#x27;hybride&#x27;,\n",
       "                                  &#x27;boite_v&#x27;])])</pre></div></div></div><div class=\"sk-parallel\"><div class=\"sk-parallel-item\"><div class=\"sk-item\"><div class=\"sk-label-container\"><div class=\"sk-label sk-toggleable\"><input class=\"sk-toggleable__control sk-hidden--visually\" id=\"sk-estimator-id-3\" type=\"checkbox\" ><label for=\"sk-estimator-id-3\" class=\"sk-toggleable__label sk-toggleable__label-arrow\">pipeline-1</label><div class=\"sk-toggleable__content\"><pre>[&#x27;puiss_admin&#x27;, &#x27;puiss_max&#x27;]</pre></div></div></div><div class=\"sk-serial\"><div class=\"sk-item\"><div class=\"sk-serial\"><div class=\"sk-item\"><div class=\"sk-estimator sk-toggleable\"><input class=\"sk-toggleable__control sk-hidden--visually\" id=\"sk-estimator-id-4\" type=\"checkbox\" ><label for=\"sk-estimator-id-4\" class=\"sk-toggleable__label sk-toggleable__label-arrow\">StandardScaler</label><div class=\"sk-toggleable__content\"><pre>StandardScaler()</pre></div></div></div></div></div></div></div></div><div class=\"sk-parallel-item\"><div class=\"sk-item\"><div class=\"sk-label-container\"><div class=\"sk-label sk-toggleable\"><input class=\"sk-toggleable__control sk-hidden--visually\" id=\"sk-estimator-id-5\" type=\"checkbox\" ><label for=\"sk-estimator-id-5\" class=\"sk-toggleable__label sk-toggleable__label-arrow\">pipeline-2</label><div class=\"sk-toggleable__content\"><pre>[&#x27;marque&#x27;, &#x27;modele&#x27;, &#x27;carburant&#x27;, &#x27;hybride&#x27;, &#x27;boite_v&#x27;]</pre></div></div></div><div class=\"sk-serial\"><div class=\"sk-item\"><div class=\"sk-serial\"><div class=\"sk-item\"><div class=\"sk-estimator sk-toggleable\"><input class=\"sk-toggleable__control sk-hidden--visually\" id=\"sk-estimator-id-6\" type=\"checkbox\" ><label for=\"sk-estimator-id-6\" class=\"sk-toggleable__label sk-toggleable__label-arrow\">OneHotEncoder</label><div class=\"sk-toggleable__content\"><pre>OneHotEncoder(handle_unknown=&#x27;ignore&#x27;)</pre></div></div></div></div></div></div></div></div><div class=\"sk-parallel-item\"><div class=\"sk-item\"><div class=\"sk-label-container\"><div class=\"sk-label sk-toggleable\"><input class=\"sk-toggleable__control sk-hidden--visually\" id=\"sk-estimator-id-7\" type=\"checkbox\" ><label for=\"sk-estimator-id-7\" class=\"sk-toggleable__label sk-toggleable__label-arrow\">remainder</label><div class=\"sk-toggleable__content\"><pre>[]</pre></div></div></div><div class=\"sk-serial\"><div class=\"sk-item\"><div class=\"sk-estimator sk-toggleable\"><input class=\"sk-toggleable__control sk-hidden--visually\" id=\"sk-estimator-id-8\" type=\"checkbox\" ><label for=\"sk-estimator-id-8\" class=\"sk-toggleable__label sk-toggleable__label-arrow\">passthrough</label><div class=\"sk-toggleable__content\"><pre>passthrough</pre></div></div></div></div></div></div></div></div><div class=\"sk-item sk-dashed-wrapped\"><div class=\"sk-label-container\"><div class=\"sk-label sk-toggleable\"><input class=\"sk-toggleable__control sk-hidden--visually\" id=\"sk-estimator-id-9\" type=\"checkbox\" ><label for=\"sk-estimator-id-9\" class=\"sk-toggleable__label sk-toggleable__label-arrow\">transformedtargetregressor: TransformedTargetRegressor</label><div class=\"sk-toggleable__content\"><pre>TransformedTargetRegressor(regressor=SGDRegressor(alpha=0.0002, epsilon=0,\n",
       "                                                  penalty=&#x27;l1&#x27;,\n",
       "                                                  random_state=5))</pre></div></div></div><div class=\"sk-parallel\"><div class=\"sk-parallel-item\"><div class=\"sk-item\"><div class=\"sk-label-container\"><div class=\"sk-label sk-toggleable\"><input class=\"sk-toggleable__control sk-hidden--visually\" id=\"sk-estimator-id-10\" type=\"checkbox\" ><label for=\"sk-estimator-id-10\" class=\"sk-toggleable__label sk-toggleable__label-arrow\">regressor: SGDRegressor</label><div class=\"sk-toggleable__content\"><pre>SGDRegressor(alpha=0.0002, epsilon=0, penalty=&#x27;l1&#x27;, random_state=5)</pre></div></div></div><div class=\"sk-serial\"><div class=\"sk-item\"><div class=\"sk-estimator sk-toggleable\"><input class=\"sk-toggleable__control sk-hidden--visually\" id=\"sk-estimator-id-11\" type=\"checkbox\" ><label for=\"sk-estimator-id-11\" class=\"sk-toggleable__label sk-toggleable__label-arrow\">SGDRegressor</label><div class=\"sk-toggleable__content\"><pre>SGDRegressor(alpha=0.0002, epsilon=0, penalty=&#x27;l1&#x27;, random_state=5)</pre></div></div></div></div></div></div></div></div></div></div></div></div>"
      ],
      "text/plain": [
       "Pipeline(steps=[('columntransformer',\n",
       "                 ColumnTransformer(remainder='passthrough',\n",
       "                                   transformers=[('pipeline-1',\n",
       "                                                  Pipeline(steps=[('standardscaler',\n",
       "                                                                   StandardScaler())]),\n",
       "                                                  ['puiss_admin', 'puiss_max']),\n",
       "                                                 ('pipeline-2',\n",
       "                                                  Pipeline(steps=[('onehotencoder',\n",
       "                                                                   OneHotEncoder(handle_unknown='ignore'))]),\n",
       "                                                  ['marque', 'modele',\n",
       "                                                   'carburant', 'hybride',\n",
       "                                                   'boite_v'])])),\n",
       "                ('transformedtargetregressor',\n",
       "                 TransformedTargetRegressor(regressor=SGDRegressor(alpha=0.0002,\n",
       "                                                                   epsilon=0,\n",
       "                                                                   penalty='l1',\n",
       "                                                                   random_state=5)))])"
      ]
     },
     "execution_count": 15,
     "metadata": {},
     "output_type": "execute_result"
    }
   ],
   "source": [
    "%time\n",
    "model_sgdr = make_pipeline(preprocessor, TransformedTargetRegressor(regressor = SGDRegressor(alpha = 0.0002,\n",
    "                                                                epsilon = 0, penalty ='l1', random_state =5))\n",
    "    \n",
    ")\n",
    "model_sgdr.fit(X_train, y_train)\n"
   ]
  },
  {
   "cell_type": "code",
   "execution_count": 16,
   "id": "e71f4162",
   "metadata": {},
   "outputs": [],
   "source": [
    "y_pred_sgdr = model_sgdr.predict(X_test)\n"
   ]
  },
  {
   "cell_type": "code",
   "execution_count": 17,
   "id": "2d1983df",
   "metadata": {},
   "outputs": [
    {
     "data": {
      "text/html": [
       "<div>\n",
       "<style scoped>\n",
       "    .dataframe tbody tr th:only-of-type {\n",
       "        vertical-align: middle;\n",
       "    }\n",
       "\n",
       "    .dataframe tbody tr th {\n",
       "        vertical-align: top;\n",
       "    }\n",
       "\n",
       "    .dataframe thead th {\n",
       "        text-align: right;\n",
       "    }\n",
       "</style>\n",
       "<table border=\"1\" class=\"dataframe\">\n",
       "  <thead>\n",
       "    <tr style=\"text-align: right;\">\n",
       "      <th></th>\n",
       "      <th>Valeurs réelles</th>\n",
       "      <th>Valeurs predictes</th>\n",
       "    </tr>\n",
       "  </thead>\n",
       "  <tbody>\n",
       "    <tr>\n",
       "      <th>0</th>\n",
       "      <td>252.0</td>\n",
       "      <td>244.893897</td>\n",
       "    </tr>\n",
       "    <tr>\n",
       "      <th>1</th>\n",
       "      <td>227.0</td>\n",
       "      <td>249.379249</td>\n",
       "    </tr>\n",
       "    <tr>\n",
       "      <th>2</th>\n",
       "      <td>224.0</td>\n",
       "      <td>228.282056</td>\n",
       "    </tr>\n",
       "    <tr>\n",
       "      <th>3</th>\n",
       "      <td>224.0</td>\n",
       "      <td>228.282056</td>\n",
       "    </tr>\n",
       "    <tr>\n",
       "      <th>4</th>\n",
       "      <td>232.0</td>\n",
       "      <td>215.682298</td>\n",
       "    </tr>\n",
       "  </tbody>\n",
       "</table>\n",
       "</div>"
      ],
      "text/plain": [
       "   Valeurs réelles  Valeurs predictes\n",
       "0            252.0         244.893897\n",
       "1            227.0         249.379249\n",
       "2            224.0         228.282056\n",
       "3            224.0         228.282056\n",
       "4            232.0         215.682298"
      ]
     },
     "execution_count": 17,
     "metadata": {},
     "output_type": "execute_result"
    }
   ],
   "source": [
    "pd.DataFrame.from_dict({'Valeurs réelles': y_test.values.ravel(), \"Valeurs predictes\": y_pred_sgdr}).head()\n"
   ]
  },
  {
   "cell_type": "markdown",
   "id": "5b769ca1",
   "metadata": {},
   "source": [
    "## Export"
   ]
  },
  {
   "cell_type": "code",
   "execution_count": 18,
   "id": "2c7dd542",
   "metadata": {},
   "outputs": [],
   "source": [
    "from joblib import dump, load"
   ]
  },
  {
   "cell_type": "code",
   "execution_count": 19,
   "id": "eea2e99d",
   "metadata": {},
   "outputs": [
    {
     "data": {
      "text/plain": [
       "['model_sgdr.joblib']"
      ]
     },
     "execution_count": 19,
     "metadata": {},
     "output_type": "execute_result"
    }
   ],
   "source": [
    "dump(model_sgdr, 'model_sgdr.joblib')\n"
   ]
  }
 ],
 "metadata": {
  "kernelspec": {
   "display_name": "Python 3 (ipykernel)",
   "language": "python",
   "name": "python3"
  },
  "language_info": {
   "codemirror_mode": {
    "name": "ipython",
    "version": 3
   },
   "file_extension": ".py",
   "mimetype": "text/x-python",
   "name": "python",
   "nbconvert_exporter": "python",
   "pygments_lexer": "ipython3",
   "version": "3.10.6"
  }
 },
 "nbformat": 4,
 "nbformat_minor": 5
}
