{
 "cells": [
  {
   "cell_type": "markdown",
   "id": "9ec92572",
   "metadata": {},
   "source": [
    "## Import"
   ]
  },
  {
   "cell_type": "markdown",
   "id": "4b767064",
   "metadata": {},
   "source": [
    "Notebook de ce que pourrait être le workflow d'import des datasets."
   ]
  },
  {
   "cell_type": "code",
   "execution_count": 1,
   "id": "2ef8d39e",
   "metadata": {},
   "outputs": [],
   "source": [
    "import pandas as pd\n",
    "\n",
    "pd.options.display.max_columns = 50\n"
   ]
  },
  {
   "cell_type": "markdown",
   "id": "9871b352",
   "metadata": {},
   "source": [
    "## Dataset initial"
   ]
  },
  {
   "cell_type": "code",
   "execution_count": 2,
   "id": "fe301645",
   "metadata": {},
   "outputs": [],
   "source": [
    "\n",
    "# dataframe initial\n",
    "my_dataset =  pd.DataFrame({\n",
    "                'cnit': pd.Series(dtype='object'),\n",
    "                'mine': pd.Series(dtype='object'),\n",
    "                'marque': pd.Series(dtype='object'),\n",
    "                'modele': pd.Series(dtype='object'),\n",
    "                'dscom': pd.Series(dtype='object'),\n",
    "                'carburant': pd.Series(dtype='object'),\n",
    "                'hybride': pd.Series(dtype='object'),\n",
    "                'puiss_admin': pd.Series(dtype='float'),\n",
    "                'puiss_max': pd.Series(dtype='float'),\n",
    "                'boite_v': pd.Series(dtype='object'),\n",
    "                'conso_urb': pd.Series(dtype='float'),\n",
    "                'conso_exurb': pd.Series(dtype='float'),\n",
    "                'conso_mixte': pd.Series(dtype='float'),\n",
    "                'masse_v_min': pd.Series(dtype='int'),\n",
    "                'masse_v_max': pd.Series(dtype='int'),    \n",
    "                'co2': pd.Series(dtype='float'),\n",
    "                'co_typ_1': pd.Series(dtype='float'),\n",
    "                'hc': pd.Series(dtype='float'),\n",
    "                'nox': pd.Series(dtype='float'),\n",
    "                'hcnox': pd.Series(dtype='float'),\n",
    "                'particules': pd.Series(dtype='float')                  \n",
    "                })"
   ]
  },
  {
   "cell_type": "markdown",
   "id": "e9f18f76",
   "metadata": {},
   "source": [
    "## Import des datasets"
   ]
  },
  {
   "cell_type": "code",
   "execution_count": 3,
   "id": "953ec544",
   "metadata": {},
   "outputs": [],
   "source": [
    "\n",
    "df_2011 = pd.read_excel(\"datasets/2011_BASE CL MAJ JUIN 2011.xls\")\n",
    "df_2012 = pd.read_csv(\"datasets/2012_BASE CL MAJ JUIN 2012.csv\", sep=';',encoding = 'latin-1')\n"
   ]
  },
  {
   "cell_type": "markdown",
   "id": "6ec40754",
   "metadata": {},
   "source": [
    "## Normalisation des colonnes"
   ]
  },
  {
   "cell_type": "code",
   "execution_count": 4,
   "id": "f22e0814",
   "metadata": {},
   "outputs": [],
   "source": [
    "df_2011_cols = {\"cnit\" : \"cnit\",\n",
    "                \"tvv\" : \"mine\",\n",
    "                \"lib_mrq\" : \"marque\",\n",
    "                \"lib_mod\" : \"modele\",\n",
    "                \"dscom\" : \"dscom\",\n",
    "                \"typ_cbr\" : \"carburant\",\n",
    "                \"puiss_admin_98\" : \"puiss_admin\",\n",
    "                \"puiss_max\" : \"puiss_max\",\n",
    "                \"typ_boite_nb_rapp\" : \"boite_v\",\n",
    "                \"conso_urb\" : \"conso_urb\",\n",
    "                \"conso_exurb\" : \"conso_exurb\",\n",
    "                \"conso_mixte\" : \"conso_mixte\",\n",
    "                \"co2\" : \"co2\"\n",
    "               }\n",
    "\n",
    "to_drop = []\n",
    "for c in df_2011.columns:\n",
    "    if c not in df_2011_cols.keys():\n",
    "        to_drop.append(c)\n",
    "\n",
    "df_2011 = df_2011.drop(columns=to_drop).rename(columns=df_2011_cols)"
   ]
  },
  {
   "cell_type": "code",
   "execution_count": 5,
   "id": "579863e9",
   "metadata": {},
   "outputs": [],
   "source": [
    "df_2012_cols = {\"cnit\" : \"cnit\",\n",
    "                \"tvv\" : \"mine\",\n",
    "                \"lib_mrq\" : \"marque\",\n",
    "                \"lib_mod\" : \"modele\",\n",
    "                \"dscom\" : \"dscom\",\n",
    "                \"typ_cbr\" : \"carburant\",\n",
    "                \"hybride\" : \"hybride\",\n",
    "                \"puiss_admin_98\" : \"puiss_admin\",\n",
    "                \"puiss_max\" : \"puiss_max\",\n",
    "                \"typ_boite_nb_rapp\" : \"boite_v\",\n",
    "                \"conso_urb\" : \"conso_urb\",\n",
    "                \"conso_exurb\" : \"conso_exurb\",\n",
    "                \"conso_mixte\" : \"conso_mixte\",\n",
    "                \"co2\" : \"co2\",\n",
    "                \"co_typ_1\" : \"co_typ_1\",\n",
    "                \"hc\" : \"hc\",\n",
    "                \"nox\" : \"nox\",\n",
    "                \"hcnox\" : \"hcnox\",\n",
    "                \"ptcl\" : \"particules\"\n",
    "               }\n",
    "\n",
    "to_drop = []\n",
    "for c in df_2012.columns:\n",
    "    if c not in df_2012_cols.keys():\n",
    "        to_drop.append(c)\n",
    "        \n",
    "df_2012 = df_2012.drop(columns=to_drop).rename(columns=df_2012_cols)"
   ]
  },
  {
   "cell_type": "markdown",
   "id": "697f6204",
   "metadata": {},
   "source": [
    "## Nettoyage"
   ]
  },
  {
   "cell_type": "code",
   "execution_count": 6,
   "id": "0b18ec4a",
   "metadata": {},
   "outputs": [],
   "source": [
    "# suppression des espaces inutiles (par ex. colonne dans la colonne cnit !)\n",
    "def clean_df_cols(df):\n",
    "    df_obj = df.select_dtypes(['object'])\n",
    "    df[df_obj.columns] = df_obj.apply(lambda x: x.str.strip())\n",
    "    return df\n"
   ]
  },
  {
   "cell_type": "code",
   "execution_count": 7,
   "id": "3364e2f2",
   "metadata": {},
   "outputs": [],
   "source": [
    "df_2011 = clean_df_cols(df_2011)\n",
    "df_2012 = clean_df_cols(df_2012)"
   ]
  },
  {
   "cell_type": "markdown",
   "id": "2b70b6cc",
   "metadata": {},
   "source": [
    "## Suppression des doublons du dataset"
   ]
  },
  {
   "cell_type": "code",
   "execution_count": 8,
   "id": "3900d3fb",
   "metadata": {},
   "outputs": [],
   "source": [
    "df_2011.drop_duplicates(subset=['cnit'], inplace=True)\n",
    "df_2012.drop_duplicates(subset=['cnit'], inplace=True)\n"
   ]
  },
  {
   "cell_type": "markdown",
   "id": "335d0e82",
   "metadata": {},
   "source": [
    "## 1er import (raw)"
   ]
  },
  {
   "cell_type": "code",
   "execution_count": 9,
   "id": "a1b90b9e",
   "metadata": {},
   "outputs": [],
   "source": [
    "my_dataset = pd.concat([my_dataset, df_2011])"
   ]
  },
  {
   "cell_type": "markdown",
   "id": "5c2c2c90",
   "metadata": {},
   "source": [
    "## 2eme import (update)"
   ]
  },
  {
   "cell_type": "code",
   "execution_count": 10,
   "id": "c8e6a7fc",
   "metadata": {},
   "outputs": [],
   "source": [
    "# chargement des données 2012\n",
    "\n",
    "# doublons -> update (on conserve 2012)\n",
    "to_update = my_dataset[my_dataset['cnit'].isin(df_2012['cnit'])]\n",
    "\n",
    "# suppression des index de my_dataset qui contiennent le même cnit que 2012\n",
    "my_dataset = my_dataset.drop(index=to_update.index)\n",
    "\n",
    "# ajout des données de 2012\n",
    "my_dataset = pd.concat([my_dataset, df_2012])"
   ]
  },
  {
   "cell_type": "code",
   "execution_count": 11,
   "id": "87ff801d",
   "metadata": {},
   "outputs": [
    {
     "name": "stdout",
     "output_type": "stream",
     "text": [
      "<class 'pandas.core.frame.DataFrame'>\n",
      "Int64Index: 70078 entries, 0 to 40051\n",
      "Data columns (total 21 columns):\n",
      " #   Column       Non-Null Count  Dtype  \n",
      "---  ------       --------------  -----  \n",
      " 0   cnit         70078 non-null  object \n",
      " 1   mine         70078 non-null  object \n",
      " 2   marque       70078 non-null  object \n",
      " 3   modele       70078 non-null  object \n",
      " 4   dscom        70078 non-null  object \n",
      " 5   carburant    70078 non-null  object \n",
      " 6   hybride      39593 non-null  object \n",
      " 7   puiss_admin  70078 non-null  float64\n",
      " 8   puiss_max    70078 non-null  float64\n",
      " 9   boite_v      70078 non-null  object \n",
      " 10  conso_urb    70008 non-null  object \n",
      " 11  conso_exurb  70008 non-null  object \n",
      " 12  conso_mixte  70011 non-null  object \n",
      " 13  masse_v_min  0 non-null      float64\n",
      " 14  masse_v_max  0 non-null      float64\n",
      " 15  co2          70011 non-null  float64\n",
      " 16  co_typ_1     39483 non-null  object \n",
      " 17  hc           8077 non-null   object \n",
      " 18  nox          39483 non-null  object \n",
      " 19  hcnox        31463 non-null  object \n",
      " 20  particules   37079 non-null  object \n",
      "dtypes: float64(5), object(16)\n",
      "memory usage: 11.8+ MB\n"
     ]
    }
   ],
   "source": [
    "my_dataset.info()"
   ]
  },
  {
   "cell_type": "markdown",
   "id": "f398431a",
   "metadata": {},
   "source": [
    "## export Dataset"
   ]
  },
  {
   "cell_type": "code",
   "execution_count": 13,
   "id": "9a7e7c96",
   "metadata": {},
   "outputs": [],
   "source": [
    "my_dataset.to_csv('my_dataset.csv', index=False)\n"
   ]
  }
 ],
 "metadata": {
  "kernelspec": {
   "display_name": "Python 3 (ipykernel)",
   "language": "python",
   "name": "python3"
  },
  "language_info": {
   "codemirror_mode": {
    "name": "ipython",
    "version": 3
   },
   "file_extension": ".py",
   "mimetype": "text/x-python",
   "name": "python",
   "nbconvert_exporter": "python",
   "pygments_lexer": "ipython3",
   "version": "3.10.6"
  }
 },
 "nbformat": 4,
 "nbformat_minor": 5
}
